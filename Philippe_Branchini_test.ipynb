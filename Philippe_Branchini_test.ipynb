{
 "cells": [
  {
   "cell_type": "code",
   "execution_count": 67,
   "metadata": {},
   "outputs": [],
   "source": [
    "import numpy as np\n",
    "import pandas as pd\n",
    "import matplotlib.pyplot as plt\n",
    "%matplotlib inline"
   ]
  },
  {
   "cell_type": "markdown",
   "metadata": {},
   "source": [
    "### Importation et analyse des données"
   ]
  },
  {
   "cell_type": "code",
   "execution_count": 68,
   "metadata": {},
   "outputs": [],
   "source": [
    "data = pd.read_csv('letters.csv')"
   ]
  },
  {
   "cell_type": "code",
   "execution_count": 69,
   "metadata": {},
   "outputs": [
    {
     "data": {
      "text/html": [
       "<div>\n",
       "<style scoped>\n",
       "    .dataframe tbody tr th:only-of-type {\n",
       "        vertical-align: middle;\n",
       "    }\n",
       "\n",
       "    .dataframe tbody tr th {\n",
       "        vertical-align: top;\n",
       "    }\n",
       "\n",
       "    .dataframe thead th {\n",
       "        text-align: right;\n",
       "    }\n",
       "</style>\n",
       "<table border=\"1\" class=\"dataframe\">\n",
       "  <thead>\n",
       "    <tr style=\"text-align: right;\">\n",
       "      <th></th>\n",
       "      <th>pixel_1</th>\n",
       "      <th>pixel_2</th>\n",
       "      <th>pixel_3</th>\n",
       "      <th>pixel_4</th>\n",
       "      <th>pixel_5</th>\n",
       "      <th>pixel_6</th>\n",
       "      <th>pixel_7</th>\n",
       "      <th>pixel_8</th>\n",
       "      <th>pixel_9</th>\n",
       "      <th>pixel_10</th>\n",
       "      <th>...</th>\n",
       "      <th>pixel_776</th>\n",
       "      <th>pixel_777</th>\n",
       "      <th>pixel_778</th>\n",
       "      <th>pixel_779</th>\n",
       "      <th>pixel_780</th>\n",
       "      <th>pixel_781</th>\n",
       "      <th>pixel_782</th>\n",
       "      <th>pixel_783</th>\n",
       "      <th>pixel_784</th>\n",
       "      <th>label</th>\n",
       "    </tr>\n",
       "  </thead>\n",
       "  <tbody>\n",
       "    <tr>\n",
       "      <th>0</th>\n",
       "      <td>1.0</td>\n",
       "      <td>1.0</td>\n",
       "      <td>1.0</td>\n",
       "      <td>0.910714</td>\n",
       "      <td>0.285714</td>\n",
       "      <td>0.229592</td>\n",
       "      <td>0.0</td>\n",
       "      <td>0.0</td>\n",
       "      <td>0.0</td>\n",
       "      <td>0.000000</td>\n",
       "      <td>...</td>\n",
       "      <td>1.0</td>\n",
       "      <td>1.000000</td>\n",
       "      <td>1.000</td>\n",
       "      <td>1.0000</td>\n",
       "      <td>0.400510</td>\n",
       "      <td>0.035714</td>\n",
       "      <td>0.000</td>\n",
       "      <td>0.000</td>\n",
       "      <td>0.000</td>\n",
       "      <td>2</td>\n",
       "    </tr>\n",
       "    <tr>\n",
       "      <th>1</th>\n",
       "      <td>0.0</td>\n",
       "      <td>0.0</td>\n",
       "      <td>0.0</td>\n",
       "      <td>0.000000</td>\n",
       "      <td>0.044643</td>\n",
       "      <td>0.098214</td>\n",
       "      <td>0.0</td>\n",
       "      <td>0.0</td>\n",
       "      <td>0.0</td>\n",
       "      <td>0.000000</td>\n",
       "      <td>...</td>\n",
       "      <td>1.0</td>\n",
       "      <td>1.000000</td>\n",
       "      <td>1.000</td>\n",
       "      <td>0.3125</td>\n",
       "      <td>0.044643</td>\n",
       "      <td>0.000000</td>\n",
       "      <td>0.000</td>\n",
       "      <td>0.000</td>\n",
       "      <td>0.000</td>\n",
       "      <td>2</td>\n",
       "    </tr>\n",
       "    <tr>\n",
       "      <th>2</th>\n",
       "      <td>0.0</td>\n",
       "      <td>0.0</td>\n",
       "      <td>0.0</td>\n",
       "      <td>0.000000</td>\n",
       "      <td>0.000000</td>\n",
       "      <td>0.000000</td>\n",
       "      <td>0.0</td>\n",
       "      <td>0.0</td>\n",
       "      <td>0.0</td>\n",
       "      <td>0.109056</td>\n",
       "      <td>...</td>\n",
       "      <td>1.0</td>\n",
       "      <td>0.267857</td>\n",
       "      <td>0.000</td>\n",
       "      <td>0.0000</td>\n",
       "      <td>0.000000</td>\n",
       "      <td>0.000000</td>\n",
       "      <td>0.000</td>\n",
       "      <td>0.000</td>\n",
       "      <td>0.000</td>\n",
       "      <td>G</td>\n",
       "    </tr>\n",
       "    <tr>\n",
       "      <th>3</th>\n",
       "      <td>0.0</td>\n",
       "      <td>0.0</td>\n",
       "      <td>0.0</td>\n",
       "      <td>0.000000</td>\n",
       "      <td>0.000000</td>\n",
       "      <td>0.000000</td>\n",
       "      <td>0.0</td>\n",
       "      <td>0.0</td>\n",
       "      <td>0.0</td>\n",
       "      <td>0.000000</td>\n",
       "      <td>...</td>\n",
       "      <td>1.0</td>\n",
       "      <td>1.000000</td>\n",
       "      <td>1.000</td>\n",
       "      <td>1.0000</td>\n",
       "      <td>1.000000</td>\n",
       "      <td>1.000000</td>\n",
       "      <td>1.000</td>\n",
       "      <td>1.000</td>\n",
       "      <td>1.000</td>\n",
       "      <td>2</td>\n",
       "    </tr>\n",
       "    <tr>\n",
       "      <th>4</th>\n",
       "      <td>0.0</td>\n",
       "      <td>0.0</td>\n",
       "      <td>0.0</td>\n",
       "      <td>0.000000</td>\n",
       "      <td>0.000000</td>\n",
       "      <td>0.000000</td>\n",
       "      <td>0.0</td>\n",
       "      <td>0.0</td>\n",
       "      <td>0.0</td>\n",
       "      <td>0.000000</td>\n",
       "      <td>...</td>\n",
       "      <td>1.0</td>\n",
       "      <td>0.125000</td>\n",
       "      <td>0.125</td>\n",
       "      <td>0.1250</td>\n",
       "      <td>0.125000</td>\n",
       "      <td>0.125000</td>\n",
       "      <td>0.125</td>\n",
       "      <td>0.125</td>\n",
       "      <td>0.125</td>\n",
       "      <td>G</td>\n",
       "    </tr>\n",
       "  </tbody>\n",
       "</table>\n",
       "<p>5 rows × 785 columns</p>\n",
       "</div>"
      ],
      "text/plain": [
       "   pixel_1  pixel_2  pixel_3   pixel_4   pixel_5   pixel_6  pixel_7  pixel_8  \\\n",
       "0      1.0      1.0      1.0  0.910714  0.285714  0.229592      0.0      0.0   \n",
       "1      0.0      0.0      0.0  0.000000  0.044643  0.098214      0.0      0.0   \n",
       "2      0.0      0.0      0.0  0.000000  0.000000  0.000000      0.0      0.0   \n",
       "3      0.0      0.0      0.0  0.000000  0.000000  0.000000      0.0      0.0   \n",
       "4      0.0      0.0      0.0  0.000000  0.000000  0.000000      0.0      0.0   \n",
       "\n",
       "   pixel_9  pixel_10  ...    pixel_776  pixel_777  pixel_778  pixel_779  \\\n",
       "0      0.0  0.000000  ...          1.0   1.000000      1.000     1.0000   \n",
       "1      0.0  0.000000  ...          1.0   1.000000      1.000     0.3125   \n",
       "2      0.0  0.109056  ...          1.0   0.267857      0.000     0.0000   \n",
       "3      0.0  0.000000  ...          1.0   1.000000      1.000     1.0000   \n",
       "4      0.0  0.000000  ...          1.0   0.125000      0.125     0.1250   \n",
       "\n",
       "   pixel_780  pixel_781  pixel_782  pixel_783  pixel_784  label  \n",
       "0   0.400510   0.035714      0.000      0.000      0.000      2  \n",
       "1   0.044643   0.000000      0.000      0.000      0.000      2  \n",
       "2   0.000000   0.000000      0.000      0.000      0.000      G  \n",
       "3   1.000000   1.000000      1.000      1.000      1.000      2  \n",
       "4   0.125000   0.125000      0.125      0.125      0.125      G  \n",
       "\n",
       "[5 rows x 785 columns]"
      ]
     },
     "execution_count": 69,
     "metadata": {},
     "output_type": "execute_result"
    }
   ],
   "source": [
    "data.head()"
   ]
  },
  {
   "cell_type": "code",
   "execution_count": 70,
   "metadata": {},
   "outputs": [
    {
     "name": "stdout",
     "output_type": "stream",
     "text": [
      "<class 'pandas.core.frame.DataFrame'>\n",
      "RangeIndex: 10035 entries, 0 to 10034\n",
      "Columns: 785 entries, pixel_1 to label\n",
      "dtypes: float64(784), object(1)\n",
      "memory usage: 60.1+ MB\n"
     ]
    }
   ],
   "source": [
    "data.info()"
   ]
  },
  {
   "cell_type": "markdown",
   "metadata": {},
   "source": [
    "On voit qu'il y a 32 classes différentes dans l'ensemble de données"
   ]
  },
  {
   "cell_type": "code",
   "execution_count": 71,
   "metadata": {},
   "outputs": [
    {
     "data": {
      "text/plain": [
       "32"
      ]
     },
     "execution_count": 71,
     "metadata": {},
     "output_type": "execute_result"
    }
   ],
   "source": [
    "len(data['label'].unique())"
   ]
  },
  {
   "cell_type": "code",
   "execution_count": 72,
   "metadata": {},
   "outputs": [
    {
     "data": {
      "text/plain": [
       "array(['2', '3', '4', '5', '6', '7', '8', '9', 'A', 'B', 'C', 'D', 'E',\n",
       "       'F', 'G', 'H', 'J', 'K', 'L', 'M', 'N', 'P', 'Q', 'R', 'S', 'T',\n",
       "       'U', 'V', 'W', 'X', 'Y', 'Z'], dtype=object)"
      ]
     },
     "execution_count": 72,
     "metadata": {},
     "output_type": "execute_result"
    }
   ],
   "source": [
    "np.sort(data['label'].unique())"
   ]
  },
  {
   "cell_type": "markdown",
   "metadata": {},
   "source": [
    "Création d'un dictionnaire qui servira à faire le 'mapping' pour transformer tout les étiquettes en chiffres puisque les algorithmes prédisent des chiffres.\n",
    "Il sera donc plus facile faire des analyses par la suite si on a des séries conséquentes."
   ]
  },
  {
   "cell_type": "code",
   "execution_count": 73,
   "metadata": {},
   "outputs": [
    {
     "name": "stdout",
     "output_type": "stream",
     "text": [
      "{'2': 0, '3': 1, '4': 2, '5': 3, '6': 4, '7': 5, '8': 6, '9': 7, 'A': 8, 'B': 9, 'C': 10, 'D': 11, 'E': 12, 'F': 13, 'G': 14, 'H': 15, 'J': 16, 'K': 17, 'L': 18, 'M': 19, 'N': 20, 'P': 21, 'Q': 22, 'R': 23, 'S': 24, 'T': 25, 'U': 26, 'V': 27, 'W': 28, 'X': 29, 'Y': 30, 'Z': 31}\n"
     ]
    }
   ],
   "source": [
    "label_mapping = {}\n",
    "counter = 0\n",
    "for label in np.sort(data['label'].unique()):\n",
    "    label_mapping[label] = counter\n",
    "    counter += 1\n",
    "\n",
    "print(label_mapping)"
   ]
  },
  {
   "cell_type": "code",
   "execution_count": 74,
   "metadata": {},
   "outputs": [
    {
     "name": "stdout",
     "output_type": "stream",
     "text": [
      "{0: '2', 1: '3', 2: '4', 3: '5', 4: '6', 5: '7', 6: '8', 7: '9', 8: 'A', 9: 'B', 10: 'C', 11: 'D', 12: 'E', 13: 'F', 14: 'G', 15: 'H', 16: 'J', 17: 'K', 18: 'L', 19: 'M', 20: 'N', 21: 'P', 22: 'Q', 23: 'R', 24: 'S', 25: 'T', 26: 'U', 27: 'V', 28: 'W', 29: 'X', 30: 'Y', 31: 'Z'}\n"
     ]
    }
   ],
   "source": [
    "label_mapping_inversed = {v: k for k, v in label_mapping.items()}\n",
    "print(label_mapping_inversed )"
   ]
  },
  {
   "cell_type": "markdown",
   "metadata": {},
   "source": [
    "Regardons combien de chacun des caractères nous avons dans l'ensemble de données.\n",
    "On voit que nous n'avons pas le même nombre d'image pour chacun des caractères.\n",
    "Il sera donc préférable, lors de la séparation des données, de prendre cela en considération."
   ]
  },
  {
   "cell_type": "code",
   "execution_count": 75,
   "metadata": {},
   "outputs": [],
   "source": [
    "valueCounts = pd.DataFrame(data['label'].value_counts())"
   ]
  },
  {
   "cell_type": "code",
   "execution_count": 76,
   "metadata": {},
   "outputs": [],
   "source": [
    "valueCounts = valueCounts.sort_values(by='label', ascending=False)"
   ]
  },
  {
   "cell_type": "code",
   "execution_count": 77,
   "metadata": {},
   "outputs": [
    {
     "data": {
      "text/html": [
       "<div>\n",
       "<style scoped>\n",
       "    .dataframe tbody tr th:only-of-type {\n",
       "        vertical-align: middle;\n",
       "    }\n",
       "\n",
       "    .dataframe tbody tr th {\n",
       "        vertical-align: top;\n",
       "    }\n",
       "\n",
       "    .dataframe thead th {\n",
       "        text-align: right;\n",
       "    }\n",
       "</style>\n",
       "<table border=\"1\" class=\"dataframe\">\n",
       "  <thead>\n",
       "    <tr style=\"text-align: right;\">\n",
       "      <th></th>\n",
       "      <th>label</th>\n",
       "    </tr>\n",
       "  </thead>\n",
       "  <tbody>\n",
       "    <tr>\n",
       "      <th>5</th>\n",
       "      <td>346</td>\n",
       "    </tr>\n",
       "    <tr>\n",
       "      <th>E</th>\n",
       "      <td>342</td>\n",
       "    </tr>\n",
       "    <tr>\n",
       "      <th>W</th>\n",
       "      <td>334</td>\n",
       "    </tr>\n",
       "    <tr>\n",
       "      <th>Y</th>\n",
       "      <td>331</td>\n",
       "    </tr>\n",
       "    <tr>\n",
       "      <th>X</th>\n",
       "      <td>327</td>\n",
       "    </tr>\n",
       "    <tr>\n",
       "      <th>N</th>\n",
       "      <td>327</td>\n",
       "    </tr>\n",
       "    <tr>\n",
       "      <th>8</th>\n",
       "      <td>326</td>\n",
       "    </tr>\n",
       "    <tr>\n",
       "      <th>L</th>\n",
       "      <td>325</td>\n",
       "    </tr>\n",
       "    <tr>\n",
       "      <th>R</th>\n",
       "      <td>325</td>\n",
       "    </tr>\n",
       "    <tr>\n",
       "      <th>Q</th>\n",
       "      <td>323</td>\n",
       "    </tr>\n",
       "    <tr>\n",
       "      <th>G</th>\n",
       "      <td>323</td>\n",
       "    </tr>\n",
       "    <tr>\n",
       "      <th>3</th>\n",
       "      <td>321</td>\n",
       "    </tr>\n",
       "    <tr>\n",
       "      <th>S</th>\n",
       "      <td>321</td>\n",
       "    </tr>\n",
       "    <tr>\n",
       "      <th>2</th>\n",
       "      <td>319</td>\n",
       "    </tr>\n",
       "    <tr>\n",
       "      <th>4</th>\n",
       "      <td>319</td>\n",
       "    </tr>\n",
       "    <tr>\n",
       "      <th>K</th>\n",
       "      <td>316</td>\n",
       "    </tr>\n",
       "    <tr>\n",
       "      <th>V</th>\n",
       "      <td>316</td>\n",
       "    </tr>\n",
       "    <tr>\n",
       "      <th>Z</th>\n",
       "      <td>315</td>\n",
       "    </tr>\n",
       "    <tr>\n",
       "      <th>P</th>\n",
       "      <td>313</td>\n",
       "    </tr>\n",
       "    <tr>\n",
       "      <th>F</th>\n",
       "      <td>311</td>\n",
       "    </tr>\n",
       "    <tr>\n",
       "      <th>H</th>\n",
       "      <td>307</td>\n",
       "    </tr>\n",
       "    <tr>\n",
       "      <th>A</th>\n",
       "      <td>306</td>\n",
       "    </tr>\n",
       "    <tr>\n",
       "      <th>9</th>\n",
       "      <td>306</td>\n",
       "    </tr>\n",
       "    <tr>\n",
       "      <th>D</th>\n",
       "      <td>302</td>\n",
       "    </tr>\n",
       "    <tr>\n",
       "      <th>U</th>\n",
       "      <td>302</td>\n",
       "    </tr>\n",
       "    <tr>\n",
       "      <th>T</th>\n",
       "      <td>301</td>\n",
       "    </tr>\n",
       "    <tr>\n",
       "      <th>J</th>\n",
       "      <td>296</td>\n",
       "    </tr>\n",
       "    <tr>\n",
       "      <th>7</th>\n",
       "      <td>293</td>\n",
       "    </tr>\n",
       "    <tr>\n",
       "      <th>C</th>\n",
       "      <td>291</td>\n",
       "    </tr>\n",
       "    <tr>\n",
       "      <th>6</th>\n",
       "      <td>287</td>\n",
       "    </tr>\n",
       "    <tr>\n",
       "      <th>M</th>\n",
       "      <td>286</td>\n",
       "    </tr>\n",
       "    <tr>\n",
       "      <th>B</th>\n",
       "      <td>278</td>\n",
       "    </tr>\n",
       "  </tbody>\n",
       "</table>\n",
       "</div>"
      ],
      "text/plain": [
       "   label\n",
       "5    346\n",
       "E    342\n",
       "W    334\n",
       "Y    331\n",
       "X    327\n",
       "N    327\n",
       "8    326\n",
       "L    325\n",
       "R    325\n",
       "Q    323\n",
       "G    323\n",
       "3    321\n",
       "S    321\n",
       "2    319\n",
       "4    319\n",
       "K    316\n",
       "V    316\n",
       "Z    315\n",
       "P    313\n",
       "F    311\n",
       "H    307\n",
       "A    306\n",
       "9    306\n",
       "D    302\n",
       "U    302\n",
       "T    301\n",
       "J    296\n",
       "7    293\n",
       "C    291\n",
       "6    287\n",
       "M    286\n",
       "B    278"
      ]
     },
     "execution_count": 77,
     "metadata": {},
     "output_type": "execute_result"
    }
   ],
   "source": [
    "valueCounts"
   ]
  },
  {
   "cell_type": "code",
   "execution_count": 78,
   "metadata": {},
   "outputs": [
    {
     "data": {
      "text/html": [
       "<div>\n",
       "<style scoped>\n",
       "    .dataframe tbody tr th:only-of-type {\n",
       "        vertical-align: middle;\n",
       "    }\n",
       "\n",
       "    .dataframe tbody tr th {\n",
       "        vertical-align: top;\n",
       "    }\n",
       "\n",
       "    .dataframe thead th {\n",
       "        text-align: right;\n",
       "    }\n",
       "</style>\n",
       "<table border=\"1\" class=\"dataframe\">\n",
       "  <thead>\n",
       "    <tr style=\"text-align: right;\">\n",
       "      <th></th>\n",
       "      <th>label</th>\n",
       "    </tr>\n",
       "  </thead>\n",
       "  <tbody>\n",
       "    <tr>\n",
       "      <th>5</th>\n",
       "      <td>0.034479</td>\n",
       "    </tr>\n",
       "    <tr>\n",
       "      <th>E</th>\n",
       "      <td>0.034081</td>\n",
       "    </tr>\n",
       "    <tr>\n",
       "      <th>W</th>\n",
       "      <td>0.033284</td>\n",
       "    </tr>\n",
       "    <tr>\n",
       "      <th>Y</th>\n",
       "      <td>0.032985</td>\n",
       "    </tr>\n",
       "    <tr>\n",
       "      <th>X</th>\n",
       "      <td>0.032586</td>\n",
       "    </tr>\n",
       "    <tr>\n",
       "      <th>N</th>\n",
       "      <td>0.032586</td>\n",
       "    </tr>\n",
       "    <tr>\n",
       "      <th>8</th>\n",
       "      <td>0.032486</td>\n",
       "    </tr>\n",
       "    <tr>\n",
       "      <th>L</th>\n",
       "      <td>0.032387</td>\n",
       "    </tr>\n",
       "    <tr>\n",
       "      <th>R</th>\n",
       "      <td>0.032387</td>\n",
       "    </tr>\n",
       "    <tr>\n",
       "      <th>Q</th>\n",
       "      <td>0.032187</td>\n",
       "    </tr>\n",
       "    <tr>\n",
       "      <th>G</th>\n",
       "      <td>0.032187</td>\n",
       "    </tr>\n",
       "    <tr>\n",
       "      <th>3</th>\n",
       "      <td>0.031988</td>\n",
       "    </tr>\n",
       "    <tr>\n",
       "      <th>S</th>\n",
       "      <td>0.031988</td>\n",
       "    </tr>\n",
       "    <tr>\n",
       "      <th>2</th>\n",
       "      <td>0.031789</td>\n",
       "    </tr>\n",
       "    <tr>\n",
       "      <th>4</th>\n",
       "      <td>0.031789</td>\n",
       "    </tr>\n",
       "    <tr>\n",
       "      <th>K</th>\n",
       "      <td>0.031490</td>\n",
       "    </tr>\n",
       "    <tr>\n",
       "      <th>V</th>\n",
       "      <td>0.031490</td>\n",
       "    </tr>\n",
       "    <tr>\n",
       "      <th>Z</th>\n",
       "      <td>0.031390</td>\n",
       "    </tr>\n",
       "    <tr>\n",
       "      <th>P</th>\n",
       "      <td>0.031191</td>\n",
       "    </tr>\n",
       "    <tr>\n",
       "      <th>F</th>\n",
       "      <td>0.030992</td>\n",
       "    </tr>\n",
       "    <tr>\n",
       "      <th>H</th>\n",
       "      <td>0.030593</td>\n",
       "    </tr>\n",
       "    <tr>\n",
       "      <th>A</th>\n",
       "      <td>0.030493</td>\n",
       "    </tr>\n",
       "    <tr>\n",
       "      <th>9</th>\n",
       "      <td>0.030493</td>\n",
       "    </tr>\n",
       "    <tr>\n",
       "      <th>D</th>\n",
       "      <td>0.030095</td>\n",
       "    </tr>\n",
       "    <tr>\n",
       "      <th>U</th>\n",
       "      <td>0.030095</td>\n",
       "    </tr>\n",
       "    <tr>\n",
       "      <th>T</th>\n",
       "      <td>0.029995</td>\n",
       "    </tr>\n",
       "    <tr>\n",
       "      <th>J</th>\n",
       "      <td>0.029497</td>\n",
       "    </tr>\n",
       "    <tr>\n",
       "      <th>7</th>\n",
       "      <td>0.029198</td>\n",
       "    </tr>\n",
       "    <tr>\n",
       "      <th>C</th>\n",
       "      <td>0.028999</td>\n",
       "    </tr>\n",
       "    <tr>\n",
       "      <th>6</th>\n",
       "      <td>0.028600</td>\n",
       "    </tr>\n",
       "    <tr>\n",
       "      <th>M</th>\n",
       "      <td>0.028500</td>\n",
       "    </tr>\n",
       "    <tr>\n",
       "      <th>B</th>\n",
       "      <td>0.027703</td>\n",
       "    </tr>\n",
       "  </tbody>\n",
       "</table>\n",
       "</div>"
      ],
      "text/plain": [
       "      label\n",
       "5  0.034479\n",
       "E  0.034081\n",
       "W  0.033284\n",
       "Y  0.032985\n",
       "X  0.032586\n",
       "N  0.032586\n",
       "8  0.032486\n",
       "L  0.032387\n",
       "R  0.032387\n",
       "Q  0.032187\n",
       "G  0.032187\n",
       "3  0.031988\n",
       "S  0.031988\n",
       "2  0.031789\n",
       "4  0.031789\n",
       "K  0.031490\n",
       "V  0.031490\n",
       "Z  0.031390\n",
       "P  0.031191\n",
       "F  0.030992\n",
       "H  0.030593\n",
       "A  0.030493\n",
       "9  0.030493\n",
       "D  0.030095\n",
       "U  0.030095\n",
       "T  0.029995\n",
       "J  0.029497\n",
       "7  0.029198\n",
       "C  0.028999\n",
       "6  0.028600\n",
       "M  0.028500\n",
       "B  0.027703"
      ]
     },
     "execution_count": 78,
     "metadata": {},
     "output_type": "execute_result"
    }
   ],
   "source": [
    "valueCounts / len(data)"
   ]
  },
  {
   "cell_type": "markdown",
   "metadata": {},
   "source": [
    "### Séparation des données"
   ]
  },
  {
   "cell_type": "code",
   "execution_count": 79,
   "metadata": {},
   "outputs": [],
   "source": [
    "# Mapping des labels\n",
    "X = data.drop('label', axis=1)\n",
    "y = data['label'].map(label_mapping)"
   ]
  },
  {
   "cell_type": "code",
   "execution_count": 80,
   "metadata": {},
   "outputs": [],
   "source": [
    "# Puisque les classes n'ont pas le même nombre de données, j'utiliserai un Stratified shuffle split\n",
    "# afin que l'ensemble d'entrainement et l'ensemble de test aient la même distribution\n",
    "# Puisque l'ensemble de données est petit, j'utilserai 60% des données pour l'entrainement, \n",
    "# 20% pour la validation et 20% pour le test\n",
    "\n",
    "# Séparation train/test 80/20\n",
    "from sklearn.model_selection import StratifiedShuffleSplit\n",
    "\n",
    "split_test = StratifiedShuffleSplit(n_splits=1, test_size=0.2, random_state=42)\n",
    "\n",
    "for train_index, test_index in split_test.split(X,y):\n",
    "    X_train_original, X_test_original = X.iloc[train_index], X.iloc[test_index]\n",
    "    y_train_original, y_test_original = y.iloc[train_index], y.iloc[test_index]"
   ]
  },
  {
   "cell_type": "code",
   "execution_count": 81,
   "metadata": {},
   "outputs": [
    {
     "name": "stdout",
     "output_type": "stream",
     "text": [
      "(8028, 784)\n",
      "(8028,)\n",
      "(2007, 784)\n",
      "(2007,)\n"
     ]
    }
   ],
   "source": [
    "print(X_train_original.shape)\n",
    "print(y_train_original.shape)\n",
    "print(X_test_original.shape)\n",
    "print(y_test_original.shape)"
   ]
  },
  {
   "cell_type": "code",
   "execution_count": 82,
   "metadata": {},
   "outputs": [],
   "source": [
    "# Séparation train/validation 60/20\n",
    "\n",
    "split_val = StratifiedShuffleSplit(n_splits=1, test_size=0.25, random_state=42)\n",
    "\n",
    "for train_index, val_index in split_val.split(X_train_original,y_train_original):\n",
    "    X_train_original, X_val_original = X_train_original.iloc[train_index], X_train_original.iloc[val_index]\n",
    "    y_train_original, y_val_original = y_train_original.iloc[train_index], y_train_original.iloc[val_index]"
   ]
  },
  {
   "cell_type": "code",
   "execution_count": 83,
   "metadata": {},
   "outputs": [
    {
     "name": "stdout",
     "output_type": "stream",
     "text": [
      "(6021, 784)\n",
      "(6021,)\n",
      "(2007, 784)\n",
      "(2007,)\n",
      "(2007, 784)\n",
      "(2007,)\n"
     ]
    }
   ],
   "source": [
    "print(X_train_original.shape)\n",
    "print(y_train_original.shape)\n",
    "print(X_val_original.shape)\n",
    "print(y_val_original.shape)\n",
    "print(X_test_original.shape)\n",
    "print(y_test_original.shape)"
   ]
  },
  {
   "cell_type": "markdown",
   "metadata": {},
   "source": [
    "# Modélisation"
   ]
  },
  {
   "cell_type": "markdown",
   "metadata": {},
   "source": [
    "Pour ce qui est du traitement d'image, les réseaux de neurones convolutifs ont prouvé qu'ils étaient les plus performants.\n",
    "Ceux-ci sont principalement plus performant dû au fait qu'ils prennent en considération la position des objets, et donc se qui se trouve aux alentours, lors de l'ajustement des paramètres du modèle, contraitement aux modèles plus basiques qui considèrent entièrement les pixels\n",
    "d'une image. C'est pourquoi je choisis d'utiliser un réseau de neurones convolutif.\n",
    "Pour l'exercice j'ai utilisé la structure de l'algorithme LeNet-5 auquel j'ai ajouté une couche de convolution (donne de meilleurs résultats).\n",
    "Il y a certainement des structures plus complexes qui pourraient être plus performantes que celle-ci mais pour une question de temps de calcul, j'utiliserai celle-ci afin de pouvoir faire une certaine optimisation manuelle des hyperparamètres."
   ]
  },
  {
   "cell_type": "code",
   "execution_count": 84,
   "metadata": {},
   "outputs": [],
   "source": [
    "from keras import layers\n",
    "from keras import models\n",
    "from keras.optimizers import RMSprop\n",
    "from keras.preprocessing.image import ImageDataGenerator\n",
    "from sklearn.metrics import confusion_matrix"
   ]
  },
  {
   "cell_type": "code",
   "execution_count": 85,
   "metadata": {},
   "outputs": [],
   "source": [
    "# Transformer les labels en One-hot\n",
    "y_train = pd.get_dummies(y_train_original)\n",
    "y_val = pd.get_dummies(y_val_original)\n",
    "y_test = pd.get_dummies(y_test_original)"
   ]
  },
  {
   "cell_type": "code",
   "execution_count": 86,
   "metadata": {},
   "outputs": [],
   "source": [
    "# Changer les dimensions des données pour que ça fonctionne avec l'algorithme\n",
    "X_train = X_train_original.values.reshape(X_train_original.shape[0],28,28,1)\n",
    "X_val = X_val_original.values.reshape(X_val_original.shape[0],28,28,1)\n",
    "X_test = X_test_original.values.reshape(X_test_original.shape[0],28,28,1)"
   ]
  },
  {
   "cell_type": "code",
   "execution_count": 87,
   "metadata": {},
   "outputs": [
    {
     "data": {
      "text/plain": [
       "(6021, 28, 28, 1)"
      ]
     },
     "execution_count": 87,
     "metadata": {},
     "output_type": "execute_result"
    }
   ],
   "source": [
    "X_train.shape"
   ]
  },
  {
   "cell_type": "markdown",
   "metadata": {},
   "source": [
    "Paramètres : Nombre de filtres (3), taille du filtre (3), taille du pooling (2), \n",
    "             fonction d'activation (5), dropout(2), Nombre de neurones (2), optimisateur, taux d'apprentissage,\n",
    "             nombre de epochs, batch_size\n",
    "<br>\n",
    "<br>\n",
    "Nombre de filtres : (32,64,96), doit augmenter après chaque couche de convolution. Les multiples de 8,16,32 sont souvent utilisés alors j'ai tout simplement choisi cette série.\n",
    "<br>\n",
    "<br>\n",
    "taille du filtre : (3, 3), taille standard\n",
    "<br>\n",
    "<br>\n",
    "fonction d'activation : 'relu', reconnue comme étant très performante dans les CNN\n",
    "<br>\n",
    "<br>\n",
    "dropout : 0.5 et 0.5, donne les meilleurs résultats après quelques tests manuels, également une valeur standard\n",
    "<br>\n",
    "<br>\n",
    "Nombre de neurones : 64, simplement un multiple (plus élevé) que la couche d'output qui est de 32 neurones\n",
    "<br>\n",
    "<br>\n",
    "Optimisateur : RMSprop, car couramment utilisé avec les CNN\n",
    "<br>\n",
    "<br>\n",
    "taux d'apprentissage : 0.001, simplement une valeur standard pour cet hyperparamètre\n",
    "<br>\n",
    "<br>\n",
    "Nombre de epochs : 100, car \"l'accuracy\" du modèle prend beaucoup de temps avant de se stabiliser\n",
    "<br>\n",
    "<br>\n",
    "batch_size : 48, 64 overfit et 32 donne de moins bons résultats que 64\n",
    "<br>"
   ]
  },
  {
   "cell_type": "code",
   "execution_count": 88,
   "metadata": {},
   "outputs": [
    {
     "name": "stdout",
     "output_type": "stream",
     "text": [
      "Train on 6021 samples, validate on 2007 samples\n",
      "Epoch 1/100\n",
      "6021/6021 [==============================] - 6s 1ms/step - loss: 3.3430 - acc: 0.0717 - val_loss: 2.7806 - val_acc: 0.2202\n",
      "Epoch 2/100\n",
      "6021/6021 [==============================] - 5s 823us/step - loss: 2.6704 - acc: 0.2141 - val_loss: 1.9415 - val_acc: 0.4230\n",
      "Epoch 3/100\n",
      "6021/6021 [==============================] - 5s 752us/step - loss: 2.1178 - acc: 0.3572 - val_loss: 1.4756 - val_acc: 0.5984\n",
      "Epoch 4/100\n",
      "6021/6021 [==============================] - 5s 760us/step - loss: 1.7641 - acc: 0.4629 - val_loss: 1.3413 - val_acc: 0.6099\n",
      "Epoch 5/100\n",
      "6021/6021 [==============================] - 5s 791us/step - loss: 1.5570 - acc: 0.5149 - val_loss: 1.0174 - val_acc: 0.7235\n",
      "Epoch 6/100\n",
      "6021/6021 [==============================] - 4s 732us/step - loss: 1.3796 - acc: 0.5665 - val_loss: 1.1042 - val_acc: 0.6667\n",
      "Epoch 7/100\n",
      "6021/6021 [==============================] - 4s 719us/step - loss: 1.2452 - acc: 0.6112 - val_loss: 0.8319 - val_acc: 0.7643\n",
      "Epoch 8/100\n",
      "6021/6021 [==============================] - 4s 727us/step - loss: 1.1329 - acc: 0.6481 - val_loss: 0.8240 - val_acc: 0.7738\n",
      "Epoch 9/100\n",
      "6021/6021 [==============================] - 4s 739us/step - loss: 1.0284 - acc: 0.6805 - val_loss: 0.7589 - val_acc: 0.7838\n",
      "Epoch 10/100\n",
      "6021/6021 [==============================] - 4s 727us/step - loss: 0.9384 - acc: 0.7185 - val_loss: 0.6443 - val_acc: 0.8271\n",
      "Epoch 11/100\n",
      "6021/6021 [==============================] - 4s 722us/step - loss: 0.9044 - acc: 0.7281 - val_loss: 0.6805 - val_acc: 0.8102\n",
      "Epoch 12/100\n",
      "6021/6021 [==============================] - 4s 715us/step - loss: 0.8204 - acc: 0.7459 - val_loss: 0.6419 - val_acc: 0.8246\n",
      "Epoch 13/100\n",
      "6021/6021 [==============================] - 5s 748us/step - loss: 0.7791 - acc: 0.7577 - val_loss: 0.5420 - val_acc: 0.8525\n",
      "Epoch 14/100\n",
      "6021/6021 [==============================] - 4s 727us/step - loss: 0.7450 - acc: 0.7755 - val_loss: 0.5953 - val_acc: 0.8411\n",
      "Epoch 15/100\n",
      "6021/6021 [==============================] - 4s 723us/step - loss: 0.6869 - acc: 0.7872 - val_loss: 0.5340 - val_acc: 0.8610\n",
      "Epoch 16/100\n",
      "6021/6021 [==============================] - 4s 727us/step - loss: 0.6638 - acc: 0.7965 - val_loss: 0.4980 - val_acc: 0.8665\n",
      "Epoch 17/100\n",
      "6021/6021 [==============================] - 4s 743us/step - loss: 0.6257 - acc: 0.8135 - val_loss: 0.5480 - val_acc: 0.8555\n",
      "Epoch 18/100\n",
      "6021/6021 [==============================] - 4s 722us/step - loss: 0.6063 - acc: 0.8132 - val_loss: 0.5550 - val_acc: 0.8560\n",
      "Epoch 19/100\n",
      "6021/6021 [==============================] - 4s 731us/step - loss: 0.5872 - acc: 0.8261 - val_loss: 0.4944 - val_acc: 0.8744\n",
      "Epoch 20/100\n",
      "6021/6021 [==============================] - 4s 726us/step - loss: 0.5487 - acc: 0.8299 - val_loss: 0.4794 - val_acc: 0.8794\n",
      "Epoch 21/100\n",
      "6021/6021 [==============================] - 4s 732us/step - loss: 0.5503 - acc: 0.8319 - val_loss: 0.4339 - val_acc: 0.8889\n",
      "Epoch 22/100\n",
      "6021/6021 [==============================] - 4s 719us/step - loss: 0.5081 - acc: 0.8427 - val_loss: 0.5581 - val_acc: 0.8695\n",
      "Epoch 23/100\n",
      "6021/6021 [==============================] - 4s 702us/step - loss: 0.5010 - acc: 0.8520 - val_loss: 0.4313 - val_acc: 0.8954\n",
      "Epoch 24/100\n",
      "6021/6021 [==============================] - 4s 727us/step - loss: 0.4789 - acc: 0.8520 - val_loss: 0.4475 - val_acc: 0.8974\n",
      "Epoch 25/100\n",
      "6021/6021 [==============================] - 4s 713us/step - loss: 0.4645 - acc: 0.8620 - val_loss: 0.4762 - val_acc: 0.8879\n",
      "Epoch 26/100\n",
      "6021/6021 [==============================] - 4s 719us/step - loss: 0.4463 - acc: 0.8661 - val_loss: 0.4195 - val_acc: 0.9028\n",
      "Epoch 27/100\n",
      "6021/6021 [==============================] - 4s 703us/step - loss: 0.4370 - acc: 0.8656 - val_loss: 0.4228 - val_acc: 0.8974\n",
      "Epoch 28/100\n",
      "6021/6021 [==============================] - 4s 745us/step - loss: 0.4415 - acc: 0.8663 - val_loss: 0.4875 - val_acc: 0.8874\n",
      "Epoch 29/100\n",
      "6021/6021 [==============================] - 4s 715us/step - loss: 0.4163 - acc: 0.8718 - val_loss: 0.4219 - val_acc: 0.9073\n",
      "Epoch 30/100\n",
      "6021/6021 [==============================] - 4s 709us/step - loss: 0.4092 - acc: 0.8731 - val_loss: 0.3934 - val_acc: 0.9038\n",
      "Epoch 31/100\n",
      "6021/6021 [==============================] - 4s 737us/step - loss: 0.3817 - acc: 0.8836 - val_loss: 0.3926 - val_acc: 0.9118\n",
      "Epoch 32/100\n",
      "6021/6021 [==============================] - 4s 724us/step - loss: 0.4009 - acc: 0.8748 - val_loss: 0.3827 - val_acc: 0.9108\n",
      "Epoch 33/100\n",
      "6021/6021 [==============================] - 4s 717us/step - loss: 0.3827 - acc: 0.8847 - val_loss: 0.3991 - val_acc: 0.9078\n",
      "Epoch 34/100\n",
      "6021/6021 [==============================] - 4s 719us/step - loss: 0.3402 - acc: 0.8957 - val_loss: 0.4415 - val_acc: 0.9008\n",
      "Epoch 35/100\n",
      "6021/6021 [==============================] - 4s 733us/step - loss: 0.3750 - acc: 0.8889 - val_loss: 0.3853 - val_acc: 0.9038\n",
      "Epoch 36/100\n",
      "6021/6021 [==============================] - 4s 721us/step - loss: 0.3479 - acc: 0.8924 - val_loss: 0.4368 - val_acc: 0.9008\n",
      "Epoch 37/100\n",
      "6021/6021 [==============================] - 4s 718us/step - loss: 0.3593 - acc: 0.8925 - val_loss: 0.3934 - val_acc: 0.9118\n",
      "Epoch 38/100\n",
      "6021/6021 [==============================] - 4s 717us/step - loss: 0.3319 - acc: 0.8989 - val_loss: 0.4057 - val_acc: 0.9078\n",
      "Epoch 39/100\n",
      "6021/6021 [==============================] - 4s 735us/step - loss: 0.3282 - acc: 0.8997 - val_loss: 0.3900 - val_acc: 0.9078\n",
      "Epoch 40/100\n",
      "6021/6021 [==============================] - 4s 717us/step - loss: 0.3356 - acc: 0.9002 - val_loss: 0.3936 - val_acc: 0.9173\n",
      "Epoch 41/100\n",
      "6021/6021 [==============================] - 4s 720us/step - loss: 0.3186 - acc: 0.9017 - val_loss: 0.4413 - val_acc: 0.9038\n",
      "Epoch 42/100\n",
      "6021/6021 [==============================] - 4s 728us/step - loss: 0.3253 - acc: 0.8992 - val_loss: 0.4119 - val_acc: 0.9173\n",
      "Epoch 43/100\n",
      "6021/6021 [==============================] - 4s 729us/step - loss: 0.3106 - acc: 0.9050 - val_loss: 0.3758 - val_acc: 0.9128\n",
      "Epoch 44/100\n",
      "6021/6021 [==============================] - 4s 722us/step - loss: 0.2937 - acc: 0.9082 - val_loss: 0.4049 - val_acc: 0.9143\n",
      "Epoch 45/100\n",
      "6021/6021 [==============================] - 4s 723us/step - loss: 0.2771 - acc: 0.9140 - val_loss: 0.4074 - val_acc: 0.9138\n",
      "Epoch 46/100\n",
      "6021/6021 [==============================] - 4s 735us/step - loss: 0.2948 - acc: 0.9113 - val_loss: 0.3676 - val_acc: 0.9228\n",
      "Epoch 47/100\n",
      "6021/6021 [==============================] - 4s 718us/step - loss: 0.2858 - acc: 0.9150 - val_loss: 0.3776 - val_acc: 0.9208\n",
      "Epoch 48/100\n",
      "6021/6021 [==============================] - 4s 708us/step - loss: 0.2835 - acc: 0.9121 - val_loss: 0.4092 - val_acc: 0.9148\n",
      "Epoch 49/100\n",
      "6021/6021 [==============================] - 4s 714us/step - loss: 0.2824 - acc: 0.9146 - val_loss: 0.5034 - val_acc: 0.8999\n",
      "Epoch 50/100\n",
      "6021/6021 [==============================] - 4s 734us/step - loss: 0.2772 - acc: 0.9135 - val_loss: 0.4050 - val_acc: 0.9163\n",
      "Epoch 51/100\n",
      "6021/6021 [==============================] - 4s 718us/step - loss: 0.2737 - acc: 0.9146 - val_loss: 0.3970 - val_acc: 0.9098\n",
      "Epoch 52/100\n",
      "6021/6021 [==============================] - 4s 716us/step - loss: 0.2731 - acc: 0.9153 - val_loss: 0.4148 - val_acc: 0.9183\n",
      "Epoch 53/100\n",
      "6021/6021 [==============================] - 4s 722us/step - loss: 0.2711 - acc: 0.9171 - val_loss: 0.4119 - val_acc: 0.9123\n",
      "Epoch 54/100\n",
      "6021/6021 [==============================] - 4s 724us/step - loss: 0.2576 - acc: 0.9214 - val_loss: 0.4118 - val_acc: 0.9213\n",
      "Epoch 55/100\n",
      "6021/6021 [==============================] - 4s 706us/step - loss: 0.2557 - acc: 0.9228 - val_loss: 0.3646 - val_acc: 0.9138\n",
      "Epoch 56/100\n",
      "6021/6021 [==============================] - 4s 711us/step - loss: 0.2457 - acc: 0.9273 - val_loss: 0.3885 - val_acc: 0.9148\n",
      "Epoch 57/100\n",
      "6021/6021 [==============================] - 4s 739us/step - loss: 0.2620 - acc: 0.9219 - val_loss: 0.4629 - val_acc: 0.9083\n",
      "Epoch 58/100\n",
      "6021/6021 [==============================] - 4s 719us/step - loss: 0.2416 - acc: 0.9284 - val_loss: 0.3589 - val_acc: 0.9223\n",
      "Epoch 59/100\n",
      "6021/6021 [==============================] - 4s 717us/step - loss: 0.2621 - acc: 0.9229 - val_loss: 0.4246 - val_acc: 0.9118\n",
      "Epoch 60/100\n"
     ]
    },
    {
     "name": "stdout",
     "output_type": "stream",
     "text": [
      "6021/6021 [==============================] - 4s 694us/step - loss: 0.2403 - acc: 0.9246 - val_loss: 0.4321 - val_acc: 0.9153\n",
      "Epoch 61/100\n",
      "6021/6021 [==============================] - 4s 718us/step - loss: 0.2531 - acc: 0.9243 - val_loss: 0.3928 - val_acc: 0.9198\n",
      "Epoch 62/100\n",
      "6021/6021 [==============================] - 4s 694us/step - loss: 0.2433 - acc: 0.9263 - val_loss: 0.4033 - val_acc: 0.9153\n",
      "Epoch 63/100\n",
      "6021/6021 [==============================] - 4s 706us/step - loss: 0.2475 - acc: 0.9258 - val_loss: 0.3873 - val_acc: 0.9193\n",
      "Epoch 64/100\n",
      "6021/6021 [==============================] - 4s 698us/step - loss: 0.2364 - acc: 0.9291 - val_loss: 0.3914 - val_acc: 0.9213\n",
      "Epoch 65/100\n",
      "6021/6021 [==============================] - 4s 721us/step - loss: 0.2396 - acc: 0.9248 - val_loss: 0.4121 - val_acc: 0.9008\n",
      "Epoch 66/100\n",
      "6021/6021 [==============================] - 4s 702us/step - loss: 0.2432 - acc: 0.9269 - val_loss: 0.3721 - val_acc: 0.9228\n",
      "Epoch 67/100\n",
      "6021/6021 [==============================] - 4s 697us/step - loss: 0.2265 - acc: 0.9301 - val_loss: 0.4194 - val_acc: 0.9168\n",
      "Epoch 68/100\n",
      "6021/6021 [==============================] - 4s 718us/step - loss: 0.2210 - acc: 0.9352 - val_loss: 0.4064 - val_acc: 0.9108\n",
      "Epoch 69/100\n",
      "6021/6021 [==============================] - 4s 706us/step - loss: 0.2096 - acc: 0.9372 - val_loss: 0.4188 - val_acc: 0.9218\n",
      "Epoch 70/100\n",
      "6021/6021 [==============================] - 4s 697us/step - loss: 0.2343 - acc: 0.9291 - val_loss: 0.4076 - val_acc: 0.9188\n",
      "Epoch 71/100\n",
      "6021/6021 [==============================] - 4s 703us/step - loss: 0.2269 - acc: 0.9307 - val_loss: 0.3736 - val_acc: 0.9228\n",
      "Epoch 72/100\n",
      "6021/6021 [==============================] - 4s 720us/step - loss: 0.2417 - acc: 0.9273 - val_loss: 0.4000 - val_acc: 0.9253\n",
      "Epoch 73/100\n",
      "6021/6021 [==============================] - 4s 702us/step - loss: 0.2269 - acc: 0.9349 - val_loss: 0.4008 - val_acc: 0.9223\n",
      "Epoch 74/100\n",
      "6021/6021 [==============================] - 4s 704us/step - loss: 0.2283 - acc: 0.9366 - val_loss: 0.4881 - val_acc: 0.9098\n",
      "Epoch 75/100\n",
      "6021/6021 [==============================] - 4s 706us/step - loss: 0.2369 - acc: 0.9326 - val_loss: 0.4421 - val_acc: 0.9113\n",
      "Epoch 76/100\n",
      "6021/6021 [==============================] - 4s 724us/step - loss: 0.2266 - acc: 0.9354 - val_loss: 0.4230 - val_acc: 0.9128\n",
      "Epoch 77/100\n",
      "6021/6021 [==============================] - 4s 698us/step - loss: 0.2205 - acc: 0.9351 - val_loss: 0.4139 - val_acc: 0.9093\n",
      "Epoch 78/100\n",
      "6021/6021 [==============================] - 4s 716us/step - loss: 0.2175 - acc: 0.9352 - val_loss: 0.4788 - val_acc: 0.9188\n",
      "Epoch 79/100\n",
      "6021/6021 [==============================] - 4s 700us/step - loss: 0.2264 - acc: 0.9327 - val_loss: 0.4450 - val_acc: 0.9238\n",
      "Epoch 80/100\n",
      "6021/6021 [==============================] - 4s 728us/step - loss: 0.2192 - acc: 0.9354 - val_loss: 0.3831 - val_acc: 0.9243\n",
      "Epoch 81/100\n",
      "6021/6021 [==============================] - 4s 703us/step - loss: 0.2082 - acc: 0.9389 - val_loss: 0.5175 - val_acc: 0.9148\n",
      "Epoch 82/100\n",
      "6021/6021 [==============================] - 4s 703us/step - loss: 0.2322 - acc: 0.9304 - val_loss: 0.4271 - val_acc: 0.9133\n",
      "Epoch 83/100\n",
      "6021/6021 [==============================] - 4s 722us/step - loss: 0.2190 - acc: 0.9366 - val_loss: 0.3981 - val_acc: 0.9188\n",
      "Epoch 84/100\n",
      "6021/6021 [==============================] - 4s 716us/step - loss: 0.2270 - acc: 0.9366 - val_loss: 0.4492 - val_acc: 0.9233\n",
      "Epoch 85/100\n",
      "6021/6021 [==============================] - 4s 706us/step - loss: 0.2025 - acc: 0.9417 - val_loss: 0.4988 - val_acc: 0.9253\n",
      "Epoch 86/100\n",
      "6021/6021 [==============================] - 4s 706us/step - loss: 0.2049 - acc: 0.9410 - val_loss: 0.4092 - val_acc: 0.9198\n",
      "Epoch 87/100\n",
      "6021/6021 [==============================] - 4s 720us/step - loss: 0.2064 - acc: 0.9352 - val_loss: 0.4364 - val_acc: 0.9143\n",
      "Epoch 88/100\n",
      "6021/6021 [==============================] - 4s 708us/step - loss: 0.2159 - acc: 0.9366 - val_loss: 0.3854 - val_acc: 0.9243\n",
      "Epoch 89/100\n",
      "6021/6021 [==============================] - 4s 707us/step - loss: 0.2009 - acc: 0.9424 - val_loss: 0.4437 - val_acc: 0.9168\n",
      "Epoch 90/100\n",
      "6021/6021 [==============================] - 4s 703us/step - loss: 0.2231 - acc: 0.9356 - val_loss: 0.4266 - val_acc: 0.9173\n",
      "Epoch 91/100\n",
      "6021/6021 [==============================] - 4s 725us/step - loss: 0.2074 - acc: 0.9419 - val_loss: 0.3989 - val_acc: 0.9178\n",
      "Epoch 92/100\n",
      "6021/6021 [==============================] - 4s 703us/step - loss: 0.2211 - acc: 0.9367 - val_loss: 0.3940 - val_acc: 0.9143\n",
      "Epoch 93/100\n",
      "6021/6021 [==============================] - 4s 702us/step - loss: 0.2136 - acc: 0.9444 - val_loss: 0.4935 - val_acc: 0.9173\n",
      "Epoch 94/100\n",
      "6021/6021 [==============================] - 4s 707us/step - loss: 0.2132 - acc: 0.9376 - val_loss: 0.4234 - val_acc: 0.9268\n",
      "Epoch 95/100\n",
      "6021/6021 [==============================] - 4s 716us/step - loss: 0.2262 - acc: 0.9344 - val_loss: 0.4892 - val_acc: 0.9168\n",
      "Epoch 96/100\n",
      "6021/6021 [==============================] - 4s 708us/step - loss: 0.2130 - acc: 0.9387 - val_loss: 0.5141 - val_acc: 0.9183\n",
      "Epoch 97/100\n",
      "6021/6021 [==============================] - 4s 713us/step - loss: 0.2131 - acc: 0.9420 - val_loss: 0.4263 - val_acc: 0.9173\n",
      "Epoch 98/100\n",
      "6021/6021 [==============================] - 4s 745us/step - loss: 0.2212 - acc: 0.9329 - val_loss: 0.5849 - val_acc: 0.9003\n",
      "Epoch 99/100\n",
      "6021/6021 [==============================] - 4s 714us/step - loss: 0.2104 - acc: 0.9384 - val_loss: 0.5163 - val_acc: 0.9153\n",
      "Epoch 100/100\n",
      "6021/6021 [==============================] - 4s 706us/step - loss: 0.2198 - acc: 0.9364 - val_loss: 0.4320 - val_acc: 0.9143\n"
     ]
    }
   ],
   "source": [
    "model = models.Sequential()\n",
    "model.add(layers.Conv2D(32, (3, 3), activation='relu', input_shape=(28, 28, 1)))\n",
    "model.add(layers.MaxPooling2D((2, 2)))\n",
    "model.add(layers.Conv2D(64, (3, 3), activation='relu'))\n",
    "model.add(layers.MaxPooling2D((2, 2)))\n",
    "model.add(layers.Conv2D(96, (3, 3), activation='relu'))\n",
    "#model.add(layers.MaxPooling2D((2, 2)))\n",
    "model.add(layers.Flatten())\n",
    "model.add(layers.Dropout(0.5))\n",
    "model.add(layers.Dense(64, activation='relu'))\n",
    "model.add(layers.Dropout(0.5))\n",
    "model.add(layers.Dense(64, activation='relu'))\n",
    "model.add(layers.Dense(32, activation='softmax'))\n",
    "\n",
    "model.compile(optimizer=RMSprop(lr=0.001),\n",
    "              loss='categorical_crossentropy',\n",
    "              metrics=['accuracy'])\n",
    "\n",
    "history = model.fit(X_train, y_train, epochs=100, batch_size=48, validation_data = (X_val, y_val), verbose=1)"
   ]
  },
  {
   "cell_type": "markdown",
   "metadata": {},
   "source": [
    "### Erreur de prédiction"
   ]
  },
  {
   "cell_type": "code",
   "execution_count": 89,
   "metadata": {},
   "outputs": [
    {
     "data": {
      "image/png": "[encoded data removed]",
      "text/plain": [
       "<Figure size 432x288 with 1 Axes>"
      ]
     },
     "metadata": {
      "needs_background": "light"
     },
     "output_type": "display_data"
    },
    {
     "data": {
      "image/png": "[encoded data removed]",
      "text/plain": [
       "<Figure size 432x288 with 1 Axes>"
      ]
     },
     "metadata": {
      "needs_background": "light"
     },
     "output_type": "display_data"
    }
   ],
   "source": [
    "acc = history.history['acc']\n",
    "val_acc = history.history['val_acc']\n",
    "loss = history.history['loss']\n",
    "val_loss = history.history['val_loss']\n",
    "\n",
    "epochs = range(len(acc))\n",
    "\n",
    "plt.plot(epochs, acc, 'bo', label='Training acc')\n",
    "plt.plot(epochs, val_acc, 'b', label='Validation acc')\n",
    "plt.title('Training and validation accuracy')\n",
    "plt.legend()\n",
    "\n",
    "plt.figure()\n",
    "\n",
    "plt.plot(epochs, loss, 'bo', label='Training loss')\n",
    "plt.plot(epochs, val_loss, 'b', label='Validation loss')\n",
    "plt.title('Training and validation loss')\n",
    "plt.legend()\n",
    "\n",
    "plt.show()"
   ]
  },
  {
   "cell_type": "code",
   "execution_count": 90,
   "metadata": {},
   "outputs": [
    {
     "name": "stdout",
     "output_type": "stream",
     "text": [
      "2007/2007 [==============================] - 0s 226us/step\n",
      "Test loss: 0.3586281709659308\n",
      "Test accuracy: 0.9207772795216741\n"
     ]
    }
   ],
   "source": [
    "# Évaluation sur l'emsemble de test\n",
    "test_loss, test_acc = model.evaluate(X_test, y_test)\n",
    "print('Test loss: {}'.format(test_loss))\n",
    "print('Test accuracy: {}'.format(test_acc))"
   ]
  },
  {
   "cell_type": "markdown",
   "metadata": {},
   "source": [
    "### Les caractères les plus souvent confondus par le modèle"
   ]
  },
  {
   "cell_type": "code",
   "execution_count": 91,
   "metadata": {},
   "outputs": [
    {
     "data": {
      "text/plain": [
       "array([ 6, 23, 15, ..., 30, 22, 11], dtype=int64)"
      ]
     },
     "execution_count": 91,
     "metadata": {},
     "output_type": "execute_result"
    }
   ],
   "source": [
    "# Prédictions des classes sur l'ensemble test\n",
    "y_test_preds = model.predict_classes(X_test)\n",
    "y_test_preds"
   ]
  },
  {
   "cell_type": "code",
   "execution_count": 92,
   "metadata": {
    "scrolled": true
   },
   "outputs": [
    {
     "data": {
      "text/plain": [
       "array([[63,  0,  0, ...,  0,  0,  0],\n",
       "       [ 0, 60,  0, ...,  0,  0,  0],\n",
       "       [ 0,  0, 61, ...,  0,  0,  0],\n",
       "       ...,\n",
       "       [ 0,  0,  1, ..., 62,  1,  0],\n",
       "       [ 0,  0,  0, ...,  0, 61,  0],\n",
       "       [ 2,  0,  0, ...,  1,  0, 51]], dtype=int64)"
      ]
     },
     "execution_count": 92,
     "metadata": {},
     "output_type": "execute_result"
    }
   ],
   "source": [
    "# Matrice de confusion\n",
    "conf_mx = confusion_matrix(y_test_original, y_test_preds)\n",
    "conf_mx "
   ]
  },
  {
   "cell_type": "code",
   "execution_count": 93,
   "metadata": {},
   "outputs": [
    {
     "data": {
      "text/plain": [
       "array([64, 64, 64, 69, 58, 59, 65, 61, 61, 56, 58, 61, 68, 62, 65, 62, 59,\n",
       "       63, 65, 57, 65, 63, 65, 65, 64, 60, 60, 63, 67, 65, 66, 63],\n",
       "      dtype=int64)"
      ]
     },
     "execution_count": 93,
     "metadata": {},
     "output_type": "execute_result"
    }
   ],
   "source": [
    "# Somme de toutes les prédictions pour chacunes des classes\n",
    "conf_mx.sum(axis=1)"
   ]
  },
  {
   "cell_type": "code",
   "execution_count": 94,
   "metadata": {},
   "outputs": [
    {
     "data": {
      "text/plain": [
       "0     64\n",
       "1     64\n",
       "2     64\n",
       "3     69\n",
       "4     58\n",
       "5     59\n",
       "6     65\n",
       "7     61\n",
       "8     61\n",
       "9     56\n",
       "10    58\n",
       "11    61\n",
       "12    68\n",
       "13    62\n",
       "14    65\n",
       "15    62\n",
       "16    59\n",
       "17    63\n",
       "18    65\n",
       "19    57\n",
       "20    65\n",
       "21    63\n",
       "22    65\n",
       "23    65\n",
       "24    64\n",
       "25    60\n",
       "26    60\n",
       "27    63\n",
       "28    67\n",
       "29    65\n",
       "30    66\n",
       "31    63\n",
       "Name: label, dtype: int64"
      ]
     },
     "execution_count": 94,
     "metadata": {},
     "output_type": "execute_result"
    }
   ],
   "source": [
    "# Pour vérifier que l'ordre des classes dans la matrice de confusion est bel et bien le même (c'est bien le cas)\n",
    "y_test_original.value_counts().sort_index(axis=0)"
   ]
  },
  {
   "cell_type": "code",
   "execution_count": 95,
   "metadata": {},
   "outputs": [
    {
     "data": {
      "text/plain": [
       "0      1\n",
       "1      4\n",
       "2      3\n",
       "3      7\n",
       "4      3\n",
       "5      6\n",
       "6      1\n",
       "7      4\n",
       "8      4\n",
       "9      1\n",
       "10     9\n",
       "11     4\n",
       "12    14\n",
       "13     5\n",
       "14     5\n",
       "15     6\n",
       "16     5\n",
       "17     1\n",
       "18    11\n",
       "19     5\n",
       "20     1\n",
       "21     4\n",
       "22     2\n",
       "23     4\n",
       "24     6\n",
       "25     4\n",
       "26     8\n",
       "27     4\n",
       "28     7\n",
       "29     3\n",
       "30     5\n",
       "31    12\n",
       "Name: label, dtype: int64"
      ]
     },
     "execution_count": 95,
     "metadata": {},
     "output_type": "execute_result"
    }
   ],
   "source": [
    "# Diagonale de la matrice de confusion: représente le nombre de fois que le modèle\n",
    "# a bien identifié chacune des classes respectives\n",
    "# Ici on voit le nombre de fois que l'algorithme a mal prédit chacune des classes\n",
    "# Les classes 10, 12, 18 et 31 (au-dessus de 15%) sont ceux dont l'algorithme a eu le plus de difficulté à prédire\n",
    "# Ces classes représentent respectivement les caractères 'C', 'E', 'L' et 'Z'\n",
    "y_test_original.value_counts().sort_index(axis=0) - conf_mx.diagonal()"
   ]
  },
  {
   "cell_type": "code",
   "execution_count": 96,
   "metadata": {},
   "outputs": [
    {
     "data": {
      "text/plain": [
       "0     0.015625\n",
       "1     0.062500\n",
       "2     0.046875\n",
       "3     0.101449\n",
       "4     0.051724\n",
       "5     0.101695\n",
       "6     0.015385\n",
       "7     0.065574\n",
       "8     0.065574\n",
       "9     0.017857\n",
       "10    0.155172\n",
       "11    0.065574\n",
       "12    0.205882\n",
       "13    0.080645\n",
       "14    0.076923\n",
       "15    0.096774\n",
       "16    0.084746\n",
       "17    0.015873\n",
       "18    0.169231\n",
       "19    0.087719\n",
       "20    0.015385\n",
       "21    0.063492\n",
       "22    0.030769\n",
       "23    0.061538\n",
       "24    0.093750\n",
       "25    0.066667\n",
       "26    0.133333\n",
       "27    0.063492\n",
       "28    0.104478\n",
       "29    0.046154\n",
       "30    0.075758\n",
       "31    0.190476\n",
       "Name: label, dtype: float64"
      ]
     },
     "execution_count": 96,
     "metadata": {},
     "output_type": "execute_result"
    }
   ],
   "source": [
    "# Pourcentage d'images mal classifiées\n",
    "1-conf_mx.diagonal() / y_test_original.value_counts().sort_index(axis=0)"
   ]
  },
  {
   "cell_type": "code",
   "execution_count": 97,
   "metadata": {},
   "outputs": [],
   "source": [
    "# = pd.Series(y_val_preds)\n",
    "# y_val_preds= lst.map(label_mapping_inversed)"
   ]
  },
  {
   "cell_type": "markdown",
   "metadata": {},
   "source": [
    "### Même modèle avec augmentation des données"
   ]
  },
  {
   "cell_type": "markdown",
   "metadata": {},
   "source": [
    "Ici, j'ai utilisé le même modèle. J'ai toutefois dû réduire l'effet du dropout en enlevant une couche afin de ne pas sur-régulariser le modèle.\n",
    "<br>\n",
    "Les résultats montrent que la combinaison des deux techniques donne d'encore meilleurs résultats.\n",
    "<br>\n",
    "On voit par contre que \"l'accuracy\" de l'ensemble de validation est toujours meilleur que celui d'entrainement. \n",
    "Cela est dû au fait que les distributions de l'ensemble d'entrainement et de validation ne sont pas les mêmes puisque l'ensemble\n",
    "d'entrainement comprends des données modifiées afin de régulariser le modèle."
   ]
  },
  {
   "cell_type": "code",
   "execution_count": 98,
   "metadata": {},
   "outputs": [],
   "source": [
    "model2 = models.Sequential()\n",
    "model2.add(layers.Conv2D(32, (3, 3), activation='relu', input_shape=(28, 28, 1)))\n",
    "model2.add(layers.MaxPooling2D((2, 2)))\n",
    "model2.add(layers.Conv2D(64, (3, 3), activation='relu'))\n",
    "model2.add(layers.MaxPooling2D((2, 2)))\n",
    "model2.add(layers.Conv2D(96, (3, 3), activation='relu'))\n",
    "model2.add(layers.Flatten())\n",
    "model2.add(layers.Dropout(0.5))\n",
    "model2.add(layers.Dense(64, activation='relu'))\n",
    "#model2.add(layers.Dropout(0.5))\n",
    "model2.add(layers.Dense(64, activation='relu'))\n",
    "model2.add(layers.Dense(32, activation='softmax'))\n",
    "\n",
    "model2.compile(optimizer='rmsprop', # can modify learning rate here optimizer=RMSprop(lr=0.001)\n",
    "              loss='categorical_crossentropy',\n",
    "              metrics=['accuracy'])"
   ]
  },
  {
   "cell_type": "code",
   "execution_count": 99,
   "metadata": {},
   "outputs": [],
   "source": [
    "generator = ImageDataGenerator(\n",
    "                    rotation_range=20,\n",
    "                    width_shift_range=0.1,\n",
    "                    height_shift_range=0.1,\n",
    "                    shear_range=0.1,\n",
    "                    zoom_range=0.1,\n",
    "                    horizontal_flip=False,)\n",
    "\n",
    "batch_size = 48\n",
    "gen_train = generator.flow(X_train, y_train, batch_size=batch_size)"
   ]
  },
  {
   "cell_type": "markdown",
   "metadata": {},
   "source": [
    "Voici un exemple des images générées"
   ]
  },
  {
   "cell_type": "code",
   "execution_count": 100,
   "metadata": {},
   "outputs": [
    {
     "data": {
      "image/png": "[encoded data removed]",
      "text/plain": [
       "<Figure size 432x288 with 1 Axes>"
      ]
     },
     "metadata": {
      "needs_background": "light"
     },
     "output_type": "display_data"
    },
    {
     "data": {
      "image/png": "[encoded data removed]",
      "text/plain": [
       "<Figure size 432x288 with 1 Axes>"
      ]
     },
     "metadata": {
      "needs_background": "light"
     },
     "output_type": "display_data"
    },
    {
     "data": {
      "image/png": "[encoded data removed]",
      "text/plain": [
       "<Figure size 432x288 with 1 Axes>"
      ]
     },
     "metadata": {
      "needs_background": "light"
     },
     "output_type": "display_data"
    },
    {
     "data": {
      "image/png": "[encoded data removed]",
      "text/plain": [
       "<Figure size 432x288 with 1 Axes>"
      ]
     },
     "metadata": {
      "needs_background": "light"
     },
     "output_type": "display_data"
    },
    {
     "data": {
      "image/png": "[encoded data removed]",
      "text/plain": [
       "<Figure size 432x288 with 1 Axes>"
      ]
     },
     "metadata": {
      "needs_background": "light"
     },
     "output_type": "display_data"
    }
   ],
   "source": [
    "from keras.preprocessing import image\n",
    "\n",
    "i = 0\n",
    "for batch in generator.flow(X_train, batch_size=1):\n",
    "    plt.figure(i)\n",
    "    imgplot = plt.imshow(image.array_to_img(batch[0]))\n",
    "    i += 1\n",
    "    if i ==5 :\n",
    "        break\n",
    "\n",
    "plt.show()"
   ]
  },
  {
   "cell_type": "code",
   "execution_count": 101,
   "metadata": {},
   "outputs": [
    {
     "name": "stdout",
     "output_type": "stream",
     "text": [
      "Epoch 1/100\n",
      "125/125 [==============================] - 5s 41ms/step - loss: 3.2485 - acc: 0.1003 - val_loss: 2.4575 - val_acc: 0.2985\n",
      "Epoch 2/100\n",
      "125/125 [==============================] - 4s 35ms/step - loss: 2.4820 - acc: 0.2860 - val_loss: 1.6523 - val_acc: 0.5316\n",
      "Epoch 3/100\n",
      "125/125 [==============================] - 4s 35ms/step - loss: 2.0130 - acc: 0.4079 - val_loss: 1.3827 - val_acc: 0.5979\n",
      "Epoch 4/100\n",
      "125/125 [==============================] - 4s 34ms/step - loss: 1.7040 - acc: 0.5079 - val_loss: 1.0877 - val_acc: 0.6861\n",
      "Epoch 5/100\n",
      "125/125 [==============================] - 4s 36ms/step - loss: 1.5290 - acc: 0.5564 - val_loss: 0.9254 - val_acc: 0.7494\n",
      "Epoch 6/100\n",
      "125/125 [==============================] - 4s 34ms/step - loss: 1.3892 - acc: 0.5938 - val_loss: 0.8174 - val_acc: 0.7758\n",
      "Epoch 7/100\n",
      "125/125 [==============================] - 4s 34ms/step - loss: 1.2800 - acc: 0.6165 - val_loss: 0.8235 - val_acc: 0.7683\n",
      "Epoch 8/100\n",
      "125/125 [==============================] - 4s 35ms/step - loss: 1.1776 - acc: 0.6621 - val_loss: 0.6998 - val_acc: 0.8107\n",
      "Epoch 9/100\n",
      "125/125 [==============================] - 4s 35ms/step - loss: 1.1183 - acc: 0.6762 - val_loss: 0.6777 - val_acc: 0.8226\n",
      "Epoch 10/100\n",
      "125/125 [==============================] - 4s 35ms/step - loss: 1.0782 - acc: 0.6844 - val_loss: 0.6273 - val_acc: 0.8361\n",
      "Epoch 11/100\n",
      "125/125 [==============================] - 4s 34ms/step - loss: 1.0280 - acc: 0.6973 - val_loss: 0.5699 - val_acc: 0.8515\n",
      "Epoch 12/100\n",
      "125/125 [==============================] - 4s 36ms/step - loss: 0.9802 - acc: 0.7139 - val_loss: 0.5737 - val_acc: 0.8480\n",
      "Epoch 13/100\n",
      "125/125 [==============================] - 4s 35ms/step - loss: 0.9502 - acc: 0.7217 - val_loss: 0.5331 - val_acc: 0.8620\n",
      "Epoch 14/100\n",
      "125/125 [==============================] - 4s 35ms/step - loss: 0.9124 - acc: 0.7347 - val_loss: 0.5082 - val_acc: 0.8739\n",
      "Epoch 15/100\n",
      "125/125 [==============================] - 4s 35ms/step - loss: 0.8831 - acc: 0.7339 - val_loss: 0.5012 - val_acc: 0.8759\n",
      "Epoch 16/100\n",
      "125/125 [==============================] - 4s 36ms/step - loss: 0.8630 - acc: 0.7477 - val_loss: 0.5163 - val_acc: 0.8714\n",
      "Epoch 17/100\n",
      "125/125 [==============================] - 4s 35ms/step - loss: 0.8278 - acc: 0.7658 - val_loss: 0.5167 - val_acc: 0.8759\n",
      "Epoch 18/100\n",
      "125/125 [==============================] - 4s 35ms/step - loss: 0.8009 - acc: 0.7629 - val_loss: 0.4408 - val_acc: 0.8859\n",
      "Epoch 19/100\n",
      "125/125 [==============================] - 4s 35ms/step - loss: 0.7691 - acc: 0.7748 - val_loss: 0.4399 - val_acc: 0.8854\n",
      "Epoch 20/100\n",
      "125/125 [==============================] - 4s 36ms/step - loss: 0.7517 - acc: 0.7772 - val_loss: 0.4557 - val_acc: 0.8819\n",
      "Epoch 21/100\n",
      "125/125 [==============================] - 4s 35ms/step - loss: 0.7659 - acc: 0.7801 - val_loss: 0.4548 - val_acc: 0.8879\n",
      "Epoch 22/100\n",
      "125/125 [==============================] - 4s 35ms/step - loss: 0.7095 - acc: 0.7889 - val_loss: 0.4515 - val_acc: 0.8899\n",
      "Epoch 23/100\n",
      "125/125 [==============================] - 4s 36ms/step - loss: 0.7212 - acc: 0.7911 - val_loss: 0.4383 - val_acc: 0.8909\n",
      "Epoch 24/100\n",
      "125/125 [==============================] - 4s 35ms/step - loss: 0.6788 - acc: 0.8002 - val_loss: 0.4688 - val_acc: 0.8854\n",
      "Epoch 25/100\n",
      "125/125 [==============================] - 4s 35ms/step - loss: 0.6784 - acc: 0.7991 - val_loss: 0.3990 - val_acc: 0.9053\n",
      "Epoch 26/100\n",
      "125/125 [==============================] - 4s 35ms/step - loss: 0.6825 - acc: 0.8012 - val_loss: 0.4286 - val_acc: 0.8959\n",
      "Epoch 27/100\n",
      "125/125 [==============================] - 5s 36ms/step - loss: 0.6627 - acc: 0.8041 - val_loss: 0.4087 - val_acc: 0.9053\n",
      "Epoch 28/100\n",
      "125/125 [==============================] - 4s 35ms/step - loss: 0.6561 - acc: 0.8121 - val_loss: 0.4122 - val_acc: 0.8989\n",
      "Epoch 29/100\n",
      "125/125 [==============================] - 4s 35ms/step - loss: 0.6547 - acc: 0.8098 - val_loss: 0.4152 - val_acc: 0.8989\n",
      "Epoch 30/100\n",
      "125/125 [==============================] - 4s 35ms/step - loss: 0.6199 - acc: 0.8134 - val_loss: 0.3933 - val_acc: 0.9013\n",
      "Epoch 31/100\n",
      "125/125 [==============================] - 4s 35ms/step - loss: 0.6224 - acc: 0.8099 - val_loss: 0.3874 - val_acc: 0.9073\n",
      "Epoch 32/100\n",
      "125/125 [==============================] - 4s 35ms/step - loss: 0.6049 - acc: 0.8230 - val_loss: 0.3835 - val_acc: 0.9088\n",
      "Epoch 33/100\n",
      "125/125 [==============================] - 4s 35ms/step - loss: 0.5870 - acc: 0.8231 - val_loss: 0.4223 - val_acc: 0.9018\n",
      "Epoch 34/100\n",
      "125/125 [==============================] - 4s 36ms/step - loss: 0.6006 - acc: 0.8213 - val_loss: 0.3700 - val_acc: 0.9093\n",
      "Epoch 35/100\n",
      "125/125 [==============================] - 4s 35ms/step - loss: 0.5593 - acc: 0.8344 - val_loss: 0.4037 - val_acc: 0.8959\n",
      "Epoch 36/100\n",
      "125/125 [==============================] - 4s 35ms/step - loss: 0.5846 - acc: 0.8257 - val_loss: 0.3693 - val_acc: 0.9133\n",
      "Epoch 37/100\n",
      "125/125 [==============================] - 4s 35ms/step - loss: 0.5596 - acc: 0.8357 - val_loss: 0.3882 - val_acc: 0.9018\n",
      "Epoch 38/100\n",
      "125/125 [==============================] - 4s 36ms/step - loss: 0.5480 - acc: 0.8359 - val_loss: 0.3630 - val_acc: 0.9188\n",
      "Epoch 39/100\n",
      "125/125 [==============================] - 4s 35ms/step - loss: 0.5528 - acc: 0.8402 - val_loss: 0.3685 - val_acc: 0.9148\n",
      "Epoch 40/100\n",
      "125/125 [==============================] - 4s 35ms/step - loss: 0.5855 - acc: 0.8282 - val_loss: 0.3470 - val_acc: 0.9193\n",
      "Epoch 41/100\n",
      "125/125 [==============================] - 4s 35ms/step - loss: 0.5412 - acc: 0.8410 - val_loss: 0.4027 - val_acc: 0.8944\n",
      "Epoch 42/100\n",
      "125/125 [==============================] - 4s 35ms/step - loss: 0.5361 - acc: 0.8469 - val_loss: 0.3391 - val_acc: 0.9213\n",
      "Epoch 43/100\n",
      "125/125 [==============================] - 4s 35ms/step - loss: 0.5249 - acc: 0.8402 - val_loss: 0.3913 - val_acc: 0.9043\n",
      "Epoch 44/100\n",
      "125/125 [==============================] - 4s 35ms/step - loss: 0.5312 - acc: 0.8421 - val_loss: 0.3432 - val_acc: 0.9248\n",
      "Epoch 45/100\n",
      "125/125 [==============================] - 4s 36ms/step - loss: 0.5025 - acc: 0.8507 - val_loss: 0.3589 - val_acc: 0.9198\n",
      "Epoch 46/100\n",
      "125/125 [==============================] - 4s 35ms/step - loss: 0.5093 - acc: 0.8458 - val_loss: 0.3819 - val_acc: 0.9148\n",
      "Epoch 47/100\n",
      "125/125 [==============================] - 4s 35ms/step - loss: 0.5147 - acc: 0.8466 - val_loss: 0.3395 - val_acc: 0.9188\n",
      "Epoch 48/100\n",
      "125/125 [==============================] - 4s 36ms/step - loss: 0.4958 - acc: 0.8482 - val_loss: 0.3422 - val_acc: 0.9208\n",
      "Epoch 49/100\n",
      "125/125 [==============================] - 4s 36ms/step - loss: 0.5034 - acc: 0.8513 - val_loss: 0.3573 - val_acc: 0.9173\n",
      "Epoch 50/100\n",
      "125/125 [==============================] - 4s 35ms/step - loss: 0.4896 - acc: 0.8534 - val_loss: 0.3308 - val_acc: 0.9208\n",
      "Epoch 51/100\n",
      "125/125 [==============================] - 4s 35ms/step - loss: 0.4842 - acc: 0.8537 - val_loss: 0.3695 - val_acc: 0.9163\n",
      "Epoch 52/100\n",
      "125/125 [==============================] - 4s 36ms/step - loss: 0.4709 - acc: 0.8568 - val_loss: 0.3901 - val_acc: 0.9093\n",
      "Epoch 53/100\n",
      "125/125 [==============================] - 4s 35ms/step - loss: 0.4838 - acc: 0.8513 - val_loss: 0.3543 - val_acc: 0.9213\n",
      "Epoch 54/100\n",
      "125/125 [==============================] - 4s 35ms/step - loss: 0.4672 - acc: 0.8584 - val_loss: 0.3348 - val_acc: 0.9223\n",
      "Epoch 55/100\n",
      "125/125 [==============================] - 4s 35ms/step - loss: 0.4970 - acc: 0.8536 - val_loss: 0.3685 - val_acc: 0.9058\n",
      "Epoch 56/100\n",
      "125/125 [==============================] - 5s 36ms/step - loss: 0.4596 - acc: 0.8611 - val_loss: 0.3374 - val_acc: 0.9233\n",
      "Epoch 57/100\n",
      "125/125 [==============================] - 4s 35ms/step - loss: 0.4758 - acc: 0.8571 - val_loss: 0.3448 - val_acc: 0.9193\n",
      "Epoch 58/100\n",
      "125/125 [==============================] - 4s 35ms/step - loss: 0.4604 - acc: 0.8632 - val_loss: 0.3292 - val_acc: 0.9208\n",
      "Epoch 59/100\n",
      "125/125 [==============================] - 4s 35ms/step - loss: 0.4411 - acc: 0.8680 - val_loss: 0.3295 - val_acc: 0.9283\n",
      "Epoch 60/100\n",
      "125/125 [==============================] - 4s 36ms/step - loss: 0.4386 - acc: 0.8639 - val_loss: 0.3117 - val_acc: 0.9337\n",
      "Epoch 61/100\n",
      "125/125 [==============================] - 4s 35ms/step - loss: 0.4465 - acc: 0.8659 - val_loss: 0.3574 - val_acc: 0.9178\n"
     ]
    },
    {
     "name": "stdout",
     "output_type": "stream",
     "text": [
      "Epoch 62/100\n",
      "125/125 [==============================] - 4s 35ms/step - loss: 0.4488 - acc: 0.8624 - val_loss: 0.3252 - val_acc: 0.9263\n",
      "Epoch 63/100\n",
      "125/125 [==============================] - 4s 35ms/step - loss: 0.4311 - acc: 0.8698 - val_loss: 0.3116 - val_acc: 0.9273\n",
      "Epoch 64/100\n",
      "125/125 [==============================] - 4s 35ms/step - loss: 0.4599 - acc: 0.8654 - val_loss: 0.3459 - val_acc: 0.9263\n",
      "Epoch 65/100\n",
      "125/125 [==============================] - 4s 34ms/step - loss: 0.4208 - acc: 0.8677 - val_loss: 0.3482 - val_acc: 0.9203\n",
      "Epoch 66/100\n",
      "125/125 [==============================] - 4s 34ms/step - loss: 0.4402 - acc: 0.8693 - val_loss: 0.3171 - val_acc: 0.9292\n",
      "Epoch 67/100\n",
      "125/125 [==============================] - 4s 35ms/step - loss: 0.4359 - acc: 0.8686 - val_loss: 0.3210 - val_acc: 0.9317\n",
      "Epoch 68/100\n",
      "125/125 [==============================] - 4s 35ms/step - loss: 0.4042 - acc: 0.8740 - val_loss: 0.3486 - val_acc: 0.9297\n",
      "Epoch 69/100\n",
      "125/125 [==============================] - 4s 35ms/step - loss: 0.4386 - acc: 0.8682 - val_loss: 0.3431 - val_acc: 0.9228\n",
      "Epoch 70/100\n",
      "125/125 [==============================] - 4s 34ms/step - loss: 0.3910 - acc: 0.8818 - val_loss: 0.3339 - val_acc: 0.9317\n",
      "Epoch 71/100\n",
      "125/125 [==============================] - 4s 35ms/step - loss: 0.4280 - acc: 0.8717 - val_loss: 0.3329 - val_acc: 0.9248\n",
      "Epoch 72/100\n",
      "125/125 [==============================] - 4s 34ms/step - loss: 0.4056 - acc: 0.8763 - val_loss: 0.3404 - val_acc: 0.9228\n",
      "Epoch 73/100\n",
      "125/125 [==============================] - 4s 34ms/step - loss: 0.4183 - acc: 0.8738 - val_loss: 0.3057 - val_acc: 0.9342\n",
      "Epoch 74/100\n",
      "125/125 [==============================] - 4s 35ms/step - loss: 0.4163 - acc: 0.8740 - val_loss: 0.3658 - val_acc: 0.9258\n",
      "Epoch 75/100\n",
      "125/125 [==============================] - 4s 35ms/step - loss: 0.4143 - acc: 0.8756 - val_loss: 0.3329 - val_acc: 0.9208\n",
      "Epoch 76/100\n",
      "125/125 [==============================] - 4s 35ms/step - loss: 0.4022 - acc: 0.8812 - val_loss: 0.3551 - val_acc: 0.9287\n",
      "Epoch 77/100\n",
      "125/125 [==============================] - 4s 35ms/step - loss: 0.4130 - acc: 0.8711 - val_loss: 0.3106 - val_acc: 0.9337\n",
      "Epoch 78/100\n",
      "125/125 [==============================] - 4s 35ms/step - loss: 0.4091 - acc: 0.8781 - val_loss: 0.3644 - val_acc: 0.9183\n",
      "Epoch 79/100\n",
      "125/125 [==============================] - 4s 34ms/step - loss: 0.4126 - acc: 0.8768 - val_loss: 0.3148 - val_acc: 0.9302\n",
      "Epoch 80/100\n",
      "125/125 [==============================] - 4s 35ms/step - loss: 0.3765 - acc: 0.8837 - val_loss: 0.3446 - val_acc: 0.9258\n",
      "Epoch 81/100\n",
      "125/125 [==============================] - 4s 35ms/step - loss: 0.4155 - acc: 0.8724 - val_loss: 0.3070 - val_acc: 0.9357\n",
      "Epoch 82/100\n",
      "125/125 [==============================] - 4s 36ms/step - loss: 0.4264 - acc: 0.8756 - val_loss: 0.3427 - val_acc: 0.9283\n",
      "Epoch 83/100\n",
      "125/125 [==============================] - 4s 35ms/step - loss: 0.3950 - acc: 0.8839 - val_loss: 0.3182 - val_acc: 0.9283\n",
      "Epoch 84/100\n",
      "125/125 [==============================] - 4s 34ms/step - loss: 0.4066 - acc: 0.8779 - val_loss: 0.3337 - val_acc: 0.9233\n",
      "Epoch 85/100\n",
      "125/125 [==============================] - 4s 35ms/step - loss: 0.3804 - acc: 0.8875 - val_loss: 0.3235 - val_acc: 0.9337\n",
      "Epoch 86/100\n",
      "125/125 [==============================] - 4s 35ms/step - loss: 0.3822 - acc: 0.8800 - val_loss: 0.3295 - val_acc: 0.9248\n",
      "Epoch 87/100\n",
      "125/125 [==============================] - 4s 35ms/step - loss: 0.4087 - acc: 0.8786 - val_loss: 0.3037 - val_acc: 0.9307\n",
      "Epoch 88/100\n",
      "125/125 [==============================] - 4s 35ms/step - loss: 0.3993 - acc: 0.8823 - val_loss: 0.3627 - val_acc: 0.9168\n",
      "Epoch 89/100\n",
      "125/125 [==============================] - 4s 36ms/step - loss: 0.3725 - acc: 0.8887 - val_loss: 0.3408 - val_acc: 0.9213\n",
      "Epoch 90/100\n",
      "125/125 [==============================] - 4s 35ms/step - loss: 0.3835 - acc: 0.8863 - val_loss: 0.3835 - val_acc: 0.9153\n",
      "Epoch 91/100\n",
      "125/125 [==============================] - 4s 35ms/step - loss: 0.3852 - acc: 0.8856 - val_loss: 0.3418 - val_acc: 0.9268\n",
      "Epoch 92/100\n",
      "125/125 [==============================] - 4s 35ms/step - loss: 0.3832 - acc: 0.8824 - val_loss: 0.3516 - val_acc: 0.9218\n",
      "Epoch 93/100\n",
      "125/125 [==============================] - 4s 36ms/step - loss: 0.3842 - acc: 0.8824 - val_loss: 0.3381 - val_acc: 0.9292\n",
      "Epoch 94/100\n",
      "125/125 [==============================] - 4s 35ms/step - loss: 0.3677 - acc: 0.8877 - val_loss: 0.2998 - val_acc: 0.9382\n",
      "Epoch 95/100\n",
      "125/125 [==============================] - 4s 35ms/step - loss: 0.3765 - acc: 0.8884 - val_loss: 0.3226 - val_acc: 0.9292\n",
      "Epoch 96/100\n",
      "125/125 [==============================] - 4s 35ms/step - loss: 0.3780 - acc: 0.8869 - val_loss: 0.3746 - val_acc: 0.9138\n",
      "Epoch 97/100\n",
      "125/125 [==============================] - 4s 35ms/step - loss: 0.3485 - acc: 0.8918 - val_loss: 0.3239 - val_acc: 0.9268\n",
      "Epoch 98/100\n",
      "125/125 [==============================] - 4s 35ms/step - loss: 0.3693 - acc: 0.8925 - val_loss: 0.3433 - val_acc: 0.9292\n",
      "Epoch 99/100\n",
      "125/125 [==============================] - 4s 35ms/step - loss: 0.4064 - acc: 0.8814 - val_loss: 0.3469 - val_acc: 0.9173\n",
      "Epoch 100/100\n",
      "125/125 [==============================] - 4s 36ms/step - loss: 0.3717 - acc: 0.8872 - val_loss: 0.3266 - val_acc: 0.9322\n"
     ]
    }
   ],
   "source": [
    "history2 = model2.fit_generator(generator=gen_train, steps_per_epoch=len(X_train)//batch_size, epochs=100,\n",
    "                                validation_data=(X_val, y_val))"
   ]
  },
  {
   "cell_type": "code",
   "execution_count": 102,
   "metadata": {},
   "outputs": [
    {
     "data": {
      "image/png": "[encoded data removed]",
      "text/plain": [
       "<Figure size 432x288 with 1 Axes>"
      ]
     },
     "metadata": {
      "needs_background": "light"
     },
     "output_type": "display_data"
    },
    {
     "data": {
      "image/png": "[encoded data removed]",
      "text/plain": [
       "<Figure size 432x288 with 1 Axes>"
      ]
     },
     "metadata": {
      "needs_background": "light"
     },
     "output_type": "display_data"
    }
   ],
   "source": [
    "acc = history2.history['acc']\n",
    "val_acc = history2.history['val_acc']\n",
    "loss = history2.history['loss']\n",
    "val_loss = history2.history['val_loss']\n",
    "\n",
    "epochs = range(len(acc))\n",
    "\n",
    "plt.plot(epochs, acc, 'bo', label='Training acc')\n",
    "plt.plot(epochs, val_acc, 'b', label='Validation acc')\n",
    "plt.title('Training and validation accuracy')\n",
    "plt.legend()\n",
    "\n",
    "plt.figure()\n",
    "\n",
    "plt.plot(epochs, loss, 'bo', label='Training loss')\n",
    "plt.plot(epochs, val_loss, 'b', label='Validation loss')\n",
    "plt.title('Training and validation loss')\n",
    "plt.legend()\n",
    "\n",
    "plt.show()"
   ]
  },
  {
   "cell_type": "code",
   "execution_count": 103,
   "metadata": {},
   "outputs": [
    {
     "name": "stdout",
     "output_type": "stream",
     "text": [
      "2007/2007 [==============================] - 0s 217us/step\n",
      "Test loss: 0.279998054715847\n",
      "Test accuracy: 0.9322371700241249\n"
     ]
    }
   ],
   "source": [
    "# Évaluation sur l'emsemble de test\n",
    "test_loss, test_acc = model2.evaluate(X_test, y_test)\n",
    "print('Test loss: {}'.format(test_loss))\n",
    "print('Test accuracy: {}'.format(test_acc))"
   ]
  },
  {
   "cell_type": "markdown",
   "metadata": {},
   "source": [
    "### Les caractères les plus souvent confondus par le modèle (avec augmentation de données)"
   ]
  },
  {
   "cell_type": "code",
   "execution_count": 104,
   "metadata": {},
   "outputs": [
    {
     "data": {
      "text/plain": [
       "array([ 6, 23, 16, ..., 17, 22, 11], dtype=int64)"
      ]
     },
     "execution_count": 104,
     "metadata": {},
     "output_type": "execute_result"
    }
   ],
   "source": [
    "# Prédictions des classes sur l'ensemble test\n",
    "y_test_preds = model2.predict_classes(X_test)\n",
    "y_test_preds"
   ]
  },
  {
   "cell_type": "code",
   "execution_count": 105,
   "metadata": {
    "scrolled": true
   },
   "outputs": [
    {
     "data": {
      "text/plain": [
       "array([[63,  0,  0, ...,  0,  0,  0],\n",
       "       [ 0, 63,  0, ...,  0,  0,  0],\n",
       "       [ 0,  0, 62, ...,  0,  0,  0],\n",
       "       ...,\n",
       "       [ 0,  0,  1, ..., 63,  0,  0],\n",
       "       [ 0,  0,  0, ...,  0, 61,  0],\n",
       "       [ 1,  0,  0, ...,  0,  0, 60]], dtype=int64)"
      ]
     },
     "execution_count": 105,
     "metadata": {},
     "output_type": "execute_result"
    }
   ],
   "source": [
    "# Matrice de confusion\n",
    "#np.set_printoptions(threshold=np.inf)\n",
    "conf_mx = confusion_matrix(y_test_original, y_test_preds)\n",
    "conf_mx "
   ]
  },
  {
   "cell_type": "code",
   "execution_count": 106,
   "metadata": {},
   "outputs": [
    {
     "data": {
      "text/plain": [
       "array([64, 64, 64, 69, 58, 59, 65, 61, 61, 56, 58, 61, 68, 62, 65, 62, 59,\n",
       "       63, 65, 57, 65, 63, 65, 65, 64, 60, 60, 63, 67, 65, 66, 63],\n",
       "      dtype=int64)"
      ]
     },
     "execution_count": 106,
     "metadata": {},
     "output_type": "execute_result"
    }
   ],
   "source": [
    "# Somme de toutes les prédictions pour chacunes des classes\n",
    "conf_mx.sum(axis=1)"
   ]
  },
  {
   "cell_type": "code",
   "execution_count": 107,
   "metadata": {},
   "outputs": [
    {
     "data": {
      "text/plain": [
       "0     64\n",
       "1     64\n",
       "2     64\n",
       "3     69\n",
       "4     58\n",
       "5     59\n",
       "6     65\n",
       "7     61\n",
       "8     61\n",
       "9     56\n",
       "10    58\n",
       "11    61\n",
       "12    68\n",
       "13    62\n",
       "14    65\n",
       "15    62\n",
       "16    59\n",
       "17    63\n",
       "18    65\n",
       "19    57\n",
       "20    65\n",
       "21    63\n",
       "22    65\n",
       "23    65\n",
       "24    64\n",
       "25    60\n",
       "26    60\n",
       "27    63\n",
       "28    67\n",
       "29    65\n",
       "30    66\n",
       "31    63\n",
       "Name: label, dtype: int64"
      ]
     },
     "execution_count": 107,
     "metadata": {},
     "output_type": "execute_result"
    }
   ],
   "source": [
    "# Pour vérifier que l'ordre des classes dans la matrice de confusion est bel et bien le même (c'est bien le cas)\n",
    "y_test_original.value_counts().sort_index(axis=0)"
   ]
  },
  {
   "cell_type": "code",
   "execution_count": 108,
   "metadata": {},
   "outputs": [
    {
     "data": {
      "text/plain": [
       "0      1\n",
       "1      1\n",
       "2      2\n",
       "3      3\n",
       "4      0\n",
       "5     20\n",
       "6      1\n",
       "7      2\n",
       "8      2\n",
       "9      0\n",
       "10     8\n",
       "11     4\n",
       "12     7\n",
       "13     9\n",
       "14     1\n",
       "15     7\n",
       "16     9\n",
       "17     2\n",
       "18     8\n",
       "19     4\n",
       "20     2\n",
       "21     4\n",
       "22     2\n",
       "23     4\n",
       "24     4\n",
       "25     4\n",
       "26     4\n",
       "27     5\n",
       "28     6\n",
       "29     2\n",
       "30     5\n",
       "31     3\n",
       "Name: label, dtype: int64"
      ]
     },
     "execution_count": 108,
     "metadata": {},
     "output_type": "execute_result"
    }
   ],
   "source": [
    "# Diagonale de la matrice de confusion: représente le nombre de fois que le modèle\n",
    "# a bien identifié chacune des classes respectives\n",
    "# Ici on voit le nombre de fois que l'algorithme a mal prédit chacune des classes\n",
    "# Les classes 5 et 16  (au-dessus de 15%) sont ceux dont l'algorithme a eu le plus de difficulté à prédire\n",
    "# Ces classes représentent respectivement les caractères '4' et 'J'\n",
    "y_test_original.value_counts().sort_index(axis=0) - conf_mx.diagonal()"
   ]
  },
  {
   "cell_type": "code",
   "execution_count": 109,
   "metadata": {},
   "outputs": [
    {
     "data": {
      "text/plain": [
       "array([63, 63, 62, 66, 58, 39, 64, 59, 59, 56, 50, 57, 61, 53, 64, 55, 50,\n",
       "       61, 57, 53, 63, 59, 63, 61, 60, 56, 56, 58, 61, 63, 61, 60],\n",
       "      dtype=int64)"
      ]
     },
     "execution_count": 109,
     "metadata": {},
     "output_type": "execute_result"
    }
   ],
   "source": [
    "conf_mx.diagonal()"
   ]
  },
  {
   "cell_type": "code",
   "execution_count": 110,
   "metadata": {},
   "outputs": [
    {
     "data": {
      "text/plain": [
       "0     0.015625\n",
       "1     0.015625\n",
       "2     0.031250\n",
       "3     0.043478\n",
       "4     0.000000\n",
       "5     0.338983\n",
       "6     0.015385\n",
       "7     0.032787\n",
       "8     0.032787\n",
       "9     0.000000\n",
       "10    0.137931\n",
       "11    0.065574\n",
       "12    0.102941\n",
       "13    0.145161\n",
       "14    0.015385\n",
       "15    0.112903\n",
       "16    0.152542\n",
       "17    0.031746\n",
       "18    0.123077\n",
       "19    0.070175\n",
       "20    0.030769\n",
       "21    0.063492\n",
       "22    0.030769\n",
       "23    0.061538\n",
       "24    0.062500\n",
       "25    0.066667\n",
       "26    0.066667\n",
       "27    0.079365\n",
       "28    0.089552\n",
       "29    0.030769\n",
       "30    0.075758\n",
       "31    0.047619\n",
       "Name: label, dtype: float64"
      ]
     },
     "execution_count": 110,
     "metadata": {},
     "output_type": "execute_result"
    }
   ],
   "source": [
    "# Pourcentage d'images mal classifiées\n",
    "1-conf_mx.diagonal() / y_test_original.value_counts().sort_index(axis=0)"
   ]
  },
  {
   "cell_type": "code",
   "execution_count": 111,
   "metadata": {},
   "outputs": [],
   "source": [
    "# = pd.Series(y_val_preds)\n",
    "# y_val_preds= lst.map(label_mapping_inversed)"
   ]
  },
  {
   "cell_type": "markdown",
   "metadata": {},
   "source": [
    "### EXTRA : Optimization des hyperparamètres"
   ]
  },
  {
   "cell_type": "markdown",
   "metadata": {},
   "source": [
    "Si j'avais accès à une excellent capacité de calcul je pourrais utiliser le code suivant afin d'optimiser les hyperparamètres en utilisant une Grid Search ou un Randomized Search (plus rapide et efficace)"
   ]
  },
  {
   "cell_type": "code",
   "execution_count": null,
   "metadata": {},
   "outputs": [],
   "source": [
    "def create_model(filtres, dropout1, dropout2, nb_neurones, taux_app):\n",
    "    \n",
    "    # Create model\n",
    "    model = models.Sequential()\n",
    "    model.add(layers.Conv2D(filtres, (3, 3), activation='relu', input_shape=(28, 28, 1)))\n",
    "    model.add(layers.MaxPooling2D((2, 2)))\n",
    "    model.add(layers.Conv2D(2*filtres, (3, 3), activation='relu'))\n",
    "    model.add(layers.MaxPooling2D((2, 2)))\n",
    "    model.add(layers.Conv2D(3*filtres, (3, 3), activation='relu'))\n",
    "    model.add(layers.Flatten())\n",
    "    model.add(layers.Dropout(dropout1))\n",
    "    model.add(layers.Dense(nb_neurones, activation='relu'))\n",
    "    model.add(layers.Dropout(dropout2))\n",
    "    model.add(layers.Dense(nb_neurones, activation='relu'))\n",
    "    model.add(layers.Dense(32, activation='softmax'))\n",
    "   \n",
    "    # Compile model\n",
    "    model.compile(optimizer=RMSprop(lr=taux_app), loss='categorical_crossentropy', metrics=['accuracy'])\n",
    "    \n",
    "    return model\n"
   ]
  },
  {
   "cell_type": "code",
   "execution_count": null,
   "metadata": {},
   "outputs": [],
   "source": [
    "from keras.wrappers.scikit_learn import KerasClassifier\n",
    "from sklearn.model_selection import GridSearchCV\n",
    "\n",
    "if False:\n",
    "    model = KerasClassifier(build_fn=create_model, verbose=0)\n",
    "\n",
    "    filtres = [8, 16, 32, 48, 64]\n",
    "    dropout1 = [0.0, 0.1, 0.2, 0.3, 0.4, 0.5, 0.6, 0.7, 0.8, 0.9]\n",
    "    dropout2 = [0.0, 0.1, 0.2, 0.3, 0.4, 0.5, 0.6, 0.7, 0.8, 0.9]\n",
    "    nb_neurones = [32, 64, 128, 256, 512]\n",
    "    taux_app = [0.0001, 0.001, 0.01, 0.1, 0.2, 0.3]\n",
    "    batch_size = [10, 20, 40, 60, 80, 100]\n",
    "    epochs = [25, 50, 75, 100]\n",
    "\n",
    "\n",
    "    # Grid Search\n",
    "    param_grid = {'filtres': filtres, \n",
    "                  'dropout1': dropout1, \n",
    "                  'dropout2': dropout2,\n",
    "                  'nb_neurones': nb_neurones,\n",
    "                  'taux_app': taux_app,\n",
    "                  'batch_size': batch_size,\n",
    "                  'epochs': epochs\n",
    "                         }\n",
    "\n",
    "    grid_search = GridSearchCV(model, param_grid, cv=3, verbose=10, n_jobs=-1)\n",
    "    grid_search.fit(X_train, y_train)\n"
   ]
  }
 ],
 "metadata": {
  "kernelspec": {
   "display_name": "Python 3",
   "language": "python",
   "name": "python3"
  },
  "language_info": {
   "codemirror_mode": {
    "name": "ipython",
    "version": 3
   },
   "file_extension": ".py",
   "mimetype": "text/x-python",
   "name": "python",
   "nbconvert_exporter": "python",
   "pygments_lexer": "ipython3",
   "version": "3.6.7"
  }
 },
 "nbformat": 4,
 "nbformat_minor": 2
}
