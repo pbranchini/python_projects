{
 "cells": [
  {
   "cell_type": "code",
   "execution_count": 1,
   "metadata": {},
   "outputs": [],
   "source": [
    "import pandas as pd\n",
    "import numpy as np\n",
    "import matplotlib.pyplot as plt\n",
    "%matplotlib inline \n",
    "\n",
    "import seaborn as sns"
   ]
  },
  {
   "cell_type": "markdown",
   "metadata": {},
   "source": [
    "### Import Data"
   ]
  },
  {
   "cell_type": "code",
   "execution_count": 2,
   "metadata": {},
   "outputs": [],
   "source": [
    "sales = pd.read_csv('sales_train.csv.gz')\n",
    "items0 = pd.read_csv('items.csv')\n",
    "item_categories = pd.read_csv('item_categories.csv')\n",
    "shops = pd.read_csv('shops.csv')\n",
    "test_set = pd.read_csv('test.csv.gz').set_index('ID')"
   ]
  },
  {
   "cell_type": "code",
   "execution_count": 3,
   "metadata": {},
   "outputs": [],
   "source": [
    "items = pd.DataFrame(items0,index=None)"
   ]
  },
  {
   "cell_type": "markdown",
   "metadata": {},
   "source": [
    "### First look at the data"
   ]
  },
  {
   "cell_type": "code",
   "execution_count": 4,
   "metadata": {},
   "outputs": [
    {
     "name": "stdout",
     "output_type": "stream",
     "text": [
      "<class 'pandas.core.frame.DataFrame'>\n"
     ]
    }
   ],
   "source": [
    "print(type(items))"
   ]
  },
  {
   "cell_type": "code",
   "execution_count": 5,
   "metadata": {},
   "outputs": [
    {
     "name": "stdout",
     "output_type": "stream",
     "text": [
      "         date  date_block_num  shop_id  item_id  item_price  item_cnt_day\n",
      "0  02.01.2013               0       59    22154      999.00           1.0\n",
      "1  03.01.2013               0       25     2552      899.00           1.0\n",
      "2  05.01.2013               0       25     2552      899.00          -1.0\n",
      "3  06.01.2013               0       25     2554     1709.05           1.0\n",
      "4  15.01.2013               0       25     2555     1099.00           1.0\n",
      "                                           item_name  item_id  \\\n",
      "0          ! ВО ВЛАСТИ НАВАЖДЕНИЯ (ПЛАСТ.)         D        0   \n",
      "1  !ABBYY FineReader 12 Professional Edition Full...        1   \n",
      "2      ***В ЛУЧАХ СЛАВЫ   (UNV)                    D        2   \n",
      "3    ***ГОЛУБАЯ ВОЛНА  (Univ)                      D        3   \n",
      "4        ***КОРОБКА (СТЕКЛО)                       D        4   \n",
      "\n",
      "   item_category_id  \n",
      "0                40  \n",
      "1                76  \n",
      "2                40  \n",
      "3                40  \n",
      "4                40  \n",
      "        item_category_name  item_category_id\n",
      "0  PC - Гарнитуры/Наушники                 0\n",
      "1         Аксессуары - PS2                 1\n",
      "2         Аксессуары - PS3                 2\n",
      "3         Аксессуары - PS4                 3\n",
      "4         Аксессуары - PSP                 4\n",
      "                        shop_name  shop_id\n",
      "0   !Якутск Орджоникидзе, 56 фран        0\n",
      "1   !Якутск ТЦ \"Центральный\" фран        1\n",
      "2                Адыгея ТЦ \"Мега\"        2\n",
      "3  Балашиха ТРК \"Октябрь-Киномир\"        3\n",
      "4        Волжский ТЦ \"Волга Молл\"        4\n",
      "    shop_id  item_id\n",
      "ID                  \n",
      "0         5     5037\n",
      "1         5     5320\n",
      "2         5     5233\n",
      "3         5     5232\n",
      "4         5     5268\n"
     ]
    }
   ],
   "source": [
    "print(sales.head())\n",
    "print(items.head())\n",
    "print(item_categories.head())\n",
    "print(shops.head())\n",
    "print(test_set.head())"
   ]
  },
  {
   "cell_type": "code",
   "execution_count": 6,
   "metadata": {},
   "outputs": [
    {
     "data": {
      "text/plain": [
       "(2935849, 6)"
      ]
     },
     "execution_count": 6,
     "metadata": {},
     "output_type": "execute_result"
    }
   ],
   "source": [
    "sales.shape"
   ]
  },
  {
   "cell_type": "code",
   "execution_count": 7,
   "metadata": {},
   "outputs": [
    {
     "data": {
      "text/plain": [
       "date              False\n",
       "date_block_num    False\n",
       "shop_id           False\n",
       "item_id           False\n",
       "item_price        False\n",
       "item_cnt_day      False\n",
       "dtype: bool"
      ]
     },
     "execution_count": 7,
     "metadata": {},
     "output_type": "execute_result"
    }
   ],
   "source": [
    "sales.isnull().any()"
   ]
  },
  {
   "cell_type": "code",
   "execution_count": 8,
   "metadata": {},
   "outputs": [
    {
     "data": {
      "text/plain": [
       "date              0\n",
       "date_block_num    0\n",
       "shop_id           0\n",
       "item_id           0\n",
       "item_price        0\n",
       "item_cnt_day      0\n",
       "dtype: int64"
      ]
     },
     "execution_count": 8,
     "metadata": {},
     "output_type": "execute_result"
    }
   ],
   "source": [
    "sales.isna().sum()"
   ]
  },
  {
   "cell_type": "code",
   "execution_count": 9,
   "metadata": {},
   "outputs": [],
   "source": [
    "sales = sales.join(items, on='item_id', how='left', rsuffix='_2').drop(['item_name', 'item_id_2'], axis=1)"
   ]
  },
  {
   "cell_type": "code",
   "execution_count": 10,
   "metadata": {},
   "outputs": [],
   "source": [
    "# Restrict the training set to only the shop_id that appear in the test set\n",
    "#sales = sales[sales['shop_id'].isin(test_set['shop_id'].unique())]"
   ]
  },
  {
   "cell_type": "code",
   "execution_count": 11,
   "metadata": {},
   "outputs": [
    {
     "data": {
      "text/plain": [
       "(2935849, 7)"
      ]
     },
     "execution_count": 11,
     "metadata": {},
     "output_type": "execute_result"
    }
   ],
   "source": [
    "sales.shape"
   ]
  },
  {
   "cell_type": "code",
   "execution_count": 12,
   "metadata": {},
   "outputs": [],
   "source": [
    "# Restrict the training set to only the item_id that appear in the test set\n",
    "#sales = sales[sales['item_id'].isin(test_set['item_id'].unique())]"
   ]
  },
  {
   "cell_type": "code",
   "execution_count": 13,
   "metadata": {},
   "outputs": [
    {
     "data": {
      "text/plain": [
       "(2935849, 7)"
      ]
     },
     "execution_count": 13,
     "metadata": {},
     "output_type": "execute_result"
    }
   ],
   "source": [
    "sales.shape"
   ]
  },
  {
   "cell_type": "code",
   "execution_count": 14,
   "metadata": {},
   "outputs": [
    {
     "data": {
      "text/plain": [
       "(42,)"
      ]
     },
     "execution_count": 14,
     "metadata": {},
     "output_type": "execute_result"
    }
   ],
   "source": [
    "test_set['shop_id'].unique().shape"
   ]
  },
  {
   "cell_type": "code",
   "execution_count": 15,
   "metadata": {},
   "outputs": [
    {
     "data": {
      "text/plain": [
       "(5100,)"
      ]
     },
     "execution_count": 15,
     "metadata": {},
     "output_type": "execute_result"
    }
   ],
   "source": [
    "test_set['item_id'].unique().shape"
   ]
  },
  {
   "cell_type": "code",
   "execution_count": 16,
   "metadata": {},
   "outputs": [
    {
     "data": {
      "text/plain": [
       "1"
      ]
     },
     "execution_count": 16,
     "metadata": {},
     "output_type": "execute_result"
    }
   ],
   "source": [
    "np.sum(sales['item_price'] < 0)"
   ]
  },
  {
   "cell_type": "code",
   "execution_count": 17,
   "metadata": {},
   "outputs": [],
   "source": [
    "# Judgement call to include returned items or not. I won't include them to use only sales to predict future sales\n",
    "sales = sales.query('item_cnt_day > 0 & item_price > 0')"
   ]
  },
  {
   "cell_type": "code",
   "execution_count": 18,
   "metadata": {},
   "outputs": [
    {
     "data": {
      "text/plain": [
       "(2928492, 7)"
      ]
     },
     "execution_count": 18,
     "metadata": {},
     "output_type": "execute_result"
    }
   ],
   "source": [
    "sales.shape"
   ]
  },
  {
   "cell_type": "markdown",
   "metadata": {},
   "source": [
    "### Look for outliers"
   ]
  },
  {
   "cell_type": "code",
   "execution_count": 19,
   "metadata": {},
   "outputs": [
    {
     "data": {
      "text/plain": [
       "<matplotlib.axes._subplots.AxesSubplot at 0x1573aff1860>"
      ]
     },
     "execution_count": 19,
     "metadata": {},
     "output_type": "execute_result"
    },
    {
     "data": {
      "image/png": "[encoded data removed]",
      "text/plain": [
       "<Figure size 432x288 with 1 Axes>"
      ]
     },
     "metadata": {
      "needs_background": "light"
     },
     "output_type": "display_data"
    }
   ],
   "source": [
    "sns.boxplot(sales['item_price'])"
   ]
  },
  {
   "cell_type": "code",
   "execution_count": 20,
   "metadata": {},
   "outputs": [
    {
     "data": {
      "text/plain": [
       "2932600     32990.0\n",
       "2888030     32990.0\n",
       "2903074     32990.0\n",
       "2935504     32990.0\n",
       "2935492     32990.0\n",
       "2932210     32990.0\n",
       "2875854     32990.0\n",
       "2895869     32990.0\n",
       "2506287     32990.0\n",
       "2867781     32990.0\n",
       "2913586     32990.0\n",
       "2892592     32990.0\n",
       "2913587     32990.0\n",
       "2913588     32990.0\n",
       "2900664     32990.0\n",
       "2853570     32990.0\n",
       "2915836     32990.0\n",
       "2894209     32990.0\n",
       "2916499     32990.0\n",
       "2916500     32990.0\n",
       "2831989     32990.0\n",
       "2894005     32990.0\n",
       "2834039     32990.0\n",
       "2908338     32990.0\n",
       "2907579     32990.0\n",
       "2843836     32990.0\n",
       "2550651     32990.0\n",
       "2870059     32990.0\n",
       "2870058     32990.0\n",
       "2515389     32990.0\n",
       "             ...   \n",
       "2608059     35300.0\n",
       "2456433     35490.0\n",
       "2480977     35490.0\n",
       "2425790     35490.0\n",
       "2532303     35490.0\n",
       "2454932     35490.0\n",
       "2531465     35990.0\n",
       "1058026     35990.0\n",
       "2464450     35990.0\n",
       "2890617     35991.0\n",
       "884848      36990.0\n",
       "1592289     36990.0\n",
       "1656109     36990.0\n",
       "1394150     36990.0\n",
       "2932637     37991.0\n",
       "2885694     37991.0\n",
       "2143903     40900.0\n",
       "2927572     40991.0\n",
       "2893100     41990.0\n",
       "2913267     41990.0\n",
       "2910155     41990.0\n",
       "1006638     42000.0\n",
       "2910156     42990.0\n",
       "2917760     42990.0\n",
       "2931380     42990.0\n",
       "2885692     42990.0\n",
       "2327159     49782.0\n",
       "1488135     50999.0\n",
       "885138      59200.0\n",
       "1163158    307980.0\n",
       "Name: item_price, Length: 100, dtype: float64"
      ]
     },
     "execution_count": 20,
     "metadata": {},
     "output_type": "execute_result"
    }
   ],
   "source": [
    "sales['item_price'].sort_values().iloc[-100:]"
   ]
  },
  {
   "cell_type": "code",
   "execution_count": 21,
   "metadata": {},
   "outputs": [
    {
     "data": {
      "text/plain": [
       "<matplotlib.axes._subplots.AxesSubplot at 0x1573b4f6748>"
      ]
     },
     "execution_count": 21,
     "metadata": {},
     "output_type": "execute_result"
    },
    {
     "data": {
      "image/png": "[encoded data removed]",
      "text/plain": [
       "<Figure size 432x288 with 1 Axes>"
      ]
     },
     "metadata": {
      "needs_background": "light"
     },
     "output_type": "display_data"
    }
   ],
   "source": [
    "sns.boxplot(sales['item_cnt_day'])"
   ]
  },
  {
   "cell_type": "code",
   "execution_count": 22,
   "metadata": {},
   "outputs": [
    {
     "data": {
      "text/plain": [
       "1686924     164.0\n",
       "2185126     167.0\n",
       "1014331     168.0\n",
       "853771      168.0\n",
       "890809      171.0\n",
       "2555809     171.0\n",
       "1650935     171.0\n",
       "2660666     179.0\n",
       "2625791     187.0\n",
       "1170070     194.0\n",
       "2048497     195.0\n",
       "566159      200.0\n",
       "2296209     205.0\n",
       "2626213     205.0\n",
       "2567454     207.0\n",
       "845690      217.0\n",
       "2341308     222.0\n",
       "2660602     230.0\n",
       "2578940     231.0\n",
       "1618930     240.0\n",
       "1058340     242.0\n",
       "1782715     251.0\n",
       "1170072     255.0\n",
       "862929      264.0\n",
       "890790      288.0\n",
       "2597018     299.0\n",
       "1549966     300.0\n",
       "2406023     313.0\n",
       "2137371     313.0\n",
       "2406117     325.0\n",
       "2626133     343.0\n",
       "2067667     401.0\n",
       "1573252     401.0\n",
       "1501160     405.0\n",
       "2067677     412.0\n",
       "2625847     480.0\n",
       "2909401     500.0\n",
       "2257299     500.0\n",
       "1708207     501.0\n",
       "1573253     502.0\n",
       "2864260     504.0\n",
       "2067669     508.0\n",
       "2048518     512.0\n",
       "2851073     533.0\n",
       "2626181     539.0\n",
       "2608040     624.0\n",
       "2851091     637.0\n",
       "2864235     669.0\n",
       "2326930    1000.0\n",
       "2909818    2169.0\n",
       "Name: item_cnt_day, dtype: float64"
      ]
     },
     "execution_count": 22,
     "metadata": {},
     "output_type": "execute_result"
    }
   ],
   "source": [
    "sales['item_cnt_day'].sort_values().iloc[-50:]"
   ]
  },
  {
   "cell_type": "code",
   "execution_count": 23,
   "metadata": {},
   "outputs": [],
   "source": [
    "# Remove outliers\n",
    "sales = sales.query('item_price <= 100000 and item_cnt_day <= 1000 ')"
   ]
  },
  {
   "cell_type": "code",
   "execution_count": 24,
   "metadata": {},
   "outputs": [
    {
     "data": {
      "text/html": [
       "<div>\n",
       "<style scoped>\n",
       "    .dataframe tbody tr th:only-of-type {\n",
       "        vertical-align: middle;\n",
       "    }\n",
       "\n",
       "    .dataframe tbody tr th {\n",
       "        vertical-align: top;\n",
       "    }\n",
       "\n",
       "    .dataframe thead th {\n",
       "        text-align: right;\n",
       "    }\n",
       "</style>\n",
       "<table border=\"1\" class=\"dataframe\">\n",
       "  <thead>\n",
       "    <tr style=\"text-align: right;\">\n",
       "      <th></th>\n",
       "      <th>date</th>\n",
       "      <th>date_block_num</th>\n",
       "      <th>shop_id</th>\n",
       "      <th>item_id</th>\n",
       "      <th>item_price</th>\n",
       "      <th>item_cnt_day</th>\n",
       "      <th>item_category_id</th>\n",
       "    </tr>\n",
       "  </thead>\n",
       "  <tbody>\n",
       "    <tr>\n",
       "      <th>0</th>\n",
       "      <td>02.01.2013</td>\n",
       "      <td>0</td>\n",
       "      <td>59</td>\n",
       "      <td>22154</td>\n",
       "      <td>999.00</td>\n",
       "      <td>1.0</td>\n",
       "      <td>37</td>\n",
       "    </tr>\n",
       "    <tr>\n",
       "      <th>1</th>\n",
       "      <td>03.01.2013</td>\n",
       "      <td>0</td>\n",
       "      <td>25</td>\n",
       "      <td>2552</td>\n",
       "      <td>899.00</td>\n",
       "      <td>1.0</td>\n",
       "      <td>58</td>\n",
       "    </tr>\n",
       "    <tr>\n",
       "      <th>3</th>\n",
       "      <td>06.01.2013</td>\n",
       "      <td>0</td>\n",
       "      <td>25</td>\n",
       "      <td>2554</td>\n",
       "      <td>1709.05</td>\n",
       "      <td>1.0</td>\n",
       "      <td>58</td>\n",
       "    </tr>\n",
       "    <tr>\n",
       "      <th>4</th>\n",
       "      <td>15.01.2013</td>\n",
       "      <td>0</td>\n",
       "      <td>25</td>\n",
       "      <td>2555</td>\n",
       "      <td>1099.00</td>\n",
       "      <td>1.0</td>\n",
       "      <td>56</td>\n",
       "    </tr>\n",
       "    <tr>\n",
       "      <th>5</th>\n",
       "      <td>10.01.2013</td>\n",
       "      <td>0</td>\n",
       "      <td>25</td>\n",
       "      <td>2564</td>\n",
       "      <td>349.00</td>\n",
       "      <td>1.0</td>\n",
       "      <td>59</td>\n",
       "    </tr>\n",
       "  </tbody>\n",
       "</table>\n",
       "</div>"
      ],
      "text/plain": [
       "         date  date_block_num  shop_id  item_id  item_price  item_cnt_day  \\\n",
       "0  02.01.2013               0       59    22154      999.00           1.0   \n",
       "1  03.01.2013               0       25     2552      899.00           1.0   \n",
       "3  06.01.2013               0       25     2554     1709.05           1.0   \n",
       "4  15.01.2013               0       25     2555     1099.00           1.0   \n",
       "5  10.01.2013               0       25     2564      349.00           1.0   \n",
       "\n",
       "   item_category_id  \n",
       "0                37  \n",
       "1                58  \n",
       "3                58  \n",
       "4                56  \n",
       "5                59  "
      ]
     },
     "execution_count": 24,
     "metadata": {},
     "output_type": "execute_result"
    }
   ],
   "source": [
    "sales.head(5)"
   ]
  },
  {
   "cell_type": "markdown",
   "metadata": {},
   "source": [
    "### Group features by month"
   ]
  },
  {
   "cell_type": "code",
   "execution_count": 25,
   "metadata": {},
   "outputs": [],
   "source": [
    "monthly_features = sales.copy()"
   ]
  },
  {
   "cell_type": "code",
   "execution_count": 26,
   "metadata": {},
   "outputs": [],
   "source": [
    "monthly_features = sales.groupby(['date_block_num','shop_id','item_id'], as_index=False)\\\n",
    ".agg({'item_price':'mean', 'item_cnt_day':['sum','count']})\n",
    "\n",
    "monthly_features.columns = ['date_block_num', 'shop_id', 'item_id',\\\n",
    "                            'item_price_mean', 'item_cnt_month', 'transactions']\n",
    "\n",
    "monthly_features_by_itemid = sales.sort_values(by='date').groupby(['date_block_num','item_id'], as_index=False)\\\n",
    ".agg({'item_price':'mean', 'item_cnt_day':'sum'})\n",
    "\n",
    "monthly_features_by_itemid.columns = ['date_block_num', 'item_id','item_price_mean_by_itemid', 'item_cnt_month_by_itemid']\n",
    "\n",
    "#monthly_features['item_revenue'] = monthly_features['item_price_mean'] * monthly_features['item_cnt_month']"
   ]
  },
  {
   "cell_type": "code",
   "execution_count": 27,
   "metadata": {},
   "outputs": [
    {
     "data": {
      "text/html": [
       "<div>\n",
       "<style scoped>\n",
       "    .dataframe tbody tr th:only-of-type {\n",
       "        vertical-align: middle;\n",
       "    }\n",
       "\n",
       "    .dataframe tbody tr th {\n",
       "        vertical-align: top;\n",
       "    }\n",
       "\n",
       "    .dataframe thead th {\n",
       "        text-align: right;\n",
       "    }\n",
       "</style>\n",
       "<table border=\"1\" class=\"dataframe\">\n",
       "  <thead>\n",
       "    <tr style=\"text-align: right;\">\n",
       "      <th></th>\n",
       "      <th>date_block_num</th>\n",
       "      <th>shop_id</th>\n",
       "      <th>item_id</th>\n",
       "      <th>item_price_mean</th>\n",
       "      <th>item_cnt_month</th>\n",
       "      <th>transactions</th>\n",
       "    </tr>\n",
       "  </thead>\n",
       "  <tbody>\n",
       "    <tr>\n",
       "      <th>0</th>\n",
       "      <td>0</td>\n",
       "      <td>0</td>\n",
       "      <td>32</td>\n",
       "      <td>221.0</td>\n",
       "      <td>6.0</td>\n",
       "      <td>4</td>\n",
       "    </tr>\n",
       "    <tr>\n",
       "      <th>1</th>\n",
       "      <td>0</td>\n",
       "      <td>0</td>\n",
       "      <td>33</td>\n",
       "      <td>347.0</td>\n",
       "      <td>3.0</td>\n",
       "      <td>3</td>\n",
       "    </tr>\n",
       "    <tr>\n",
       "      <th>2</th>\n",
       "      <td>0</td>\n",
       "      <td>0</td>\n",
       "      <td>35</td>\n",
       "      <td>247.0</td>\n",
       "      <td>1.0</td>\n",
       "      <td>1</td>\n",
       "    </tr>\n",
       "    <tr>\n",
       "      <th>3</th>\n",
       "      <td>0</td>\n",
       "      <td>0</td>\n",
       "      <td>43</td>\n",
       "      <td>221.0</td>\n",
       "      <td>1.0</td>\n",
       "      <td>1</td>\n",
       "    </tr>\n",
       "    <tr>\n",
       "      <th>4</th>\n",
       "      <td>0</td>\n",
       "      <td>0</td>\n",
       "      <td>51</td>\n",
       "      <td>128.5</td>\n",
       "      <td>2.0</td>\n",
       "      <td>2</td>\n",
       "    </tr>\n",
       "    <tr>\n",
       "      <th>5</th>\n",
       "      <td>0</td>\n",
       "      <td>0</td>\n",
       "      <td>61</td>\n",
       "      <td>195.0</td>\n",
       "      <td>1.0</td>\n",
       "      <td>1</td>\n",
       "    </tr>\n",
       "    <tr>\n",
       "      <th>6</th>\n",
       "      <td>0</td>\n",
       "      <td>0</td>\n",
       "      <td>75</td>\n",
       "      <td>76.0</td>\n",
       "      <td>1.0</td>\n",
       "      <td>1</td>\n",
       "    </tr>\n",
       "    <tr>\n",
       "      <th>7</th>\n",
       "      <td>0</td>\n",
       "      <td>0</td>\n",
       "      <td>88</td>\n",
       "      <td>76.0</td>\n",
       "      <td>1.0</td>\n",
       "      <td>1</td>\n",
       "    </tr>\n",
       "    <tr>\n",
       "      <th>8</th>\n",
       "      <td>0</td>\n",
       "      <td>0</td>\n",
       "      <td>95</td>\n",
       "      <td>193.0</td>\n",
       "      <td>1.0</td>\n",
       "      <td>1</td>\n",
       "    </tr>\n",
       "    <tr>\n",
       "      <th>9</th>\n",
       "      <td>0</td>\n",
       "      <td>0</td>\n",
       "      <td>96</td>\n",
       "      <td>70.0</td>\n",
       "      <td>1.0</td>\n",
       "      <td>1</td>\n",
       "    </tr>\n",
       "  </tbody>\n",
       "</table>\n",
       "</div>"
      ],
      "text/plain": [
       "   date_block_num  shop_id  item_id  item_price_mean  item_cnt_month  \\\n",
       "0               0        0       32            221.0             6.0   \n",
       "1               0        0       33            347.0             3.0   \n",
       "2               0        0       35            247.0             1.0   \n",
       "3               0        0       43            221.0             1.0   \n",
       "4               0        0       51            128.5             2.0   \n",
       "5               0        0       61            195.0             1.0   \n",
       "6               0        0       75             76.0             1.0   \n",
       "7               0        0       88             76.0             1.0   \n",
       "8               0        0       95            193.0             1.0   \n",
       "9               0        0       96             70.0             1.0   \n",
       "\n",
       "   transactions  \n",
       "0             4  \n",
       "1             3  \n",
       "2             1  \n",
       "3             1  \n",
       "4             2  \n",
       "5             1  \n",
       "6             1  \n",
       "7             1  \n",
       "8             1  \n",
       "9             1  "
      ]
     },
     "execution_count": 27,
     "metadata": {},
     "output_type": "execute_result"
    }
   ],
   "source": [
    "monthly_features.head(10)"
   ]
  },
  {
   "cell_type": "code",
   "execution_count": 28,
   "metadata": {},
   "outputs": [
    {
     "data": {
      "text/html": [
       "<div>\n",
       "<style scoped>\n",
       "    .dataframe tbody tr th:only-of-type {\n",
       "        vertical-align: middle;\n",
       "    }\n",
       "\n",
       "    .dataframe tbody tr th {\n",
       "        vertical-align: top;\n",
       "    }\n",
       "\n",
       "    .dataframe thead th {\n",
       "        text-align: right;\n",
       "    }\n",
       "</style>\n",
       "<table border=\"1\" class=\"dataframe\">\n",
       "  <thead>\n",
       "    <tr style=\"text-align: right;\">\n",
       "      <th></th>\n",
       "      <th>date_block_num</th>\n",
       "      <th>item_id</th>\n",
       "      <th>item_price_mean_by_itemid</th>\n",
       "      <th>item_cnt_month_by_itemid</th>\n",
       "    </tr>\n",
       "  </thead>\n",
       "  <tbody>\n",
       "    <tr>\n",
       "      <th>0</th>\n",
       "      <td>0</td>\n",
       "      <td>19</td>\n",
       "      <td>28.000000</td>\n",
       "      <td>1.0</td>\n",
       "    </tr>\n",
       "    <tr>\n",
       "      <th>1</th>\n",
       "      <td>0</td>\n",
       "      <td>27</td>\n",
       "      <td>2325.000000</td>\n",
       "      <td>7.0</td>\n",
       "    </tr>\n",
       "    <tr>\n",
       "      <th>2</th>\n",
       "      <td>0</td>\n",
       "      <td>28</td>\n",
       "      <td>549.000000</td>\n",
       "      <td>8.0</td>\n",
       "    </tr>\n",
       "    <tr>\n",
       "      <th>3</th>\n",
       "      <td>0</td>\n",
       "      <td>29</td>\n",
       "      <td>2377.200000</td>\n",
       "      <td>5.0</td>\n",
       "    </tr>\n",
       "    <tr>\n",
       "      <th>4</th>\n",
       "      <td>0</td>\n",
       "      <td>32</td>\n",
       "      <td>338.110349</td>\n",
       "      <td>299.0</td>\n",
       "    </tr>\n",
       "    <tr>\n",
       "      <th>5</th>\n",
       "      <td>0</td>\n",
       "      <td>33</td>\n",
       "      <td>488.517241</td>\n",
       "      <td>61.0</td>\n",
       "    </tr>\n",
       "    <tr>\n",
       "      <th>6</th>\n",
       "      <td>0</td>\n",
       "      <td>34</td>\n",
       "      <td>140.888889</td>\n",
       "      <td>9.0</td>\n",
       "    </tr>\n",
       "    <tr>\n",
       "      <th>7</th>\n",
       "      <td>0</td>\n",
       "      <td>35</td>\n",
       "      <td>390.709091</td>\n",
       "      <td>78.0</td>\n",
       "    </tr>\n",
       "    <tr>\n",
       "      <th>8</th>\n",
       "      <td>0</td>\n",
       "      <td>40</td>\n",
       "      <td>219.250000</td>\n",
       "      <td>4.0</td>\n",
       "    </tr>\n",
       "    <tr>\n",
       "      <th>9</th>\n",
       "      <td>0</td>\n",
       "      <td>41</td>\n",
       "      <td>222.555556</td>\n",
       "      <td>9.0</td>\n",
       "    </tr>\n",
       "  </tbody>\n",
       "</table>\n",
       "</div>"
      ],
      "text/plain": [
       "   date_block_num  item_id  item_price_mean_by_itemid  \\\n",
       "0               0       19                  28.000000   \n",
       "1               0       27                2325.000000   \n",
       "2               0       28                 549.000000   \n",
       "3               0       29                2377.200000   \n",
       "4               0       32                 338.110349   \n",
       "5               0       33                 488.517241   \n",
       "6               0       34                 140.888889   \n",
       "7               0       35                 390.709091   \n",
       "8               0       40                 219.250000   \n",
       "9               0       41                 222.555556   \n",
       "\n",
       "   item_cnt_month_by_itemid  \n",
       "0                       1.0  \n",
       "1                       7.0  \n",
       "2                       8.0  \n",
       "3                       5.0  \n",
       "4                     299.0  \n",
       "5                      61.0  \n",
       "6                       9.0  \n",
       "7                      78.0  \n",
       "8                       4.0  \n",
       "9                       9.0  "
      ]
     },
     "execution_count": 28,
     "metadata": {},
     "output_type": "execute_result"
    }
   ],
   "source": [
    "monthly_features_by_itemid.head(10)"
   ]
  },
  {
   "cell_type": "code",
   "execution_count": 29,
   "metadata": {},
   "outputs": [
    {
     "name": "stdout",
     "output_type": "stream",
     "text": [
      "(1608225, 6)\n",
      "(233801, 4)\n"
     ]
    }
   ],
   "source": [
    "print(monthly_features.shape)\n",
    "print(monthly_features_by_itemid.shape)"
   ]
  },
  {
   "cell_type": "code",
   "execution_count": 30,
   "metadata": {},
   "outputs": [],
   "source": [
    "# Clip the target variable to make it similar to the test predictions\n",
    "monthly_features['item_cnt_month'] = monthly_features['item_cnt_month'].clip(0,20) # VERY IMPORTANT"
   ]
  },
  {
   "cell_type": "code",
   "execution_count": 31,
   "metadata": {},
   "outputs": [
    {
     "data": {
      "text/plain": [
       "0"
      ]
     },
     "execution_count": 31,
     "metadata": {},
     "output_type": "execute_result"
    }
   ],
   "source": [
    "np.sum(monthly_features['item_cnt_month'] > 20)"
   ]
  },
  {
   "cell_type": "markdown",
   "metadata": {},
   "source": [
    "### Create matrix of all possible combinations from date_block_num, shop_id and test_id in the test set"
   ]
  },
  {
   "cell_type": "code",
   "execution_count": 32,
   "metadata": {},
   "outputs": [],
   "source": [
    "from itertools import product\n",
    "index_cols = [ 'date_block_num', 'shop_id', 'item_id']\n",
    "\n",
    "# For every month we create a grid from all shops/items combinations from that month\n",
    "all_combinations_list = [] \n",
    "for block_num in sales['date_block_num'].unique():\n",
    "    cur_shops = sales[sales['date_block_num']==block_num]['shop_id'].unique()\n",
    "    cur_items = sales[sales['date_block_num']==block_num]['item_id'].unique()\n",
    "    all_combinations_list.append(np.array(list(product(*[[block_num], cur_shops, cur_items ])),dtype='int32'))\n",
    "\n",
    "#turn the grid into pandas dataframe\n",
    "all_combinations_df = pd.DataFrame(np.vstack(all_combinations_list), columns = index_cols,dtype=np.int32)\n",
    "\n",
    "#sort the data\n",
    "all_combinations_df.sort_values(['date_block_num','shop_id','item_id'],inplace=True)"
   ]
  },
  {
   "cell_type": "code",
   "execution_count": 33,
   "metadata": {},
   "outputs": [],
   "source": [
    "## Why is this block of code not ok??\n",
    "#from itertools import product\n",
    "#index_cols = ['date_block_num', 'shop_id', 'item_id']\n",
    "\n",
    "#month = sales['date_block_num'].unique()\n",
    "#shop = test_set['shop_id'].unique()\n",
    "#item = test_set['item_id'].unique()\n",
    "\n",
    "#all_combinations_list2 = np.array(list(product(*[month,shop,item])),dtype='int32')\n",
    "#all_combinations_df2 = pd.DataFrame(np.vstack(all_combinations_list2), columns = index_cols, dtype=np.int32)\n",
    "\n",
    "#print(all_combinations_df2.shape)\n",
    "#all_combinations_df2.head()\n",
    "\n",
    "## Because we add to many sales of value 0, even for ['shop_id','item_id'] that didn't even exist"
   ]
  },
  {
   "cell_type": "code",
   "execution_count": 34,
   "metadata": {},
   "outputs": [
    {
     "name": "stdout",
     "output_type": "stream",
     "text": [
      "(10884508, 3)\n"
     ]
    },
    {
     "data": {
      "text/html": [
       "<div>\n",
       "<style scoped>\n",
       "    .dataframe tbody tr th:only-of-type {\n",
       "        vertical-align: middle;\n",
       "    }\n",
       "\n",
       "    .dataframe tbody tr th {\n",
       "        vertical-align: top;\n",
       "    }\n",
       "\n",
       "    .dataframe thead th {\n",
       "        text-align: right;\n",
       "    }\n",
       "</style>\n",
       "<table border=\"1\" class=\"dataframe\">\n",
       "  <thead>\n",
       "    <tr style=\"text-align: right;\">\n",
       "      <th></th>\n",
       "      <th>date_block_num</th>\n",
       "      <th>shop_id</th>\n",
       "      <th>item_id</th>\n",
       "    </tr>\n",
       "  </thead>\n",
       "  <tbody>\n",
       "    <tr>\n",
       "      <th>139168</th>\n",
       "      <td>0</td>\n",
       "      <td>0</td>\n",
       "      <td>19</td>\n",
       "    </tr>\n",
       "    <tr>\n",
       "      <th>141406</th>\n",
       "      <td>0</td>\n",
       "      <td>0</td>\n",
       "      <td>27</td>\n",
       "    </tr>\n",
       "    <tr>\n",
       "      <th>144881</th>\n",
       "      <td>0</td>\n",
       "      <td>0</td>\n",
       "      <td>28</td>\n",
       "    </tr>\n",
       "    <tr>\n",
       "      <th>142572</th>\n",
       "      <td>0</td>\n",
       "      <td>0</td>\n",
       "      <td>29</td>\n",
       "    </tr>\n",
       "    <tr>\n",
       "      <th>138861</th>\n",
       "      <td>0</td>\n",
       "      <td>0</td>\n",
       "      <td>32</td>\n",
       "    </tr>\n",
       "  </tbody>\n",
       "</table>\n",
       "</div>"
      ],
      "text/plain": [
       "        date_block_num  shop_id  item_id\n",
       "139168               0        0       19\n",
       "141406               0        0       27\n",
       "144881               0        0       28\n",
       "142572               0        0       29\n",
       "138861               0        0       32"
      ]
     },
     "execution_count": 34,
     "metadata": {},
     "output_type": "execute_result"
    }
   ],
   "source": [
    "print(all_combinations_df.shape)\n",
    "all_combinations_df.head()"
   ]
  },
  {
   "cell_type": "code",
   "execution_count": 35,
   "metadata": {},
   "outputs": [
    {
     "name": "stdout",
     "output_type": "stream",
     "text": [
      "(10884508, 8)\n"
     ]
    },
    {
     "data": {
      "text/html": [
       "<div>\n",
       "<style scoped>\n",
       "    .dataframe tbody tr th:only-of-type {\n",
       "        vertical-align: middle;\n",
       "    }\n",
       "\n",
       "    .dataframe tbody tr th {\n",
       "        vertical-align: top;\n",
       "    }\n",
       "\n",
       "    .dataframe thead th {\n",
       "        text-align: right;\n",
       "    }\n",
       "</style>\n",
       "<table border=\"1\" class=\"dataframe\">\n",
       "  <thead>\n",
       "    <tr style=\"text-align: right;\">\n",
       "      <th></th>\n",
       "      <th>date_block_num</th>\n",
       "      <th>shop_id</th>\n",
       "      <th>item_id</th>\n",
       "      <th>item_price_mean</th>\n",
       "      <th>item_cnt_month</th>\n",
       "      <th>transactions</th>\n",
       "      <th>item_price_mean_by_itemid</th>\n",
       "      <th>item_cnt_month_by_itemid</th>\n",
       "    </tr>\n",
       "  </thead>\n",
       "  <tbody>\n",
       "    <tr>\n",
       "      <th>0</th>\n",
       "      <td>0</td>\n",
       "      <td>0</td>\n",
       "      <td>19</td>\n",
       "      <td>0.0</td>\n",
       "      <td>0.0</td>\n",
       "      <td>0.0</td>\n",
       "      <td>28.000000</td>\n",
       "      <td>1.0</td>\n",
       "    </tr>\n",
       "    <tr>\n",
       "      <th>1</th>\n",
       "      <td>0</td>\n",
       "      <td>0</td>\n",
       "      <td>27</td>\n",
       "      <td>0.0</td>\n",
       "      <td>0.0</td>\n",
       "      <td>0.0</td>\n",
       "      <td>2325.000000</td>\n",
       "      <td>7.0</td>\n",
       "    </tr>\n",
       "    <tr>\n",
       "      <th>2</th>\n",
       "      <td>0</td>\n",
       "      <td>0</td>\n",
       "      <td>28</td>\n",
       "      <td>0.0</td>\n",
       "      <td>0.0</td>\n",
       "      <td>0.0</td>\n",
       "      <td>549.000000</td>\n",
       "      <td>8.0</td>\n",
       "    </tr>\n",
       "    <tr>\n",
       "      <th>3</th>\n",
       "      <td>0</td>\n",
       "      <td>0</td>\n",
       "      <td>29</td>\n",
       "      <td>0.0</td>\n",
       "      <td>0.0</td>\n",
       "      <td>0.0</td>\n",
       "      <td>2377.200000</td>\n",
       "      <td>5.0</td>\n",
       "    </tr>\n",
       "    <tr>\n",
       "      <th>4</th>\n",
       "      <td>0</td>\n",
       "      <td>0</td>\n",
       "      <td>32</td>\n",
       "      <td>221.0</td>\n",
       "      <td>6.0</td>\n",
       "      <td>4.0</td>\n",
       "      <td>338.110349</td>\n",
       "      <td>299.0</td>\n",
       "    </tr>\n",
       "    <tr>\n",
       "      <th>5</th>\n",
       "      <td>0</td>\n",
       "      <td>0</td>\n",
       "      <td>33</td>\n",
       "      <td>347.0</td>\n",
       "      <td>3.0</td>\n",
       "      <td>3.0</td>\n",
       "      <td>488.517241</td>\n",
       "      <td>61.0</td>\n",
       "    </tr>\n",
       "    <tr>\n",
       "      <th>6</th>\n",
       "      <td>0</td>\n",
       "      <td>0</td>\n",
       "      <td>34</td>\n",
       "      <td>0.0</td>\n",
       "      <td>0.0</td>\n",
       "      <td>0.0</td>\n",
       "      <td>140.888889</td>\n",
       "      <td>9.0</td>\n",
       "    </tr>\n",
       "    <tr>\n",
       "      <th>7</th>\n",
       "      <td>0</td>\n",
       "      <td>0</td>\n",
       "      <td>35</td>\n",
       "      <td>247.0</td>\n",
       "      <td>1.0</td>\n",
       "      <td>1.0</td>\n",
       "      <td>390.709091</td>\n",
       "      <td>78.0</td>\n",
       "    </tr>\n",
       "    <tr>\n",
       "      <th>8</th>\n",
       "      <td>0</td>\n",
       "      <td>0</td>\n",
       "      <td>40</td>\n",
       "      <td>0.0</td>\n",
       "      <td>0.0</td>\n",
       "      <td>0.0</td>\n",
       "      <td>219.250000</td>\n",
       "      <td>4.0</td>\n",
       "    </tr>\n",
       "    <tr>\n",
       "      <th>9</th>\n",
       "      <td>0</td>\n",
       "      <td>0</td>\n",
       "      <td>41</td>\n",
       "      <td>0.0</td>\n",
       "      <td>0.0</td>\n",
       "      <td>0.0</td>\n",
       "      <td>222.555556</td>\n",
       "      <td>9.0</td>\n",
       "    </tr>\n",
       "    <tr>\n",
       "      <th>10</th>\n",
       "      <td>0</td>\n",
       "      <td>0</td>\n",
       "      <td>42</td>\n",
       "      <td>0.0</td>\n",
       "      <td>0.0</td>\n",
       "      <td>0.0</td>\n",
       "      <td>249.000000</td>\n",
       "      <td>2.0</td>\n",
       "    </tr>\n",
       "    <tr>\n",
       "      <th>11</th>\n",
       "      <td>0</td>\n",
       "      <td>0</td>\n",
       "      <td>43</td>\n",
       "      <td>221.0</td>\n",
       "      <td>1.0</td>\n",
       "      <td>1.0</td>\n",
       "      <td>234.500000</td>\n",
       "      <td>2.0</td>\n",
       "    </tr>\n",
       "    <tr>\n",
       "      <th>12</th>\n",
       "      <td>0</td>\n",
       "      <td>0</td>\n",
       "      <td>44</td>\n",
       "      <td>0.0</td>\n",
       "      <td>0.0</td>\n",
       "      <td>0.0</td>\n",
       "      <td>229.166667</td>\n",
       "      <td>6.0</td>\n",
       "    </tr>\n",
       "    <tr>\n",
       "      <th>13</th>\n",
       "      <td>0</td>\n",
       "      <td>0</td>\n",
       "      <td>45</td>\n",
       "      <td>0.0</td>\n",
       "      <td>0.0</td>\n",
       "      <td>0.0</td>\n",
       "      <td>299.000000</td>\n",
       "      <td>8.0</td>\n",
       "    </tr>\n",
       "    <tr>\n",
       "      <th>14</th>\n",
       "      <td>0</td>\n",
       "      <td>0</td>\n",
       "      <td>46</td>\n",
       "      <td>0.0</td>\n",
       "      <td>0.0</td>\n",
       "      <td>0.0</td>\n",
       "      <td>249.000000</td>\n",
       "      <td>2.0</td>\n",
       "    </tr>\n",
       "    <tr>\n",
       "      <th>15</th>\n",
       "      <td>0</td>\n",
       "      <td>0</td>\n",
       "      <td>47</td>\n",
       "      <td>0.0</td>\n",
       "      <td>0.0</td>\n",
       "      <td>0.0</td>\n",
       "      <td>249.000000</td>\n",
       "      <td>6.0</td>\n",
       "    </tr>\n",
       "    <tr>\n",
       "      <th>16</th>\n",
       "      <td>0</td>\n",
       "      <td>0</td>\n",
       "      <td>48</td>\n",
       "      <td>0.0</td>\n",
       "      <td>0.0</td>\n",
       "      <td>0.0</td>\n",
       "      <td>249.000000</td>\n",
       "      <td>7.0</td>\n",
       "    </tr>\n",
       "    <tr>\n",
       "      <th>17</th>\n",
       "      <td>0</td>\n",
       "      <td>0</td>\n",
       "      <td>49</td>\n",
       "      <td>0.0</td>\n",
       "      <td>0.0</td>\n",
       "      <td>0.0</td>\n",
       "      <td>249.000000</td>\n",
       "      <td>5.0</td>\n",
       "    </tr>\n",
       "    <tr>\n",
       "      <th>18</th>\n",
       "      <td>0</td>\n",
       "      <td>0</td>\n",
       "      <td>50</td>\n",
       "      <td>0.0</td>\n",
       "      <td>0.0</td>\n",
       "      <td>0.0</td>\n",
       "      <td>249.000000</td>\n",
       "      <td>2.0</td>\n",
       "    </tr>\n",
       "    <tr>\n",
       "      <th>19</th>\n",
       "      <td>0</td>\n",
       "      <td>0</td>\n",
       "      <td>51</td>\n",
       "      <td>128.5</td>\n",
       "      <td>2.0</td>\n",
       "      <td>2.0</td>\n",
       "      <td>230.461538</td>\n",
       "      <td>13.0</td>\n",
       "    </tr>\n",
       "  </tbody>\n",
       "</table>\n",
       "</div>"
      ],
      "text/plain": [
       "    date_block_num  shop_id  item_id  item_price_mean  item_cnt_month  \\\n",
       "0                0        0       19              0.0             0.0   \n",
       "1                0        0       27              0.0             0.0   \n",
       "2                0        0       28              0.0             0.0   \n",
       "3                0        0       29              0.0             0.0   \n",
       "4                0        0       32            221.0             6.0   \n",
       "5                0        0       33            347.0             3.0   \n",
       "6                0        0       34              0.0             0.0   \n",
       "7                0        0       35            247.0             1.0   \n",
       "8                0        0       40              0.0             0.0   \n",
       "9                0        0       41              0.0             0.0   \n",
       "10               0        0       42              0.0             0.0   \n",
       "11               0        0       43            221.0             1.0   \n",
       "12               0        0       44              0.0             0.0   \n",
       "13               0        0       45              0.0             0.0   \n",
       "14               0        0       46              0.0             0.0   \n",
       "15               0        0       47              0.0             0.0   \n",
       "16               0        0       48              0.0             0.0   \n",
       "17               0        0       49              0.0             0.0   \n",
       "18               0        0       50              0.0             0.0   \n",
       "19               0        0       51            128.5             2.0   \n",
       "\n",
       "    transactions  item_price_mean_by_itemid  item_cnt_month_by_itemid  \n",
       "0            0.0                  28.000000                       1.0  \n",
       "1            0.0                2325.000000                       7.0  \n",
       "2            0.0                 549.000000                       8.0  \n",
       "3            0.0                2377.200000                       5.0  \n",
       "4            4.0                 338.110349                     299.0  \n",
       "5            3.0                 488.517241                      61.0  \n",
       "6            0.0                 140.888889                       9.0  \n",
       "7            1.0                 390.709091                      78.0  \n",
       "8            0.0                 219.250000                       4.0  \n",
       "9            0.0                 222.555556                       9.0  \n",
       "10           0.0                 249.000000                       2.0  \n",
       "11           1.0                 234.500000                       2.0  \n",
       "12           0.0                 229.166667                       6.0  \n",
       "13           0.0                 299.000000                       8.0  \n",
       "14           0.0                 249.000000                       2.0  \n",
       "15           0.0                 249.000000                       6.0  \n",
       "16           0.0                 249.000000                       7.0  \n",
       "17           0.0                 249.000000                       5.0  \n",
       "18           0.0                 249.000000                       2.0  \n",
       "19           2.0                 230.461538                      13.0  "
      ]
     },
     "execution_count": 35,
     "metadata": {},
     "output_type": "execute_result"
    }
   ],
   "source": [
    "train_set = pd.merge(all_combinations_df, monthly_features, on=index_cols, how='left')\n",
    "train_set = pd.merge(train_set, monthly_features_by_itemid, on=['date_block_num','item_id'], how='left')\n",
    "train_set.fillna(0, inplace=True)\n",
    "print(train_set.shape)\n",
    "train_set.head(20)"
   ]
  },
  {
   "cell_type": "code",
   "execution_count": 36,
   "metadata": {},
   "outputs": [
    {
     "data": {
      "text/html": [
       "<div>\n",
       "<style scoped>\n",
       "    .dataframe tbody tr th:only-of-type {\n",
       "        vertical-align: middle;\n",
       "    }\n",
       "\n",
       "    .dataframe tbody tr th {\n",
       "        vertical-align: top;\n",
       "    }\n",
       "\n",
       "    .dataframe thead th {\n",
       "        text-align: right;\n",
       "    }\n",
       "</style>\n",
       "<table border=\"1\" class=\"dataframe\">\n",
       "  <thead>\n",
       "    <tr style=\"text-align: right;\">\n",
       "      <th></th>\n",
       "      <th>shop_id</th>\n",
       "      <th>item_id</th>\n",
       "    </tr>\n",
       "    <tr>\n",
       "      <th>ID</th>\n",
       "      <th></th>\n",
       "      <th></th>\n",
       "    </tr>\n",
       "  </thead>\n",
       "  <tbody>\n",
       "    <tr>\n",
       "      <th>0</th>\n",
       "      <td>5</td>\n",
       "      <td>5037</td>\n",
       "    </tr>\n",
       "    <tr>\n",
       "      <th>1</th>\n",
       "      <td>5</td>\n",
       "      <td>5320</td>\n",
       "    </tr>\n",
       "    <tr>\n",
       "      <th>2</th>\n",
       "      <td>5</td>\n",
       "      <td>5233</td>\n",
       "    </tr>\n",
       "    <tr>\n",
       "      <th>3</th>\n",
       "      <td>5</td>\n",
       "      <td>5232</td>\n",
       "    </tr>\n",
       "    <tr>\n",
       "      <th>4</th>\n",
       "      <td>5</td>\n",
       "      <td>5268</td>\n",
       "    </tr>\n",
       "  </tbody>\n",
       "</table>\n",
       "</div>"
      ],
      "text/plain": [
       "    shop_id  item_id\n",
       "ID                  \n",
       "0         5     5037\n",
       "1         5     5320\n",
       "2         5     5233\n",
       "3         5     5232\n",
       "4         5     5268"
      ]
     },
     "execution_count": 36,
     "metadata": {},
     "output_type": "execute_result"
    }
   ],
   "source": [
    "test_set.head()"
   ]
  },
  {
   "cell_type": "code",
   "execution_count": 37,
   "metadata": {},
   "outputs": [],
   "source": [
    "test_set['date_block_num'] = 34\n",
    "test_set['date_block_num'] = test_set['date_block_num'].astype(np.int8)\n",
    "test_set['shop_id'] = test_set['shop_id'].astype(np.int8)\n",
    "test_set['item_id'] = test_set['item_id'].astype(np.int16)"
   ]
  },
  {
   "cell_type": "code",
   "execution_count": 38,
   "metadata": {},
   "outputs": [],
   "source": [
    "# Modify the last month to include additional shop_id and item_id from the test_set \n",
    "#month_33 = train_set[train_set['date_block_num'] == 33]\n",
    "#train_set = train_set[train_set['date_block_num'] != 33]\n",
    "#month_33 = pd.merge(test_set, month_33, on= ['shop_id', 'item_id'], how='left')\n",
    "#month_33.drop('ID', axis=1, inplace=True)\n",
    "#month_33['date_block_num'].fillna(33, inplace=True)\n",
    "#month_33.shape"
   ]
  },
  {
   "cell_type": "code",
   "execution_count": 39,
   "metadata": {},
   "outputs": [
    {
     "data": {
      "text/plain": [
       "(11098708, 8)"
      ]
     },
     "execution_count": 39,
     "metadata": {},
     "output_type": "execute_result"
    }
   ],
   "source": [
    "train_set = pd.concat([train_set, test_set], sort=False, ignore_index=True, keys = index_cols)\n",
    "train_set.fillna(0, inplace=True)\n",
    "train_set.shape"
   ]
  },
  {
   "cell_type": "code",
   "execution_count": 40,
   "metadata": {},
   "outputs": [
    {
     "data": {
      "text/html": [
       "<div>\n",
       "<style scoped>\n",
       "    .dataframe tbody tr th:only-of-type {\n",
       "        vertical-align: middle;\n",
       "    }\n",
       "\n",
       "    .dataframe tbody tr th {\n",
       "        vertical-align: top;\n",
       "    }\n",
       "\n",
       "    .dataframe thead th {\n",
       "        text-align: right;\n",
       "    }\n",
       "</style>\n",
       "<table border=\"1\" class=\"dataframe\">\n",
       "  <thead>\n",
       "    <tr style=\"text-align: right;\">\n",
       "      <th></th>\n",
       "      <th>date_block_num</th>\n",
       "      <th>shop_id</th>\n",
       "      <th>item_id</th>\n",
       "      <th>item_price_mean</th>\n",
       "      <th>item_cnt_month</th>\n",
       "      <th>transactions</th>\n",
       "      <th>item_price_mean_by_itemid</th>\n",
       "      <th>item_cnt_month_by_itemid</th>\n",
       "    </tr>\n",
       "  </thead>\n",
       "  <tbody>\n",
       "    <tr>\n",
       "      <th>10884508</th>\n",
       "      <td>34</td>\n",
       "      <td>5</td>\n",
       "      <td>5037</td>\n",
       "      <td>0.0</td>\n",
       "      <td>0.0</td>\n",
       "      <td>0.0</td>\n",
       "      <td>0.0</td>\n",
       "      <td>0.0</td>\n",
       "    </tr>\n",
       "    <tr>\n",
       "      <th>10884509</th>\n",
       "      <td>34</td>\n",
       "      <td>5</td>\n",
       "      <td>5320</td>\n",
       "      <td>0.0</td>\n",
       "      <td>0.0</td>\n",
       "      <td>0.0</td>\n",
       "      <td>0.0</td>\n",
       "      <td>0.0</td>\n",
       "    </tr>\n",
       "    <tr>\n",
       "      <th>10884510</th>\n",
       "      <td>34</td>\n",
       "      <td>5</td>\n",
       "      <td>5233</td>\n",
       "      <td>0.0</td>\n",
       "      <td>0.0</td>\n",
       "      <td>0.0</td>\n",
       "      <td>0.0</td>\n",
       "      <td>0.0</td>\n",
       "    </tr>\n",
       "    <tr>\n",
       "      <th>10884511</th>\n",
       "      <td>34</td>\n",
       "      <td>5</td>\n",
       "      <td>5232</td>\n",
       "      <td>0.0</td>\n",
       "      <td>0.0</td>\n",
       "      <td>0.0</td>\n",
       "      <td>0.0</td>\n",
       "      <td>0.0</td>\n",
       "    </tr>\n",
       "    <tr>\n",
       "      <th>10884512</th>\n",
       "      <td>34</td>\n",
       "      <td>5</td>\n",
       "      <td>5268</td>\n",
       "      <td>0.0</td>\n",
       "      <td>0.0</td>\n",
       "      <td>0.0</td>\n",
       "      <td>0.0</td>\n",
       "      <td>0.0</td>\n",
       "    </tr>\n",
       "  </tbody>\n",
       "</table>\n",
       "</div>"
      ],
      "text/plain": [
       "          date_block_num  shop_id  item_id  item_price_mean  item_cnt_month  \\\n",
       "10884508              34        5     5037              0.0             0.0   \n",
       "10884509              34        5     5320              0.0             0.0   \n",
       "10884510              34        5     5233              0.0             0.0   \n",
       "10884511              34        5     5232              0.0             0.0   \n",
       "10884512              34        5     5268              0.0             0.0   \n",
       "\n",
       "          transactions  item_price_mean_by_itemid  item_cnt_month_by_itemid  \n",
       "10884508           0.0                        0.0                       0.0  \n",
       "10884509           0.0                        0.0                       0.0  \n",
       "10884510           0.0                        0.0                       0.0  \n",
       "10884511           0.0                        0.0                       0.0  \n",
       "10884512           0.0                        0.0                       0.0  "
      ]
     },
     "execution_count": 40,
     "metadata": {},
     "output_type": "execute_result"
    }
   ],
   "source": [
    "train_set[train_set['date_block_num'] == 34].head()"
   ]
  },
  {
   "cell_type": "code",
   "execution_count": 41,
   "metadata": {},
   "outputs": [
    {
     "data": {
      "text/html": [
       "<div>\n",
       "<style scoped>\n",
       "    .dataframe tbody tr th:only-of-type {\n",
       "        vertical-align: middle;\n",
       "    }\n",
       "\n",
       "    .dataframe tbody tr th {\n",
       "        vertical-align: top;\n",
       "    }\n",
       "\n",
       "    .dataframe thead th {\n",
       "        text-align: right;\n",
       "    }\n",
       "</style>\n",
       "<table border=\"1\" class=\"dataframe\">\n",
       "  <thead>\n",
       "    <tr style=\"text-align: right;\">\n",
       "      <th></th>\n",
       "      <th>date_block_num</th>\n",
       "      <th>shop_id</th>\n",
       "      <th>item_id</th>\n",
       "      <th>item_price_mean</th>\n",
       "      <th>item_cnt_month</th>\n",
       "      <th>transactions</th>\n",
       "      <th>item_price_mean_by_itemid</th>\n",
       "      <th>item_cnt_month_by_itemid</th>\n",
       "      <th>item_category_id</th>\n",
       "    </tr>\n",
       "  </thead>\n",
       "  <tbody>\n",
       "    <tr>\n",
       "      <th>0</th>\n",
       "      <td>0</td>\n",
       "      <td>0</td>\n",
       "      <td>19</td>\n",
       "      <td>0.0</td>\n",
       "      <td>0.0</td>\n",
       "      <td>0.0</td>\n",
       "      <td>28.000000</td>\n",
       "      <td>1.0</td>\n",
       "      <td>40</td>\n",
       "    </tr>\n",
       "    <tr>\n",
       "      <th>1</th>\n",
       "      <td>0</td>\n",
       "      <td>0</td>\n",
       "      <td>27</td>\n",
       "      <td>0.0</td>\n",
       "      <td>0.0</td>\n",
       "      <td>0.0</td>\n",
       "      <td>2325.000000</td>\n",
       "      <td>7.0</td>\n",
       "      <td>19</td>\n",
       "    </tr>\n",
       "    <tr>\n",
       "      <th>2</th>\n",
       "      <td>0</td>\n",
       "      <td>0</td>\n",
       "      <td>28</td>\n",
       "      <td>0.0</td>\n",
       "      <td>0.0</td>\n",
       "      <td>0.0</td>\n",
       "      <td>549.000000</td>\n",
       "      <td>8.0</td>\n",
       "      <td>30</td>\n",
       "    </tr>\n",
       "    <tr>\n",
       "      <th>3</th>\n",
       "      <td>0</td>\n",
       "      <td>0</td>\n",
       "      <td>29</td>\n",
       "      <td>0.0</td>\n",
       "      <td>0.0</td>\n",
       "      <td>0.0</td>\n",
       "      <td>2377.200000</td>\n",
       "      <td>5.0</td>\n",
       "      <td>23</td>\n",
       "    </tr>\n",
       "    <tr>\n",
       "      <th>4</th>\n",
       "      <td>0</td>\n",
       "      <td>0</td>\n",
       "      <td>32</td>\n",
       "      <td>221.0</td>\n",
       "      <td>6.0</td>\n",
       "      <td>4.0</td>\n",
       "      <td>338.110349</td>\n",
       "      <td>299.0</td>\n",
       "      <td>40</td>\n",
       "    </tr>\n",
       "  </tbody>\n",
       "</table>\n",
       "</div>"
      ],
      "text/plain": [
       "   date_block_num  shop_id  item_id  item_price_mean  item_cnt_month  \\\n",
       "0               0        0       19              0.0             0.0   \n",
       "1               0        0       27              0.0             0.0   \n",
       "2               0        0       28              0.0             0.0   \n",
       "3               0        0       29              0.0             0.0   \n",
       "4               0        0       32            221.0             6.0   \n",
       "\n",
       "   transactions  item_price_mean_by_itemid  item_cnt_month_by_itemid  \\\n",
       "0           0.0                  28.000000                       1.0   \n",
       "1           0.0                2325.000000                       7.0   \n",
       "2           0.0                 549.000000                       8.0   \n",
       "3           0.0                2377.200000                       5.0   \n",
       "4           4.0                 338.110349                     299.0   \n",
       "\n",
       "   item_category_id  \n",
       "0                40  \n",
       "1                19  \n",
       "2                30  \n",
       "3                23  \n",
       "4                40  "
      ]
     },
     "execution_count": 41,
     "metadata": {},
     "output_type": "execute_result"
    }
   ],
   "source": [
    "# Get the item_category_id column to the train_set\n",
    "train_set = train_set.merge(items[['item_id', 'item_category_id']], on='item_id', how='left')\n",
    "#train_set.drop(['item_name'], axis=1, inplace=True)\n",
    "train_set.head()"
   ]
  },
  {
   "cell_type": "code",
   "execution_count": 42,
   "metadata": {},
   "outputs": [],
   "source": [
    "del all_combinations_df\n",
    "del all_combinations_list\n",
    "del sales\n",
    "del items"
   ]
  },
  {
   "cell_type": "markdown",
   "metadata": {},
   "source": [
    "### Transform categories"
   ]
  },
  {
   "cell_type": "code",
   "execution_count": 43,
   "metadata": {},
   "outputs": [],
   "source": [
    "# Fix category\n",
    "    l_cat = list(item_categories['item_category_name'])\n",
    "    for ind in range(0,1):\n",
    "        l_cat[ind] = 'PC Headsets / Headphones'\n",
    "    for ind in range(1,8):\n",
    "        l_cat[ind] = 'Access'\n",
    "    l_cat[8] = 'Tickets (figure)'\n",
    "    l_cat[9] = 'Delivery of goods'\n",
    "    for ind in range(10,18):\n",
    "        l_cat[ind] = 'Consoles'\n",
    "    for ind in range(18,25):\n",
    "        l_cat[ind] = 'Consoles Games'\n",
    "    l_cat[25] = 'Accessories for games'\n",
    "    for ind in range(26,28):\n",
    "        l_cat[ind] = 'phone games'\n",
    "    for ind in range(28,32):\n",
    "        l_cat[ind] = 'CD games'\n",
    "    for ind in range(32,37):\n",
    "        l_cat[ind] = 'Card'\n",
    "    for ind in range(37,43):\n",
    "        l_cat[ind] = 'Movie'\n",
    "    for ind in range(43,55):\n",
    "        l_cat[ind] = 'Books'\n",
    "    for ind in range(55,61):\n",
    "        l_cat[ind] = 'Music'\n",
    "    for ind in range(61,73):\n",
    "        l_cat[ind] = 'Gifts'\n",
    "    for ind in range(73,79):\n",
    "        l_cat[ind] = 'Soft'\n",
    "    for ind in range(79,81):\n",
    "        l_cat[ind] = 'Office'\n",
    "    for ind in range(81,83):\n",
    "        l_cat[ind] = 'Clean'\n",
    "    l_cat[83] = 'Elements of a food'"
   ]
  },
  {
   "cell_type": "code",
   "execution_count": 44,
   "metadata": {},
   "outputs": [],
   "source": [
    "from sklearn.preprocessing import LabelEncoder\n",
    "lb = LabelEncoder()"
   ]
  },
  {
   "cell_type": "code",
   "execution_count": 45,
   "metadata": {},
   "outputs": [],
   "source": [
    "item_categories['item_category_id_fix'] = lb.fit_transform(l_cat)\n",
    "item_categories['item_category_name_fix'] = l_cat"
   ]
  },
  {
   "cell_type": "code",
   "execution_count": 46,
   "metadata": {},
   "outputs": [
    {
     "data": {
      "text/html": [
       "<div>\n",
       "<style scoped>\n",
       "    .dataframe tbody tr th:only-of-type {\n",
       "        vertical-align: middle;\n",
       "    }\n",
       "\n",
       "    .dataframe tbody tr th {\n",
       "        vertical-align: top;\n",
       "    }\n",
       "\n",
       "    .dataframe thead th {\n",
       "        text-align: right;\n",
       "    }\n",
       "</style>\n",
       "<table border=\"1\" class=\"dataframe\">\n",
       "  <thead>\n",
       "    <tr style=\"text-align: right;\">\n",
       "      <th></th>\n",
       "      <th>item_category_name</th>\n",
       "      <th>item_category_id</th>\n",
       "      <th>item_category_id_fix</th>\n",
       "      <th>item_category_name_fix</th>\n",
       "    </tr>\n",
       "  </thead>\n",
       "  <tbody>\n",
       "    <tr>\n",
       "      <th>0</th>\n",
       "      <td>PC - Гарнитуры/Наушники</td>\n",
       "      <td>0</td>\n",
       "      <td>14</td>\n",
       "      <td>PC Headsets / Headphones</td>\n",
       "    </tr>\n",
       "    <tr>\n",
       "      <th>1</th>\n",
       "      <td>Аксессуары - PS2</td>\n",
       "      <td>1</td>\n",
       "      <td>0</td>\n",
       "      <td>Access</td>\n",
       "    </tr>\n",
       "    <tr>\n",
       "      <th>2</th>\n",
       "      <td>Аксессуары - PS3</td>\n",
       "      <td>2</td>\n",
       "      <td>0</td>\n",
       "      <td>Access</td>\n",
       "    </tr>\n",
       "    <tr>\n",
       "      <th>3</th>\n",
       "      <td>Аксессуары - PS4</td>\n",
       "      <td>3</td>\n",
       "      <td>0</td>\n",
       "      <td>Access</td>\n",
       "    </tr>\n",
       "    <tr>\n",
       "      <th>4</th>\n",
       "      <td>Аксессуары - PSP</td>\n",
       "      <td>4</td>\n",
       "      <td>0</td>\n",
       "      <td>Access</td>\n",
       "    </tr>\n",
       "    <tr>\n",
       "      <th>5</th>\n",
       "      <td>Аксессуары - PSVita</td>\n",
       "      <td>5</td>\n",
       "      <td>0</td>\n",
       "      <td>Access</td>\n",
       "    </tr>\n",
       "    <tr>\n",
       "      <th>6</th>\n",
       "      <td>Аксессуары - XBOX 360</td>\n",
       "      <td>6</td>\n",
       "      <td>0</td>\n",
       "      <td>Access</td>\n",
       "    </tr>\n",
       "    <tr>\n",
       "      <th>7</th>\n",
       "      <td>Аксессуары - XBOX ONE</td>\n",
       "      <td>7</td>\n",
       "      <td>0</td>\n",
       "      <td>Access</td>\n",
       "    </tr>\n",
       "    <tr>\n",
       "      <th>8</th>\n",
       "      <td>Билеты (Цифра)</td>\n",
       "      <td>8</td>\n",
       "      <td>16</td>\n",
       "      <td>Tickets (figure)</td>\n",
       "    </tr>\n",
       "    <tr>\n",
       "      <th>9</th>\n",
       "      <td>Доставка товара</td>\n",
       "      <td>9</td>\n",
       "      <td>8</td>\n",
       "      <td>Delivery of goods</td>\n",
       "    </tr>\n",
       "    <tr>\n",
       "      <th>10</th>\n",
       "      <td>Игровые консоли - PS2</td>\n",
       "      <td>10</td>\n",
       "      <td>6</td>\n",
       "      <td>Consoles</td>\n",
       "    </tr>\n",
       "    <tr>\n",
       "      <th>11</th>\n",
       "      <td>Игровые консоли - PS3</td>\n",
       "      <td>11</td>\n",
       "      <td>6</td>\n",
       "      <td>Consoles</td>\n",
       "    </tr>\n",
       "    <tr>\n",
       "      <th>12</th>\n",
       "      <td>Игровые консоли - PS4</td>\n",
       "      <td>12</td>\n",
       "      <td>6</td>\n",
       "      <td>Consoles</td>\n",
       "    </tr>\n",
       "    <tr>\n",
       "      <th>13</th>\n",
       "      <td>Игровые консоли - PSP</td>\n",
       "      <td>13</td>\n",
       "      <td>6</td>\n",
       "      <td>Consoles</td>\n",
       "    </tr>\n",
       "    <tr>\n",
       "      <th>14</th>\n",
       "      <td>Игровые консоли - PSVita</td>\n",
       "      <td>14</td>\n",
       "      <td>6</td>\n",
       "      <td>Consoles</td>\n",
       "    </tr>\n",
       "    <tr>\n",
       "      <th>15</th>\n",
       "      <td>Игровые консоли - XBOX 360</td>\n",
       "      <td>15</td>\n",
       "      <td>6</td>\n",
       "      <td>Consoles</td>\n",
       "    </tr>\n",
       "    <tr>\n",
       "      <th>16</th>\n",
       "      <td>Игровые консоли - XBOX ONE</td>\n",
       "      <td>16</td>\n",
       "      <td>6</td>\n",
       "      <td>Consoles</td>\n",
       "    </tr>\n",
       "    <tr>\n",
       "      <th>17</th>\n",
       "      <td>Игровые консоли - Прочие</td>\n",
       "      <td>17</td>\n",
       "      <td>6</td>\n",
       "      <td>Consoles</td>\n",
       "    </tr>\n",
       "    <tr>\n",
       "      <th>18</th>\n",
       "      <td>Игры - PS2</td>\n",
       "      <td>18</td>\n",
       "      <td>7</td>\n",
       "      <td>Consoles Games</td>\n",
       "    </tr>\n",
       "    <tr>\n",
       "      <th>19</th>\n",
       "      <td>Игры - PS3</td>\n",
       "      <td>19</td>\n",
       "      <td>7</td>\n",
       "      <td>Consoles Games</td>\n",
       "    </tr>\n",
       "    <tr>\n",
       "      <th>20</th>\n",
       "      <td>Игры - PS4</td>\n",
       "      <td>20</td>\n",
       "      <td>7</td>\n",
       "      <td>Consoles Games</td>\n",
       "    </tr>\n",
       "    <tr>\n",
       "      <th>21</th>\n",
       "      <td>Игры - PSP</td>\n",
       "      <td>21</td>\n",
       "      <td>7</td>\n",
       "      <td>Consoles Games</td>\n",
       "    </tr>\n",
       "    <tr>\n",
       "      <th>22</th>\n",
       "      <td>Игры - PSVita</td>\n",
       "      <td>22</td>\n",
       "      <td>7</td>\n",
       "      <td>Consoles Games</td>\n",
       "    </tr>\n",
       "    <tr>\n",
       "      <th>23</th>\n",
       "      <td>Игры - XBOX 360</td>\n",
       "      <td>23</td>\n",
       "      <td>7</td>\n",
       "      <td>Consoles Games</td>\n",
       "    </tr>\n",
       "    <tr>\n",
       "      <th>24</th>\n",
       "      <td>Игры - XBOX ONE</td>\n",
       "      <td>24</td>\n",
       "      <td>7</td>\n",
       "      <td>Consoles Games</td>\n",
       "    </tr>\n",
       "    <tr>\n",
       "      <th>25</th>\n",
       "      <td>Игры - Аксессуары для игр</td>\n",
       "      <td>25</td>\n",
       "      <td>1</td>\n",
       "      <td>Accessories for games</td>\n",
       "    </tr>\n",
       "    <tr>\n",
       "      <th>26</th>\n",
       "      <td>Игры Android - Цифра</td>\n",
       "      <td>26</td>\n",
       "      <td>17</td>\n",
       "      <td>phone games</td>\n",
       "    </tr>\n",
       "    <tr>\n",
       "      <th>27</th>\n",
       "      <td>Игры MAC - Цифра</td>\n",
       "      <td>27</td>\n",
       "      <td>17</td>\n",
       "      <td>phone games</td>\n",
       "    </tr>\n",
       "    <tr>\n",
       "      <th>28</th>\n",
       "      <td>Игры PC - Дополнительные издания</td>\n",
       "      <td>28</td>\n",
       "      <td>3</td>\n",
       "      <td>CD games</td>\n",
       "    </tr>\n",
       "    <tr>\n",
       "      <th>29</th>\n",
       "      <td>Игры PC - Коллекционные издания</td>\n",
       "      <td>29</td>\n",
       "      <td>3</td>\n",
       "      <td>CD games</td>\n",
       "    </tr>\n",
       "    <tr>\n",
       "      <th>...</th>\n",
       "      <td>...</td>\n",
       "      <td>...</td>\n",
       "      <td>...</td>\n",
       "      <td>...</td>\n",
       "    </tr>\n",
       "    <tr>\n",
       "      <th>54</th>\n",
       "      <td>Книги - Цифра</td>\n",
       "      <td>54</td>\n",
       "      <td>2</td>\n",
       "      <td>Books</td>\n",
       "    </tr>\n",
       "    <tr>\n",
       "      <th>55</th>\n",
       "      <td>Музыка - CD локального производства</td>\n",
       "      <td>55</td>\n",
       "      <td>12</td>\n",
       "      <td>Music</td>\n",
       "    </tr>\n",
       "    <tr>\n",
       "      <th>56</th>\n",
       "      <td>Музыка - CD фирменного производства</td>\n",
       "      <td>56</td>\n",
       "      <td>12</td>\n",
       "      <td>Music</td>\n",
       "    </tr>\n",
       "    <tr>\n",
       "      <th>57</th>\n",
       "      <td>Музыка - MP3</td>\n",
       "      <td>57</td>\n",
       "      <td>12</td>\n",
       "      <td>Music</td>\n",
       "    </tr>\n",
       "    <tr>\n",
       "      <th>58</th>\n",
       "      <td>Музыка - Винил</td>\n",
       "      <td>58</td>\n",
       "      <td>12</td>\n",
       "      <td>Music</td>\n",
       "    </tr>\n",
       "    <tr>\n",
       "      <th>59</th>\n",
       "      <td>Музыка - Музыкальное видео</td>\n",
       "      <td>59</td>\n",
       "      <td>12</td>\n",
       "      <td>Music</td>\n",
       "    </tr>\n",
       "    <tr>\n",
       "      <th>60</th>\n",
       "      <td>Музыка - Подарочные издания</td>\n",
       "      <td>60</td>\n",
       "      <td>12</td>\n",
       "      <td>Music</td>\n",
       "    </tr>\n",
       "    <tr>\n",
       "      <th>61</th>\n",
       "      <td>Подарки - Атрибутика</td>\n",
       "      <td>61</td>\n",
       "      <td>10</td>\n",
       "      <td>Gifts</td>\n",
       "    </tr>\n",
       "    <tr>\n",
       "      <th>62</th>\n",
       "      <td>Подарки - Гаджеты, роботы, спорт</td>\n",
       "      <td>62</td>\n",
       "      <td>10</td>\n",
       "      <td>Gifts</td>\n",
       "    </tr>\n",
       "    <tr>\n",
       "      <th>63</th>\n",
       "      <td>Подарки - Мягкие игрушки</td>\n",
       "      <td>63</td>\n",
       "      <td>10</td>\n",
       "      <td>Gifts</td>\n",
       "    </tr>\n",
       "    <tr>\n",
       "      <th>64</th>\n",
       "      <td>Подарки - Настольные игры</td>\n",
       "      <td>64</td>\n",
       "      <td>10</td>\n",
       "      <td>Gifts</td>\n",
       "    </tr>\n",
       "    <tr>\n",
       "      <th>65</th>\n",
       "      <td>Подарки - Настольные игры (компактные)</td>\n",
       "      <td>65</td>\n",
       "      <td>10</td>\n",
       "      <td>Gifts</td>\n",
       "    </tr>\n",
       "    <tr>\n",
       "      <th>66</th>\n",
       "      <td>Подарки - Открытки, наклейки</td>\n",
       "      <td>66</td>\n",
       "      <td>10</td>\n",
       "      <td>Gifts</td>\n",
       "    </tr>\n",
       "    <tr>\n",
       "      <th>67</th>\n",
       "      <td>Подарки - Развитие</td>\n",
       "      <td>67</td>\n",
       "      <td>10</td>\n",
       "      <td>Gifts</td>\n",
       "    </tr>\n",
       "    <tr>\n",
       "      <th>68</th>\n",
       "      <td>Подарки - Сертификаты, услуги</td>\n",
       "      <td>68</td>\n",
       "      <td>10</td>\n",
       "      <td>Gifts</td>\n",
       "    </tr>\n",
       "    <tr>\n",
       "      <th>69</th>\n",
       "      <td>Подарки - Сувениры</td>\n",
       "      <td>69</td>\n",
       "      <td>10</td>\n",
       "      <td>Gifts</td>\n",
       "    </tr>\n",
       "    <tr>\n",
       "      <th>70</th>\n",
       "      <td>Подарки - Сувениры (в навеску)</td>\n",
       "      <td>70</td>\n",
       "      <td>10</td>\n",
       "      <td>Gifts</td>\n",
       "    </tr>\n",
       "    <tr>\n",
       "      <th>71</th>\n",
       "      <td>Подарки - Сумки, Альбомы, Коврики д/мыши</td>\n",
       "      <td>71</td>\n",
       "      <td>10</td>\n",
       "      <td>Gifts</td>\n",
       "    </tr>\n",
       "    <tr>\n",
       "      <th>72</th>\n",
       "      <td>Подарки - Фигурки</td>\n",
       "      <td>72</td>\n",
       "      <td>10</td>\n",
       "      <td>Gifts</td>\n",
       "    </tr>\n",
       "    <tr>\n",
       "      <th>73</th>\n",
       "      <td>Программы - 1С:Предприятие 8</td>\n",
       "      <td>73</td>\n",
       "      <td>15</td>\n",
       "      <td>Soft</td>\n",
       "    </tr>\n",
       "    <tr>\n",
       "      <th>74</th>\n",
       "      <td>Программы - MAC (Цифра)</td>\n",
       "      <td>74</td>\n",
       "      <td>15</td>\n",
       "      <td>Soft</td>\n",
       "    </tr>\n",
       "    <tr>\n",
       "      <th>75</th>\n",
       "      <td>Программы - Для дома и офиса</td>\n",
       "      <td>75</td>\n",
       "      <td>15</td>\n",
       "      <td>Soft</td>\n",
       "    </tr>\n",
       "    <tr>\n",
       "      <th>76</th>\n",
       "      <td>Программы - Для дома и офиса (Цифра)</td>\n",
       "      <td>76</td>\n",
       "      <td>15</td>\n",
       "      <td>Soft</td>\n",
       "    </tr>\n",
       "    <tr>\n",
       "      <th>77</th>\n",
       "      <td>Программы - Обучающие</td>\n",
       "      <td>77</td>\n",
       "      <td>15</td>\n",
       "      <td>Soft</td>\n",
       "    </tr>\n",
       "    <tr>\n",
       "      <th>78</th>\n",
       "      <td>Программы - Обучающие (Цифра)</td>\n",
       "      <td>78</td>\n",
       "      <td>15</td>\n",
       "      <td>Soft</td>\n",
       "    </tr>\n",
       "    <tr>\n",
       "      <th>79</th>\n",
       "      <td>Служебные</td>\n",
       "      <td>79</td>\n",
       "      <td>13</td>\n",
       "      <td>Office</td>\n",
       "    </tr>\n",
       "    <tr>\n",
       "      <th>80</th>\n",
       "      <td>Служебные - Билеты</td>\n",
       "      <td>80</td>\n",
       "      <td>13</td>\n",
       "      <td>Office</td>\n",
       "    </tr>\n",
       "    <tr>\n",
       "      <th>81</th>\n",
       "      <td>Чистые носители (шпиль)</td>\n",
       "      <td>81</td>\n",
       "      <td>5</td>\n",
       "      <td>Clean</td>\n",
       "    </tr>\n",
       "    <tr>\n",
       "      <th>82</th>\n",
       "      <td>Чистые носители (штучные)</td>\n",
       "      <td>82</td>\n",
       "      <td>5</td>\n",
       "      <td>Clean</td>\n",
       "    </tr>\n",
       "    <tr>\n",
       "      <th>83</th>\n",
       "      <td>Элементы питания</td>\n",
       "      <td>83</td>\n",
       "      <td>9</td>\n",
       "      <td>Elements of a food</td>\n",
       "    </tr>\n",
       "  </tbody>\n",
       "</table>\n",
       "<p>84 rows × 4 columns</p>\n",
       "</div>"
      ],
      "text/plain": [
       "                          item_category_name  item_category_id  \\\n",
       "0                    PC - Гарнитуры/Наушники                 0   \n",
       "1                           Аксессуары - PS2                 1   \n",
       "2                           Аксессуары - PS3                 2   \n",
       "3                           Аксессуары - PS4                 3   \n",
       "4                           Аксессуары - PSP                 4   \n",
       "5                        Аксессуары - PSVita                 5   \n",
       "6                      Аксессуары - XBOX 360                 6   \n",
       "7                      Аксессуары - XBOX ONE                 7   \n",
       "8                             Билеты (Цифра)                 8   \n",
       "9                            Доставка товара                 9   \n",
       "10                     Игровые консоли - PS2                10   \n",
       "11                     Игровые консоли - PS3                11   \n",
       "12                     Игровые консоли - PS4                12   \n",
       "13                     Игровые консоли - PSP                13   \n",
       "14                  Игровые консоли - PSVita                14   \n",
       "15                Игровые консоли - XBOX 360                15   \n",
       "16                Игровые консоли - XBOX ONE                16   \n",
       "17                  Игровые консоли - Прочие                17   \n",
       "18                                Игры - PS2                18   \n",
       "19                                Игры - PS3                19   \n",
       "20                                Игры - PS4                20   \n",
       "21                                Игры - PSP                21   \n",
       "22                             Игры - PSVita                22   \n",
       "23                           Игры - XBOX 360                23   \n",
       "24                           Игры - XBOX ONE                24   \n",
       "25                 Игры - Аксессуары для игр                25   \n",
       "26                      Игры Android - Цифра                26   \n",
       "27                          Игры MAC - Цифра                27   \n",
       "28          Игры PC - Дополнительные издания                28   \n",
       "29           Игры PC - Коллекционные издания                29   \n",
       "..                                       ...               ...   \n",
       "54                             Книги - Цифра                54   \n",
       "55       Музыка - CD локального производства                55   \n",
       "56       Музыка - CD фирменного производства                56   \n",
       "57                              Музыка - MP3                57   \n",
       "58                            Музыка - Винил                58   \n",
       "59                Музыка - Музыкальное видео                59   \n",
       "60               Музыка - Подарочные издания                60   \n",
       "61                      Подарки - Атрибутика                61   \n",
       "62          Подарки - Гаджеты, роботы, спорт                62   \n",
       "63                  Подарки - Мягкие игрушки                63   \n",
       "64                 Подарки - Настольные игры                64   \n",
       "65    Подарки - Настольные игры (компактные)                65   \n",
       "66              Подарки - Открытки, наклейки                66   \n",
       "67                        Подарки - Развитие                67   \n",
       "68             Подарки - Сертификаты, услуги                68   \n",
       "69                        Подарки - Сувениры                69   \n",
       "70            Подарки - Сувениры (в навеску)                70   \n",
       "71  Подарки - Сумки, Альбомы, Коврики д/мыши                71   \n",
       "72                         Подарки - Фигурки                72   \n",
       "73              Программы - 1С:Предприятие 8                73   \n",
       "74                   Программы - MAC (Цифра)                74   \n",
       "75              Программы - Для дома и офиса                75   \n",
       "76      Программы - Для дома и офиса (Цифра)                76   \n",
       "77                     Программы - Обучающие                77   \n",
       "78             Программы - Обучающие (Цифра)                78   \n",
       "79                                 Служебные                79   \n",
       "80                        Служебные - Билеты                80   \n",
       "81                   Чистые носители (шпиль)                81   \n",
       "82                 Чистые носители (штучные)                82   \n",
       "83                          Элементы питания                83   \n",
       "\n",
       "    item_category_id_fix    item_category_name_fix  \n",
       "0                     14  PC Headsets / Headphones  \n",
       "1                      0                    Access  \n",
       "2                      0                    Access  \n",
       "3                      0                    Access  \n",
       "4                      0                    Access  \n",
       "5                      0                    Access  \n",
       "6                      0                    Access  \n",
       "7                      0                    Access  \n",
       "8                     16          Tickets (figure)  \n",
       "9                      8         Delivery of goods  \n",
       "10                     6                  Consoles  \n",
       "11                     6                  Consoles  \n",
       "12                     6                  Consoles  \n",
       "13                     6                  Consoles  \n",
       "14                     6                  Consoles  \n",
       "15                     6                  Consoles  \n",
       "16                     6                  Consoles  \n",
       "17                     6                  Consoles  \n",
       "18                     7            Consoles Games  \n",
       "19                     7            Consoles Games  \n",
       "20                     7            Consoles Games  \n",
       "21                     7            Consoles Games  \n",
       "22                     7            Consoles Games  \n",
       "23                     7            Consoles Games  \n",
       "24                     7            Consoles Games  \n",
       "25                     1     Accessories for games  \n",
       "26                    17               phone games  \n",
       "27                    17               phone games  \n",
       "28                     3                  CD games  \n",
       "29                     3                  CD games  \n",
       "..                   ...                       ...  \n",
       "54                     2                     Books  \n",
       "55                    12                     Music  \n",
       "56                    12                     Music  \n",
       "57                    12                     Music  \n",
       "58                    12                     Music  \n",
       "59                    12                     Music  \n",
       "60                    12                     Music  \n",
       "61                    10                     Gifts  \n",
       "62                    10                     Gifts  \n",
       "63                    10                     Gifts  \n",
       "64                    10                     Gifts  \n",
       "65                    10                     Gifts  \n",
       "66                    10                     Gifts  \n",
       "67                    10                     Gifts  \n",
       "68                    10                     Gifts  \n",
       "69                    10                     Gifts  \n",
       "70                    10                     Gifts  \n",
       "71                    10                     Gifts  \n",
       "72                    10                     Gifts  \n",
       "73                    15                      Soft  \n",
       "74                    15                      Soft  \n",
       "75                    15                      Soft  \n",
       "76                    15                      Soft  \n",
       "77                    15                      Soft  \n",
       "78                    15                      Soft  \n",
       "79                    13                    Office  \n",
       "80                    13                    Office  \n",
       "81                     5                     Clean  \n",
       "82                     5                     Clean  \n",
       "83                     9        Elements of a food  \n",
       "\n",
       "[84 rows x 4 columns]"
      ]
     },
     "execution_count": 46,
     "metadata": {},
     "output_type": "execute_result"
    }
   ],
   "source": [
    "item_categories"
   ]
  },
  {
   "cell_type": "code",
   "execution_count": 47,
   "metadata": {},
   "outputs": [],
   "source": [
    "train_set = train_set.merge(item_categories[['item_category_id', 'item_category_id_fix']], on = 'item_category_id', how = 'left')\n",
    "train_set.drop(['item_category_id'],axis=1, inplace=True)\n",
    "train_set.rename(columns = {'item_category_id_fix':'item_category_id'}, inplace = True)\n",
    "\n",
    "item_categories.drop(['item_category_id'],axis=1, inplace=True)\n",
    "item_categories.drop(['item_category_name'],axis=1, inplace=True)\n",
    "item_categories.rename(columns = {'item_category_id_fix':'item_category_id'}, inplace = True)\n",
    "item_categories.rename(columns = {'item_category_name_fix':'item_category_name'}, inplace = True)\n",
    "item_categories = item_categories.drop_duplicates()\n",
    "item_categories.index = np.arange(0, len(item_categories))"
   ]
  },
  {
   "cell_type": "code",
   "execution_count": 48,
   "metadata": {},
   "outputs": [
    {
     "data": {
      "text/html": [
       "<div>\n",
       "<style scoped>\n",
       "    .dataframe tbody tr th:only-of-type {\n",
       "        vertical-align: middle;\n",
       "    }\n",
       "\n",
       "    .dataframe tbody tr th {\n",
       "        vertical-align: top;\n",
       "    }\n",
       "\n",
       "    .dataframe thead th {\n",
       "        text-align: right;\n",
       "    }\n",
       "</style>\n",
       "<table border=\"1\" class=\"dataframe\">\n",
       "  <thead>\n",
       "    <tr style=\"text-align: right;\">\n",
       "      <th></th>\n",
       "      <th>date_block_num</th>\n",
       "      <th>shop_id</th>\n",
       "      <th>item_id</th>\n",
       "      <th>item_price_mean</th>\n",
       "      <th>item_cnt_month</th>\n",
       "      <th>transactions</th>\n",
       "      <th>item_price_mean_by_itemid</th>\n",
       "      <th>item_cnt_month_by_itemid</th>\n",
       "      <th>item_category_id</th>\n",
       "    </tr>\n",
       "  </thead>\n",
       "  <tbody>\n",
       "    <tr>\n",
       "      <th>0</th>\n",
       "      <td>0</td>\n",
       "      <td>0</td>\n",
       "      <td>19</td>\n",
       "      <td>0.0</td>\n",
       "      <td>0.0</td>\n",
       "      <td>0.0</td>\n",
       "      <td>28.000000</td>\n",
       "      <td>1.0</td>\n",
       "      <td>11</td>\n",
       "    </tr>\n",
       "    <tr>\n",
       "      <th>1</th>\n",
       "      <td>0</td>\n",
       "      <td>0</td>\n",
       "      <td>27</td>\n",
       "      <td>0.0</td>\n",
       "      <td>0.0</td>\n",
       "      <td>0.0</td>\n",
       "      <td>2325.000000</td>\n",
       "      <td>7.0</td>\n",
       "      <td>7</td>\n",
       "    </tr>\n",
       "    <tr>\n",
       "      <th>2</th>\n",
       "      <td>0</td>\n",
       "      <td>0</td>\n",
       "      <td>28</td>\n",
       "      <td>0.0</td>\n",
       "      <td>0.0</td>\n",
       "      <td>0.0</td>\n",
       "      <td>549.000000</td>\n",
       "      <td>8.0</td>\n",
       "      <td>3</td>\n",
       "    </tr>\n",
       "    <tr>\n",
       "      <th>3</th>\n",
       "      <td>0</td>\n",
       "      <td>0</td>\n",
       "      <td>29</td>\n",
       "      <td>0.0</td>\n",
       "      <td>0.0</td>\n",
       "      <td>0.0</td>\n",
       "      <td>2377.200000</td>\n",
       "      <td>5.0</td>\n",
       "      <td>7</td>\n",
       "    </tr>\n",
       "    <tr>\n",
       "      <th>4</th>\n",
       "      <td>0</td>\n",
       "      <td>0</td>\n",
       "      <td>32</td>\n",
       "      <td>221.0</td>\n",
       "      <td>6.0</td>\n",
       "      <td>4.0</td>\n",
       "      <td>338.110349</td>\n",
       "      <td>299.0</td>\n",
       "      <td>11</td>\n",
       "    </tr>\n",
       "  </tbody>\n",
       "</table>\n",
       "</div>"
      ],
      "text/plain": [
       "   date_block_num  shop_id  item_id  item_price_mean  item_cnt_month  \\\n",
       "0               0        0       19              0.0             0.0   \n",
       "1               0        0       27              0.0             0.0   \n",
       "2               0        0       28              0.0             0.0   \n",
       "3               0        0       29              0.0             0.0   \n",
       "4               0        0       32            221.0             6.0   \n",
       "\n",
       "   transactions  item_price_mean_by_itemid  item_cnt_month_by_itemid  \\\n",
       "0           0.0                  28.000000                       1.0   \n",
       "1           0.0                2325.000000                       7.0   \n",
       "2           0.0                 549.000000                       8.0   \n",
       "3           0.0                2377.200000                       5.0   \n",
       "4           4.0                 338.110349                     299.0   \n",
       "\n",
       "   item_category_id  \n",
       "0                11  \n",
       "1                 7  \n",
       "2                 3  \n",
       "3                 7  \n",
       "4                11  "
      ]
     },
     "execution_count": 48,
     "metadata": {},
     "output_type": "execute_result"
    }
   ],
   "source": [
    "train_set.head()"
   ]
  },
  {
   "cell_type": "markdown",
   "metadata": {},
   "source": [
    "### Look at the monthly data"
   ]
  },
  {
   "cell_type": "code",
   "execution_count": 49,
   "metadata": {},
   "outputs": [
    {
     "data": {
      "text/plain": [
       "<matplotlib.axes._subplots.AxesSubplot at 0x1570015dba8>"
      ]
     },
     "execution_count": 49,
     "metadata": {},
     "output_type": "execute_result"
    },
    {
     "data": {
      "image/png": "[encoded data removed]",
      "text/plain": [
       "<Figure size 432x288 with 1 Axes>"
      ]
     },
     "metadata": {
      "needs_background": "light"
     },
     "output_type": "display_data"
    }
   ],
   "source": [
    "items_sold_month = train_set.groupby('date_block_num', as_index=True)['item_cnt_month'].sum()\n",
    "sns.lineplot( train_set['date_block_num'].unique(), items_sold_month)"
   ]
  },
  {
   "cell_type": "code",
   "execution_count": 50,
   "metadata": {},
   "outputs": [
    {
     "name": "stdout",
     "output_type": "stream",
     "text": [
      "date_block_num\n",
      "0     127068.0\n",
      "1     122152.0\n",
      "2     136046.0\n",
      "3     103361.0\n",
      "4      99677.0\n",
      "5     110612.0\n",
      "6     107217.0\n",
      "7     114702.0\n",
      "8     109390.0\n",
      "9     107486.0\n",
      "10    110591.0\n",
      "11    160599.0\n",
      "12    108435.0\n",
      "13    101126.0\n",
      "14    103026.0\n",
      "15     84984.0\n",
      "16     88183.0\n",
      "17     89682.0\n",
      "18     84379.0\n",
      "19     94435.0\n",
      "20     82842.0\n",
      "21     92499.0\n",
      "22     98584.0\n",
      "23    146892.0\n",
      "24     97718.0\n",
      "25     79330.0\n",
      "26     76991.0\n",
      "27     62645.0\n",
      "28     60449.0\n",
      "29     59382.0\n",
      "30     59450.0\n",
      "31     61886.0\n",
      "32     57790.0\n",
      "33     61700.0\n",
      "34         0.0\n",
      "Name: item_cnt_month, dtype: float64\n"
     ]
    }
   ],
   "source": [
    "# We see peaks in months of December. Should we keep them?\n",
    "print(items_sold_month)"
   ]
  },
  {
   "cell_type": "code",
   "execution_count": 51,
   "metadata": {},
   "outputs": [
    {
     "data": {
      "text/plain": [
       "<matplotlib.axes._subplots.AxesSubplot at 0x157001dbb00>"
      ]
     },
     "execution_count": 51,
     "metadata": {},
     "output_type": "execute_result"
    },
    {
     "data": {
      "image/png": "[encoded data removed]",
      "text/plain": [
       "<Figure size 432x288 with 1 Axes>"
      ]
     },
     "metadata": {
      "needs_background": "light"
     },
     "output_type": "display_data"
    }
   ],
   "source": [
    "# Number of different items sold each month\n",
    "itemsdiff_sold_month = train_set.query('item_cnt_month > 0').groupby(['date_block_num', 'item_id'], as_index=True)['item_cnt_month'].sum()\n",
    "sns.lineplot( range(0,34), itemsdiff_sold_month.groupby('date_block_num', as_index = True).count())"
   ]
  },
  {
   "cell_type": "code",
   "execution_count": 52,
   "metadata": {},
   "outputs": [
    {
     "data": {
      "text/plain": [
       "date_block_num\n",
       "0     8110\n",
       "1     8166\n",
       "2     8300\n",
       "3     8140\n",
       "4     8337\n",
       "5     8474\n",
       "6     8404\n",
       "7     8023\n",
       "8     7874\n",
       "9     8038\n",
       "10    8084\n",
       "11    8472\n",
       "12    7546\n",
       "13    7128\n",
       "14    7138\n",
       "15    6772\n",
       "16    6681\n",
       "17    6680\n",
       "18    6606\n",
       "19    6359\n",
       "20    6069\n",
       "21    6331\n",
       "22    6321\n",
       "23    6600\n",
       "24    6136\n",
       "25    6049\n",
       "26    6078\n",
       "27    5473\n",
       "28    5283\n",
       "29    5212\n",
       "30    5318\n",
       "31    5105\n",
       "32    5083\n",
       "33    5411\n",
       "Name: item_cnt_month, dtype: int64"
      ]
     },
     "execution_count": 52,
     "metadata": {},
     "output_type": "execute_result"
    }
   ],
   "source": [
    "itemsdiff_sold_month.groupby('date_block_num', as_index = True).count()"
   ]
  },
  {
   "cell_type": "code",
   "execution_count": 53,
   "metadata": {},
   "outputs": [
    {
     "data": {
      "text/plain": [
       "<matplotlib.axes._subplots.AxesSubplot at 0x157004016a0>"
      ]
     },
     "execution_count": 53,
     "metadata": {},
     "output_type": "execute_result"
    },
    {
     "data": {
      "image/png": "[encoded data removed]",
      "text/plain": [
       "<Figure size 432x288 with 1 Axes>"
      ]
     },
     "metadata": {
      "needs_background": "light"
     },
     "output_type": "display_data"
    }
   ],
   "source": [
    "items_sold_category = train_set.groupby('item_category_id', as_index=False)['item_cnt_month'].sum()\n",
    "sns.barplot( items_sold_category.iloc[:,0], items_sold_category.iloc[:,1])"
   ]
  },
  {
   "cell_type": "code",
   "execution_count": 54,
   "metadata": {},
   "outputs": [
    {
     "data": {
      "text/plain": [
       "<matplotlib.axes._subplots.AxesSubplot at 0x157004b76a0>"
      ]
     },
     "execution_count": 54,
     "metadata": {},
     "output_type": "execute_result"
    },
    {
     "data": {
      "image/png": "[encoded data removed]",
      "text/plain": [
       "<Figure size 432x288 with 1 Axes>"
      ]
     },
     "metadata": {
      "needs_background": "light"
     },
     "output_type": "display_data"
    }
   ],
   "source": [
    "items_sold_shop = train_set.groupby('shop_id', as_index=False)['item_cnt_month'].sum()\n",
    "sns.barplot( items_sold_shop.iloc[:,0], items_sold_shop.iloc[:,1])"
   ]
  },
  {
   "cell_type": "code",
   "execution_count": 55,
   "metadata": {},
   "outputs": [
    {
     "data": {
      "image/png": "[encoded data removed]",
      "text/plain": [
       "<Figure size 432x288 with 1 Axes>"
      ]
     },
     "metadata": {
      "needs_background": "light"
     },
     "output_type": "display_data"
    }
   ],
   "source": [
    "n1 = plt.hist(train_set['item_cnt_month'], bins=50)"
   ]
  },
  {
   "cell_type": "code",
   "execution_count": 56,
   "metadata": {},
   "outputs": [
    {
     "name": "stdout",
     "output_type": "stream",
     "text": [
      "[ 85.50979988  85.50979988  95.06093862  95.06093862  95.06093862\n",
      "  97.45916372  97.45916372  98.3915335   98.3915335   98.3915335\n",
      "  98.8734905   98.8734905   99.16214572  99.16214572  99.16214572\n",
      "  99.34959096  99.34959096  99.47651564  99.47651564  99.47651564\n",
      "  99.57079689  99.57079689  99.63878678  99.63878678  99.63878678\n",
      "  99.69325258  99.69325258  99.7336717   99.7336717   99.7336717\n",
      "  99.76710803  99.76710803  99.79473286  99.79473286  99.79473286\n",
      "  99.81687058  99.81687058  99.83556645  99.83556645  99.83556645\n",
      "  99.85134306  99.85134306  99.86554291  99.86554291  99.86554291\n",
      "  99.87730103  99.87730103  99.88726616  99.88726616 100.        ]\n",
      "[ 0.   0.4  0.8  1.2  1.6  2.   2.4  2.8  3.2  3.6  4.   4.4  4.8  5.2\n",
      "  5.6  6.   6.4  6.8  7.2  7.6  8.   8.4  8.8  9.2  9.6 10.  10.4 10.8\n",
      " 11.2 11.6 12.  12.4 12.8 13.2 13.6 14.  14.4 14.8 15.2 15.6 16.  16.4\n",
      " 16.8 17.2 17.6 18.  18.4 18.8 19.2 19.6 20. ]\n"
     ]
    }
   ],
   "source": [
    "print(np.cumsum(n1[0]/train_set['item_cnt_month'].shape[0] * 100))\n",
    "print(n1[1])"
   ]
  },
  {
   "cell_type": "code",
   "execution_count": 57,
   "metadata": {},
   "outputs": [
    {
     "data": {
      "image/png": "[encoded data removed]",
      "text/plain": [
       "<Figure size 432x288 with 1 Axes>"
      ]
     },
     "metadata": {
      "needs_background": "light"
     },
     "output_type": "display_data"
    }
   ],
   "source": [
    "n2 = plt.hist(train_set['item_price_mean'], bins=50)"
   ]
  },
  {
   "cell_type": "code",
   "execution_count": 58,
   "metadata": {},
   "outputs": [
    {
     "name": "stdout",
     "output_type": "stream",
     "text": [
      "[ 97.13872101  98.96815918  99.61287386  99.79481395  99.84262132\n",
      "  99.87032725  99.88195022  99.89417687  99.90519617  99.92101783\n",
      "  99.93061355  99.93590245  99.94505667  99.96286054  99.97105068\n",
      "  99.97383479  99.97486194  99.97641167  99.97781724  99.97967331\n",
      "  99.98217811  99.98365576  99.98807068  99.98954833  99.99159362\n",
      "  99.99342266  99.99581032  99.99717084  99.99743213  99.99854037\n",
      "  99.9990179   99.99933326  99.99962158  99.99963059  99.9998198\n",
      "  99.99986485  99.99990089  99.9999099   99.9999099   99.9999099\n",
      "  99.99992792  99.99996396  99.99998198  99.99998198  99.99998198\n",
      "  99.99998198  99.99998198  99.99998198  99.99999099 100.        ]\n",
      "[    0.    1019.98  2039.96  3059.94  4079.92  5099.9   6119.88  7139.86\n",
      "  8159.84  9179.82 10199.8  11219.78 12239.76 13259.74 14279.72 15299.7\n",
      " 16319.68 17339.66 18359.64 19379.62 20399.6  21419.58 22439.56 23459.54\n",
      " 24479.52 25499.5  26519.48 27539.46 28559.44 29579.42 30599.4  31619.38\n",
      " 32639.36 33659.34 34679.32 35699.3  36719.28 37739.26 38759.24 39779.22\n",
      " 40799.2  41819.18 42839.16 43859.14 44879.12 45899.1  46919.08 47939.06\n",
      " 48959.04 49979.02 50999.  ]\n"
     ]
    }
   ],
   "source": [
    "print(np.cumsum(n2[0]/train_set['item_price_mean'].shape[0] * 100))\n",
    "print(n2[1])"
   ]
  },
  {
   "cell_type": "code",
   "execution_count": 59,
   "metadata": {},
   "outputs": [
    {
     "data": {
      "text/plain": [
       "<matplotlib.axes._subplots.AxesSubplot at 0x157008995c0>"
      ]
     },
     "execution_count": 59,
     "metadata": {},
     "output_type": "execute_result"
    },
    {
     "data": {
      "image/png": "[encoded data removed]",
      "text/plain": [
       "<Figure size 432x288 with 1 Axes>"
      ]
     },
     "metadata": {
      "needs_background": "light"
     },
     "output_type": "display_data"
    }
   ],
   "source": [
    "sns.boxplot(train_set['item_price_mean'])"
   ]
  },
  {
   "cell_type": "code",
   "execution_count": 60,
   "metadata": {},
   "outputs": [
    {
     "data": {
      "text/plain": [
       "10837436    32990.000000\n",
       "10476309    32990.000000\n",
       "10216342    32997.500000\n",
       "8829508     33490.000000\n",
       "10660473    33490.000000\n",
       "8750871     33490.000000\n",
       "8877900     33490.000000\n",
       "8769018     33490.000000\n",
       "9573386     34490.000000\n",
       "8738776     34990.000000\n",
       "10649667    34990.000000\n",
       "10703777    34990.000000\n",
       "10747049    34990.000000\n",
       "10763282    34990.000000\n",
       "10730816    34990.000000\n",
       "10671295    34990.000000\n",
       "10709172    34990.000000\n",
       "10871502    34990.000000\n",
       "10703761    34990.000000\n",
       "10730832    34990.000000\n",
       "9394266     35192.000000\n",
       "9325385     35300.000000\n",
       "9050056     35300.000000\n",
       "10064388    35300.000000\n",
       "10290072    35300.000000\n",
       "8132589     35300.000000\n",
       "8799266     35490.000000\n",
       "8744825     35490.000000\n",
       "8835560     35490.000000\n",
       "8890001     35490.000000\n",
       "9017023     35990.000000\n",
       "8756921     35990.000000\n",
       "3783833     35990.000000\n",
       "10763272    35991.000000\n",
       "10806560    36657.666667\n",
       "5849896     36990.000000\n",
       "3057102     36990.000000\n",
       "4877577     36990.000000\n",
       "5559039     36990.000000\n",
       "10747039    37991.000000\n",
       "7818514     40900.000000\n",
       "10757861    40991.000000\n",
       "10790327    41990.000000\n",
       "10714573    41990.000000\n",
       "3422201     42000.000000\n",
       "10692929    42490.000000\n",
       "10655052    42990.000000\n",
       "10736217    42990.000000\n",
       "8461314     49782.000000\n",
       "5286488     50999.000000\n",
       "Name: item_price_mean, dtype: float64"
      ]
     },
     "execution_count": 60,
     "metadata": {},
     "output_type": "execute_result"
    }
   ],
   "source": [
    "train_set['item_price_mean'].sort_values().iloc[-50:]"
   ]
  },
  {
   "cell_type": "code",
   "execution_count": 61,
   "metadata": {},
   "outputs": [
    {
     "data": {
      "text/plain": [
       "<matplotlib.axes._subplots.AxesSubplot at 0x157008e8400>"
      ]
     },
     "execution_count": 61,
     "metadata": {},
     "output_type": "execute_result"
    },
    {
     "data": {
      "image/png": "[encoded data removed]",
      "text/plain": [
       "<Figure size 432x288 with 1 Axes>"
      ]
     },
     "metadata": {
      "needs_background": "light"
     },
     "output_type": "display_data"
    }
   ],
   "source": [
    "sns.boxplot(train_set['item_cnt_month'])"
   ]
  },
  {
   "cell_type": "code",
   "execution_count": 62,
   "metadata": {},
   "outputs": [
    {
     "data": {
      "text/plain": [
       "(array([9.490483e+06, 0.000000e+00, 1.060053e+06, 0.000000e+00,\n",
       "        2.661720e+05, 0.000000e+00, 1.034810e+05, 0.000000e+00,\n",
       "        5.349100e+04, 0.000000e+00, 3.203700e+04, 0.000000e+00,\n",
       "        2.080400e+04, 0.000000e+00, 1.408700e+04, 0.000000e+00,\n",
       "        1.046400e+04, 0.000000e+00, 7.546000e+03, 0.000000e+00,\n",
       "        6.045000e+03, 0.000000e+00, 4.486000e+03, 0.000000e+00,\n",
       "        3.711000e+03, 0.000000e+00, 3.066000e+03, 0.000000e+00,\n",
       "        2.457000e+03, 0.000000e+00, 2.075000e+03, 0.000000e+00,\n",
       "        1.751000e+03, 0.000000e+00, 1.576000e+03, 0.000000e+00,\n",
       "        1.305000e+03, 0.000000e+00, 1.106000e+03, 1.251200e+04]),\n",
       " array([ 0. ,  0.5,  1. ,  1.5,  2. ,  2.5,  3. ,  3.5,  4. ,  4.5,  5. ,\n",
       "         5.5,  6. ,  6.5,  7. ,  7.5,  8. ,  8.5,  9. ,  9.5, 10. , 10.5,\n",
       "        11. , 11.5, 12. , 12.5, 13. , 13.5, 14. , 14.5, 15. , 15.5, 16. ,\n",
       "        16.5, 17. , 17.5, 18. , 18.5, 19. , 19.5, 20. ]),\n",
       " <a list of 40 Patch objects>)"
      ]
     },
     "execution_count": 62,
     "metadata": {},
     "output_type": "execute_result"
    },
    {
     "data": {
      "image/png": "[encoded data removed]",
      "text/plain": [
       "<Figure size 432x288 with 1 Axes>"
      ]
     },
     "metadata": {
      "needs_background": "light"
     },
     "output_type": "display_data"
    }
   ],
   "source": [
    "plt.hist(train_set['item_cnt_month'], bins=40)"
   ]
  },
  {
   "cell_type": "code",
   "execution_count": 63,
   "metadata": {},
   "outputs": [
    {
     "data": {
      "text/plain": [
       "948587     20.0\n",
       "6110962    20.0\n",
       "587305     20.0\n",
       "948480     20.0\n",
       "7696065    20.0\n",
       "4942807    20.0\n",
       "1074560    20.0\n",
       "948453     20.0\n",
       "6110964    20.0\n",
       "3871582    20.0\n",
       "Name: item_cnt_month, dtype: float64"
      ]
     },
     "execution_count": 63,
     "metadata": {},
     "output_type": "execute_result"
    }
   ],
   "source": [
    "train_set['item_cnt_month'].sort_values().iloc[-10:]"
   ]
  },
  {
   "cell_type": "markdown",
   "metadata": {},
   "source": [
    "### Create date features"
   ]
  },
  {
   "cell_type": "code",
   "execution_count": 64,
   "metadata": {},
   "outputs": [],
   "source": [
    "train_set['year'] = train_set['date_block_num'].apply(lambda x: 2013 + x//12 )"
   ]
  },
  {
   "cell_type": "code",
   "execution_count": 65,
   "metadata": {},
   "outputs": [],
   "source": [
    "train_set['month'] = train_set['date_block_num'].apply(lambda x: x % 12)"
   ]
  },
  {
   "cell_type": "code",
   "execution_count": 66,
   "metadata": {},
   "outputs": [],
   "source": [
    "days = pd.Series([31,28,31,30,31,30,31,31,30,31,30,31])\n",
    "train_set['days'] = train_set['month'].map(days).astype(np.int8)"
   ]
  },
  {
   "cell_type": "code",
   "execution_count": 67,
   "metadata": {
    "scrolled": true
   },
   "outputs": [],
   "source": [
    "train_set['December'] = train_set['date_block_num'].apply(lambda x: 1 if (x+1) % 12 == 0 else 0)"
   ]
  },
  {
   "cell_type": "code",
   "execution_count": 68,
   "metadata": {
    "scrolled": true
   },
   "outputs": [],
   "source": [
    "#train_set.head(10)"
   ]
  },
  {
   "cell_type": "code",
   "execution_count": 69,
   "metadata": {},
   "outputs": [
    {
     "data": {
      "text/plain": [
       "date_block_num               0\n",
       "shop_id                      0\n",
       "item_id                      0\n",
       "item_price_mean              0\n",
       "item_cnt_month               0\n",
       "transactions                 0\n",
       "item_price_mean_by_itemid    0\n",
       "item_cnt_month_by_itemid     0\n",
       "item_category_id             0\n",
       "year                         0\n",
       "month                        0\n",
       "days                         0\n",
       "December                     0\n",
       "dtype: int64"
      ]
     },
     "execution_count": 69,
     "metadata": {},
     "output_type": "execute_result"
    }
   ],
   "source": [
    "train_set.isna().sum()"
   ]
  },
  {
   "cell_type": "code",
   "execution_count": 70,
   "metadata": {},
   "outputs": [
    {
     "name": "stdout",
     "output_type": "stream",
     "text": [
      "(364950, 13)\n",
      "(375636, 13)\n",
      "(381800, 13)\n",
      "(366300, 13)\n",
      "(375165, 13)\n",
      "(389804, 13)\n",
      "(386584, 13)\n",
      "(361035, 13)\n",
      "(354330, 13)\n",
      "(369748, 13)\n",
      "(363780, 13)\n",
      "(389712, 13)\n",
      "(347116, 13)\n",
      "(214410, 13)\n",
      "(213486, 13)\n",
      "(238084, 13)\n",
      "(214200, 13)\n"
     ]
    }
   ],
   "source": [
    "print(train_set[train_set['date_block_num'] == 0].shape)\n",
    "print(train_set[train_set['date_block_num'] == 1].shape)\n",
    "print(train_set[train_set['date_block_num'] == 2].shape)\n",
    "print(train_set[train_set['date_block_num'] == 3].shape)\n",
    "print(train_set[train_set['date_block_num'] == 4].shape)\n",
    "print(train_set[train_set['date_block_num'] == 5].shape)\n",
    "print(train_set[train_set['date_block_num'] == 6].shape)\n",
    "print(train_set[train_set['date_block_num'] == 7].shape)\n",
    "print(train_set[train_set['date_block_num'] == 8].shape)\n",
    "print(train_set[train_set['date_block_num'] == 9].shape)\n",
    "print(train_set[train_set['date_block_num'] == 10].shape)\n",
    "print(train_set[train_set['date_block_num'] == 11].shape)\n",
    "print(train_set[train_set['date_block_num'] == 12].shape)\n",
    "print(train_set[train_set['date_block_num'] == 31].shape)\n",
    "print(train_set[train_set['date_block_num'] == 32].shape)\n",
    "print(train_set[train_set['date_block_num'] == 33].shape)\n",
    "print(train_set[train_set['date_block_num'] == 34].shape)"
   ]
  },
  {
   "cell_type": "code",
   "execution_count": 71,
   "metadata": {},
   "outputs": [
    {
     "data": {
      "text/plain": [
       "12"
      ]
     },
     "execution_count": 71,
     "metadata": {},
     "output_type": "execute_result"
    }
   ],
   "source": [
    "import gc\n",
    "gc.collect()"
   ]
  },
  {
   "cell_type": "markdown",
   "metadata": {},
   "source": [
    "### Create lag features"
   ]
  },
  {
   "cell_type": "code",
   "execution_count": 72,
   "metadata": {},
   "outputs": [],
   "source": [
    "def lag_feature(df, lags, col):\n",
    "    tmp = df[['date_block_num','shop_id','item_id',col]]\n",
    "    for i in lags:\n",
    "        shifted = tmp.copy()\n",
    "        shifted.columns = ['date_block_num','shop_id','item_id', col+'_lag_'+str(i)]\n",
    "        shifted['date_block_num'] += i\n",
    "        df = pd.merge(df, shifted, on=['date_block_num','shop_id','item_id'], how='left')\n",
    "        del shifted\n",
    "    del tmp\n",
    "    return df"
   ]
  },
  {
   "cell_type": "code",
   "execution_count": 73,
   "metadata": {},
   "outputs": [],
   "source": [
    "# New NaNs are because there are combinations that appear and disappear each month\n",
    "train_set = lag_feature(train_set, [1,2,3,6,12], 'item_cnt_month')\n",
    "train_set = lag_feature(train_set, [1,2,3,6,12], 'item_price_mean')\n",
    "train_set = lag_feature(train_set, [1,2,3,6,12], 'transactions')\n",
    "train_set = lag_feature(train_set, [1,2,3,6,12], 'item_price_mean_by_itemid')\n",
    "train_set = lag_feature(train_set, [1,2,3,6,12], 'item_cnt_month_by_itemid')"
   ]
  },
  {
   "cell_type": "code",
   "execution_count": 74,
   "metadata": {},
   "outputs": [
    {
     "data": {
      "text/plain": [
       "date_block_num                            0\n",
       "shop_id                                   0\n",
       "item_id                                   0\n",
       "item_price_mean                           0\n",
       "item_cnt_month                            0\n",
       "transactions                              0\n",
       "item_price_mean_by_itemid                 0\n",
       "item_cnt_month_by_itemid                  0\n",
       "item_category_id                          0\n",
       "year                                      0\n",
       "month                                     0\n",
       "days                                      0\n",
       "December                                  0\n",
       "item_cnt_month_lag_1                2509741\n",
       "item_cnt_month_lag_2                3164330\n",
       "item_cnt_month_lag_3                3771749\n",
       "item_cnt_month_lag_6                5403902\n",
       "item_cnt_month_lag_12               7981881\n",
       "item_price_mean_lag_1               2509741\n",
       "item_price_mean_lag_2               3164330\n",
       "item_price_mean_lag_3               3771749\n",
       "item_price_mean_lag_6               5403902\n",
       "item_price_mean_lag_12              7981881\n",
       "transactions_lag_1                  2509741\n",
       "transactions_lag_2                  3164330\n",
       "transactions_lag_3                  3771749\n",
       "transactions_lag_6                  5403902\n",
       "transactions_lag_12                 7981881\n",
       "item_price_mean_by_itemid_lag_1     2509741\n",
       "item_price_mean_by_itemid_lag_2     3164330\n",
       "item_price_mean_by_itemid_lag_3     3771749\n",
       "item_price_mean_by_itemid_lag_6     5403902\n",
       "item_price_mean_by_itemid_lag_12    7981881\n",
       "item_cnt_month_by_itemid_lag_1      2509741\n",
       "item_cnt_month_by_itemid_lag_2      3164330\n",
       "item_cnt_month_by_itemid_lag_3      3771749\n",
       "item_cnt_month_by_itemid_lag_6      5403902\n",
       "item_cnt_month_by_itemid_lag_12     7981881\n",
       "dtype: int64"
      ]
     },
     "execution_count": 74,
     "metadata": {},
     "output_type": "execute_result"
    }
   ],
   "source": [
    "train_set.isnull().sum()"
   ]
  },
  {
   "cell_type": "markdown",
   "metadata": {},
   "source": [
    "### Create rolling windows features"
   ]
  },
  {
   "cell_type": "code",
   "execution_count": 75,
   "metadata": {},
   "outputs": [],
   "source": [
    "train_set['rolling_windows_3'] = train_set.sort_values('date_block_num').groupby(['shop_id','item_id'])['item_cnt_month_lag_1'].apply(lambda x: x.rolling(window=3).mean())"
   ]
  },
  {
   "cell_type": "code",
   "execution_count": 76,
   "metadata": {},
   "outputs": [
    {
     "data": {
      "text/plain": [
       "date_block_num                            0\n",
       "shop_id                                   0\n",
       "item_id                                   0\n",
       "item_price_mean                           0\n",
       "item_cnt_month                            0\n",
       "transactions                              0\n",
       "item_price_mean_by_itemid                 0\n",
       "item_cnt_month_by_itemid                  0\n",
       "item_category_id                          0\n",
       "year                                      0\n",
       "month                                     0\n",
       "days                                      0\n",
       "December                                  0\n",
       "item_cnt_month_lag_1                2509741\n",
       "item_cnt_month_lag_2                3164330\n",
       "item_cnt_month_lag_3                3771749\n",
       "item_cnt_month_lag_6                5403902\n",
       "item_cnt_month_lag_12               7981881\n",
       "item_price_mean_lag_1               2509741\n",
       "item_price_mean_lag_2               3164330\n",
       "item_price_mean_lag_3               3771749\n",
       "item_price_mean_lag_6               5403902\n",
       "item_price_mean_lag_12              7981881\n",
       "transactions_lag_1                  2509741\n",
       "transactions_lag_2                  3164330\n",
       "transactions_lag_3                  3771749\n",
       "transactions_lag_6                  5403902\n",
       "transactions_lag_12                 7981881\n",
       "item_price_mean_by_itemid_lag_1     2509741\n",
       "item_price_mean_by_itemid_lag_2     3164330\n",
       "item_price_mean_by_itemid_lag_3     3771749\n",
       "item_price_mean_by_itemid_lag_6     5403902\n",
       "item_price_mean_by_itemid_lag_12    7981881\n",
       "item_cnt_month_by_itemid_lag_1      2509741\n",
       "item_cnt_month_by_itemid_lag_2      3164330\n",
       "item_cnt_month_by_itemid_lag_3      3771749\n",
       "item_cnt_month_by_itemid_lag_6      5403902\n",
       "item_cnt_month_by_itemid_lag_12     7981881\n",
       "rolling_windows_3                   4848080\n",
       "dtype: int64"
      ]
     },
     "execution_count": 76,
     "metadata": {},
     "output_type": "execute_result"
    }
   ],
   "source": [
    "train_set.isnull().sum()"
   ]
  },
  {
   "cell_type": "code",
   "execution_count": 77,
   "metadata": {},
   "outputs": [],
   "source": [
    "train_set.fillna(0, inplace=True)"
   ]
  },
  {
   "cell_type": "code",
   "execution_count": 78,
   "metadata": {},
   "outputs": [
    {
     "data": {
      "text/plain": [
       "(11098708, 39)"
      ]
     },
     "execution_count": 78,
     "metadata": {},
     "output_type": "execute_result"
    }
   ],
   "source": [
    "train_set.shape"
   ]
  },
  {
   "cell_type": "code",
   "execution_count": 79,
   "metadata": {},
   "outputs": [],
   "source": [
    "# We need to drop these columns as we don't have access to this information when doing the predictions\n",
    "train_set.drop(['item_price_mean', 'transactions', 'item_price_mean_by_itemid', 'item_cnt_month_by_itemid'],\\\n",
    "              axis=1, inplace=True)"
   ]
  },
  {
   "cell_type": "code",
   "execution_count": 80,
   "metadata": {},
   "outputs": [
    {
     "name": "stdout",
     "output_type": "stream",
     "text": [
      "(11098708, 35)\n"
     ]
    },
    {
     "data": {
      "text/html": [
       "<div>\n",
       "<style scoped>\n",
       "    .dataframe tbody tr th:only-of-type {\n",
       "        vertical-align: middle;\n",
       "    }\n",
       "\n",
       "    .dataframe tbody tr th {\n",
       "        vertical-align: top;\n",
       "    }\n",
       "\n",
       "    .dataframe thead th {\n",
       "        text-align: right;\n",
       "    }\n",
       "</style>\n",
       "<table border=\"1\" class=\"dataframe\">\n",
       "  <thead>\n",
       "    <tr style=\"text-align: right;\">\n",
       "      <th></th>\n",
       "      <th>date_block_num</th>\n",
       "      <th>shop_id</th>\n",
       "      <th>item_id</th>\n",
       "      <th>item_cnt_month</th>\n",
       "      <th>item_category_id</th>\n",
       "      <th>year</th>\n",
       "      <th>month</th>\n",
       "      <th>days</th>\n",
       "      <th>December</th>\n",
       "      <th>item_cnt_month_lag_1</th>\n",
       "      <th>...</th>\n",
       "      <th>item_price_mean_by_itemid_lag_2</th>\n",
       "      <th>item_price_mean_by_itemid_lag_3</th>\n",
       "      <th>item_price_mean_by_itemid_lag_6</th>\n",
       "      <th>item_price_mean_by_itemid_lag_12</th>\n",
       "      <th>item_cnt_month_by_itemid_lag_1</th>\n",
       "      <th>item_cnt_month_by_itemid_lag_2</th>\n",
       "      <th>item_cnt_month_by_itemid_lag_3</th>\n",
       "      <th>item_cnt_month_by_itemid_lag_6</th>\n",
       "      <th>item_cnt_month_by_itemid_lag_12</th>\n",
       "      <th>rolling_windows_3</th>\n",
       "    </tr>\n",
       "  </thead>\n",
       "  <tbody>\n",
       "    <tr>\n",
       "      <th>0</th>\n",
       "      <td>0</td>\n",
       "      <td>0</td>\n",
       "      <td>19</td>\n",
       "      <td>0.0</td>\n",
       "      <td>11</td>\n",
       "      <td>2013</td>\n",
       "      <td>0</td>\n",
       "      <td>31</td>\n",
       "      <td>0</td>\n",
       "      <td>0.0</td>\n",
       "      <td>...</td>\n",
       "      <td>0.0</td>\n",
       "      <td>0.0</td>\n",
       "      <td>0.0</td>\n",
       "      <td>0.0</td>\n",
       "      <td>0.0</td>\n",
       "      <td>0.0</td>\n",
       "      <td>0.0</td>\n",
       "      <td>0.0</td>\n",
       "      <td>0.0</td>\n",
       "      <td>0.0</td>\n",
       "    </tr>\n",
       "    <tr>\n",
       "      <th>1</th>\n",
       "      <td>0</td>\n",
       "      <td>0</td>\n",
       "      <td>27</td>\n",
       "      <td>0.0</td>\n",
       "      <td>7</td>\n",
       "      <td>2013</td>\n",
       "      <td>0</td>\n",
       "      <td>31</td>\n",
       "      <td>0</td>\n",
       "      <td>0.0</td>\n",
       "      <td>...</td>\n",
       "      <td>0.0</td>\n",
       "      <td>0.0</td>\n",
       "      <td>0.0</td>\n",
       "      <td>0.0</td>\n",
       "      <td>0.0</td>\n",
       "      <td>0.0</td>\n",
       "      <td>0.0</td>\n",
       "      <td>0.0</td>\n",
       "      <td>0.0</td>\n",
       "      <td>0.0</td>\n",
       "    </tr>\n",
       "    <tr>\n",
       "      <th>2</th>\n",
       "      <td>0</td>\n",
       "      <td>0</td>\n",
       "      <td>28</td>\n",
       "      <td>0.0</td>\n",
       "      <td>3</td>\n",
       "      <td>2013</td>\n",
       "      <td>0</td>\n",
       "      <td>31</td>\n",
       "      <td>0</td>\n",
       "      <td>0.0</td>\n",
       "      <td>...</td>\n",
       "      <td>0.0</td>\n",
       "      <td>0.0</td>\n",
       "      <td>0.0</td>\n",
       "      <td>0.0</td>\n",
       "      <td>0.0</td>\n",
       "      <td>0.0</td>\n",
       "      <td>0.0</td>\n",
       "      <td>0.0</td>\n",
       "      <td>0.0</td>\n",
       "      <td>0.0</td>\n",
       "    </tr>\n",
       "    <tr>\n",
       "      <th>3</th>\n",
       "      <td>0</td>\n",
       "      <td>0</td>\n",
       "      <td>29</td>\n",
       "      <td>0.0</td>\n",
       "      <td>7</td>\n",
       "      <td>2013</td>\n",
       "      <td>0</td>\n",
       "      <td>31</td>\n",
       "      <td>0</td>\n",
       "      <td>0.0</td>\n",
       "      <td>...</td>\n",
       "      <td>0.0</td>\n",
       "      <td>0.0</td>\n",
       "      <td>0.0</td>\n",
       "      <td>0.0</td>\n",
       "      <td>0.0</td>\n",
       "      <td>0.0</td>\n",
       "      <td>0.0</td>\n",
       "      <td>0.0</td>\n",
       "      <td>0.0</td>\n",
       "      <td>0.0</td>\n",
       "    </tr>\n",
       "    <tr>\n",
       "      <th>4</th>\n",
       "      <td>0</td>\n",
       "      <td>0</td>\n",
       "      <td>32</td>\n",
       "      <td>6.0</td>\n",
       "      <td>11</td>\n",
       "      <td>2013</td>\n",
       "      <td>0</td>\n",
       "      <td>31</td>\n",
       "      <td>0</td>\n",
       "      <td>0.0</td>\n",
       "      <td>...</td>\n",
       "      <td>0.0</td>\n",
       "      <td>0.0</td>\n",
       "      <td>0.0</td>\n",
       "      <td>0.0</td>\n",
       "      <td>0.0</td>\n",
       "      <td>0.0</td>\n",
       "      <td>0.0</td>\n",
       "      <td>0.0</td>\n",
       "      <td>0.0</td>\n",
       "      <td>0.0</td>\n",
       "    </tr>\n",
       "  </tbody>\n",
       "</table>\n",
       "<p>5 rows × 35 columns</p>\n",
       "</div>"
      ],
      "text/plain": [
       "   date_block_num  shop_id  item_id  item_cnt_month  item_category_id  year  \\\n",
       "0               0        0       19             0.0                11  2013   \n",
       "1               0        0       27             0.0                 7  2013   \n",
       "2               0        0       28             0.0                 3  2013   \n",
       "3               0        0       29             0.0                 7  2013   \n",
       "4               0        0       32             6.0                11  2013   \n",
       "\n",
       "   month  days  December  item_cnt_month_lag_1        ...          \\\n",
       "0      0    31         0                   0.0        ...           \n",
       "1      0    31         0                   0.0        ...           \n",
       "2      0    31         0                   0.0        ...           \n",
       "3      0    31         0                   0.0        ...           \n",
       "4      0    31         0                   0.0        ...           \n",
       "\n",
       "   item_price_mean_by_itemid_lag_2  item_price_mean_by_itemid_lag_3  \\\n",
       "0                              0.0                              0.0   \n",
       "1                              0.0                              0.0   \n",
       "2                              0.0                              0.0   \n",
       "3                              0.0                              0.0   \n",
       "4                              0.0                              0.0   \n",
       "\n",
       "   item_price_mean_by_itemid_lag_6  item_price_mean_by_itemid_lag_12  \\\n",
       "0                              0.0                               0.0   \n",
       "1                              0.0                               0.0   \n",
       "2                              0.0                               0.0   \n",
       "3                              0.0                               0.0   \n",
       "4                              0.0                               0.0   \n",
       "\n",
       "   item_cnt_month_by_itemid_lag_1  item_cnt_month_by_itemid_lag_2  \\\n",
       "0                             0.0                             0.0   \n",
       "1                             0.0                             0.0   \n",
       "2                             0.0                             0.0   \n",
       "3                             0.0                             0.0   \n",
       "4                             0.0                             0.0   \n",
       "\n",
       "   item_cnt_month_by_itemid_lag_3  item_cnt_month_by_itemid_lag_6  \\\n",
       "0                             0.0                             0.0   \n",
       "1                             0.0                             0.0   \n",
       "2                             0.0                             0.0   \n",
       "3                             0.0                             0.0   \n",
       "4                             0.0                             0.0   \n",
       "\n",
       "   item_cnt_month_by_itemid_lag_12  rolling_windows_3  \n",
       "0                              0.0                0.0  \n",
       "1                              0.0                0.0  \n",
       "2                              0.0                0.0  \n",
       "3                              0.0                0.0  \n",
       "4                              0.0                0.0  \n",
       "\n",
       "[5 rows x 35 columns]"
      ]
     },
     "execution_count": 80,
     "metadata": {},
     "output_type": "execute_result"
    }
   ],
   "source": [
    "print(train_set.shape)\n",
    "train_set.head()"
   ]
  },
  {
   "cell_type": "code",
   "execution_count": 81,
   "metadata": {},
   "outputs": [
    {
     "data": {
      "text/plain": [
       "14"
      ]
     },
     "execution_count": 81,
     "metadata": {},
     "output_type": "execute_result"
    }
   ],
   "source": [
    "import gc\n",
    "gc.collect()"
   ]
  },
  {
   "cell_type": "markdown",
   "metadata": {},
   "source": [
    "### Mean encoding with time dimension"
   ]
  },
  {
   "cell_type": "code",
   "execution_count": 82,
   "metadata": {},
   "outputs": [],
   "source": [
    "# Mean encoding with a time dimension (need only lags of these)\n",
    "# Need to do this before the split in order to get lags for validation and test sets\n",
    "if True:\n",
    "    # ME for 'date_block_num'\n",
    "    ME_dbn = train_set.groupby(['date_block_num']).agg({'item_cnt_month':'mean'})\n",
    "    ME_dbn.columns = ['ME_dbn']\n",
    "    ME_dbn.reset_index(inplace=True)\n",
    "\n",
    "    train_set      = train_set.merge(ME_dbn, on=['date_block_num'], how='left')\n",
    "    del ME_dbn\n",
    "    \n",
    "    # ME for 'date_block_num','item_id'\n",
    "    ME_dbn_itemid = train_set.groupby(['date_block_num','item_id']).agg({'item_cnt_month':'mean'})\n",
    "    ME_dbn_itemid.columns = ['ME_dbn_itemid']\n",
    "    ME_dbn_itemid.reset_index(inplace=True)\n",
    "\n",
    "    train_set      = train_set.merge(ME_dbn_itemid, on=['date_block_num','item_id'], how='left')\n",
    "    del ME_dbn_itemid\n",
    "\n",
    "    # ME for 'date_block_num','shop_id'\n",
    "    ME_dbn_shopid = train_set.groupby(['date_block_num','shop_id']).agg({'item_cnt_month':'mean'})\n",
    "    ME_dbn_shopid.columns = ['ME_dbn_shopid']\n",
    "    ME_dbn_shopid.reset_index(inplace=True)\n",
    "\n",
    "    train_set      = train_set.merge(ME_dbn_shopid, on=['date_block_num','shop_id'], how='left')\n",
    "    del ME_dbn_shopid\n",
    "\n",
    "    # ME for 'date_block_num','item_category_id'\n",
    "    ME_dbn_categoryid = train_set.groupby(['date_block_num','item_category_id']).agg({'item_cnt_month':'mean'})\n",
    "    ME_dbn_categoryid.columns = ['ME_dbn_categoryid']\n",
    "    ME_dbn_categoryid.reset_index(inplace=True)\n",
    "\n",
    "    train_set      = train_set.merge(ME_dbn_categoryid, on=['date_block_num','item_category_id'], how='left')\n",
    "    del ME_dbn_categoryid\n",
    "\n",
    "    # ME for 'date_block_num','shop_id', 'item_category_id'\n",
    "    ME_dbn_shopid_categoryid = train_set.groupby(['date_block_num','shop_id', 'item_category_id']).agg({'item_cnt_month':'mean'})\n",
    "    ME_dbn_shopid_categoryid.columns = ['ME_dbn_shopid_categoryid']\n",
    "    ME_dbn_shopid_categoryid.reset_index(inplace=True)\n",
    "\n",
    "    train_set      = train_set.merge(ME_dbn_shopid_categoryid, on=['date_block_num','shop_id', 'item_category_id'], how='left')\n",
    "    del ME_dbn_shopid_categoryid\n",
    "\n",
    "    # Take the lags and drop\n",
    "    train_set = lag_feature(train_set, [1], 'ME_dbn')\n",
    "    train_set = lag_feature(train_set, [1,2,3,6,12], 'ME_dbn_itemid')\n",
    "    train_set = lag_feature(train_set, [1,2,3,6,12], 'ME_dbn_shopid')\n",
    "    train_set = lag_feature(train_set, [1], 'ME_dbn_categoryid')\n",
    "    train_set = lag_feature(train_set, [1], 'ME_dbn_shopid_categoryid')\n",
    "\n",
    "    train_set.drop(['ME_dbn','ME_dbn_itemid', 'ME_dbn_shopid', 'ME_dbn_categoryid', 'ME_dbn_shopid_categoryid'], axis=1, inplace=True)"
   ]
  },
  {
   "cell_type": "markdown",
   "metadata": {},
   "source": [
    "### Text features"
   ]
  },
  {
   "cell_type": "code",
   "execution_count": 83,
   "metadata": {},
   "outputs": [],
   "source": [
    "from sklearn.feature_extraction.text import TfidfVectorizer\n",
    "if False:\n",
    "    items_subset = items[['item_id', 'item_name']]\n",
    "    tfidf = TfidfVectorizer(max_features = 30)\n",
    "    items_tfidf = pd.DataFrame(tfidf.fit_transform(items_subset['item_name']).toarray(), columns=tfidf.get_feature_names())\n",
    "\n",
    "    items_subset = pd.concat([items_subset, items_tfidf], axis=1)\n",
    "    items_subset.drop('item_name', axis = 1, inplace = True)\n",
    "    train_set = train_set.merge(items_subset, on = 'item_id', how = 'left')\n",
    "    train_set.head()"
   ]
  },
  {
   "cell_type": "code",
   "execution_count": 84,
   "metadata": {},
   "outputs": [],
   "source": [
    "train_set.fillna(0, inplace=True)"
   ]
  },
  {
   "cell_type": "markdown",
   "metadata": {},
   "source": [
    "### Save the full dataset"
   ]
  },
  {
   "cell_type": "code",
   "execution_count": 85,
   "metadata": {},
   "outputs": [],
   "source": [
    "# Give the file a less misleading name!\n",
    "train_set.to_pickle('full_set.pkl')\n",
    "#train_set.to_pickle('full_set_with_MEF.pkl')"
   ]
  },
  {
   "cell_type": "markdown",
   "metadata": {},
   "source": [
    "### Load data for modeling"
   ]
  },
  {
   "cell_type": "code",
   "execution_count": 86,
   "metadata": {},
   "outputs": [
    {
     "name": "stdout",
     "output_type": "stream",
     "text": [
      "(11098708, 48)\n"
     ]
    }
   ],
   "source": [
    "import pandas as pd\n",
    "import numpy as np\n",
    "import matplotlib.pyplot as plt\n",
    "%matplotlib inline \n",
    "import seaborn as sns\n",
    "from sklearn.metrics import mean_squared_error\n",
    "import pickle\n",
    "\n",
    "full_set = pd.read_pickle('full_set.pkl')\n",
    "#full_set = pd.read_pickle('full_set_with_MEF.pkl')\n",
    "print(full_set.shape)"
   ]
  },
  {
   "cell_type": "code",
   "execution_count": 87,
   "metadata": {},
   "outputs": [],
   "source": [
    "full_set_features = full_set.drop('item_cnt_month', axis=1)"
   ]
  },
  {
   "cell_type": "code",
   "execution_count": 88,
   "metadata": {},
   "outputs": [
    {
     "data": {
      "text/plain": [
       "Index(['date_block_num', 'shop_id', 'item_id', 'item_cnt_month',\n",
       "       'item_category_id', 'year', 'month', 'days', 'December',\n",
       "       'item_cnt_month_lag_1', 'item_cnt_month_lag_2', 'item_cnt_month_lag_3',\n",
       "       'item_cnt_month_lag_6', 'item_cnt_month_lag_12',\n",
       "       'item_price_mean_lag_1', 'item_price_mean_lag_2',\n",
       "       'item_price_mean_lag_3', 'item_price_mean_lag_6',\n",
       "       'item_price_mean_lag_12', 'transactions_lag_1', 'transactions_lag_2',\n",
       "       'transactions_lag_3', 'transactions_lag_6', 'transactions_lag_12',\n",
       "       'item_price_mean_by_itemid_lag_1', 'item_price_mean_by_itemid_lag_2',\n",
       "       'item_price_mean_by_itemid_lag_3', 'item_price_mean_by_itemid_lag_6',\n",
       "       'item_price_mean_by_itemid_lag_12', 'item_cnt_month_by_itemid_lag_1',\n",
       "       'item_cnt_month_by_itemid_lag_2', 'item_cnt_month_by_itemid_lag_3',\n",
       "       'item_cnt_month_by_itemid_lag_6', 'item_cnt_month_by_itemid_lag_12',\n",
       "       'rolling_windows_3', 'ME_dbn_lag_1', 'ME_dbn_itemid_lag_1',\n",
       "       'ME_dbn_itemid_lag_2', 'ME_dbn_itemid_lag_3', 'ME_dbn_itemid_lag_6',\n",
       "       'ME_dbn_itemid_lag_12', 'ME_dbn_shopid_lag_1', 'ME_dbn_shopid_lag_2',\n",
       "       'ME_dbn_shopid_lag_3', 'ME_dbn_shopid_lag_6', 'ME_dbn_shopid_lag_12',\n",
       "       'ME_dbn_categoryid_lag_1', 'ME_dbn_shopid_categoryid_lag_1'],\n",
       "      dtype='object')"
      ]
     },
     "execution_count": 88,
     "metadata": {},
     "output_type": "execute_result"
    }
   ],
   "source": [
    "full_set.columns"
   ]
  },
  {
   "cell_type": "markdown",
   "metadata": {},
   "source": [
    "### Create X_test, X_train, y_train, X_validation, y_validation"
   ]
  },
  {
   "cell_type": "code",
   "execution_count": 89,
   "metadata": {},
   "outputs": [],
   "source": [
    "# The train/test split is done timewise (i.e. a date serves as a cutoff), so we will do the same for our train/validation split\n",
    "# in order to mimic the train/test split"
   ]
  },
  {
   "cell_type": "code",
   "execution_count": 90,
   "metadata": {},
   "outputs": [],
   "source": [
    "X_test = full_set_features.query('date_block_num == 34')"
   ]
  },
  {
   "cell_type": "code",
   "execution_count": 91,
   "metadata": {},
   "outputs": [],
   "source": [
    "X_train = full_set_features.query( 'date_block_num >= 12 & date_block_num <= 32')\n",
    "#X_train = full_set_features.query( 'date_block_num >= 12 & date_block_num <= 32 & date_block_num != 11 & date_block_num != 23') #'date_block_num >= 12 &\n",
    "y_train = full_set.query('date_block_num >= 12 & date_block_num <= 32')['item_cnt_month'] #date_block_num >= 12 &\n",
    "#y_train = full_set.query('date_block_num >= 12 & date_block_num <= 32 & date_block_num != 11 & date_block_num != 23')['item_cnt_month']"
   ]
  },
  {
   "cell_type": "code",
   "execution_count": 92,
   "metadata": {},
   "outputs": [
    {
     "data": {
      "text/plain": [
       "(6167580, 47)"
      ]
     },
     "execution_count": 92,
     "metadata": {},
     "output_type": "execute_result"
    }
   ],
   "source": [
    "X_train.shape"
   ]
  },
  {
   "cell_type": "code",
   "execution_count": 93,
   "metadata": {},
   "outputs": [],
   "source": [
    "X_validation = full_set_features.query('date_block_num == 33')\n",
    "y_validation = full_set.query('date_block_num == 33')['item_cnt_month']"
   ]
  },
  {
   "cell_type": "code",
   "execution_count": 94,
   "metadata": {},
   "outputs": [],
   "source": [
    "X_train.reset_index(drop=True, inplace=True)\n",
    "X_validation.reset_index(drop=True, inplace=True)\n",
    "X_test.reset_index(drop=True, inplace=True)"
   ]
  },
  {
   "cell_type": "markdown",
   "metadata": {},
   "source": [
    "### Created mean encoded features"
   ]
  },
  {
   "cell_type": "code",
   "execution_count": 95,
   "metadata": {},
   "outputs": [],
   "source": [
    "# Set to estimate mean encoding (target encoding)\n",
    "ME_set = full_set.query( 'date_block_num >= 12 & date_block_num <= 32')# for training models\n",
    "ME_set.reset_index(drop=True, inplace=True)"
   ]
  },
  {
   "cell_type": "code",
   "execution_count": 96,
   "metadata": {},
   "outputs": [],
   "source": [
    "if True:\n",
    "    # ME without regularization, should be done after the data split\n",
    "    pd.options.mode.chained_assignment = None\n",
    "    global_mean = ME_set['item_cnt_month'].mean()\n",
    "\n",
    "    # ME for 'shop_id' ------------------\n",
    "    ME_shopid = ME_set.groupby(['shop_id'])['item_cnt_month'].mean()\n",
    "\n",
    "    X_train['ME_shopid'] = X_train['shop_id'].map(ME_shopid)\n",
    "    X_validation['ME_shopid'] = X_validation['shop_id'].map(ME_shopid)\n",
    "    X_test['ME_shopid'] = X_test['shop_id'].map(ME_shopid)\n",
    "\n",
    "    # ME for 'item_id' ------------------\n",
    "    #ME_itemid = ME_set.groupby(['item_id'])['item_cnt_month'].mean()\n",
    "\n",
    "    #X_train['ME_itemid'] = X_train['item_id'].map(ME_itemid)\n",
    "    #X_validation['ME_itemid'] = X_validation['item_id'].map(ME_itemid)\n",
    "    #X_test['ME_itemid'] = X_test['item_id'].map(ME_itemid)\n",
    "\n",
    "    # ME for 'item_category_id' ------------------\n",
    "    ME_categoryid = ME_set.groupby(['item_category_id'])['item_cnt_month'].mean()\n",
    "\n",
    "    X_train['ME_categoryid'] = X_train['item_category_id'].map(ME_categoryid)\n",
    "    X_validation['ME_categoryid'] = X_validation['item_category_id'].map(ME_categoryid)\n",
    "    X_test['ME_categoryid'] = X_test['item_category_id'].map(ME_categoryid)\n",
    "\n",
    "    X_train.fillna(global_mean, inplace=True)\n",
    "    X_validation.fillna(global_mean, inplace=True)\n",
    "    X_test.fillna(global_mean, inplace=True)\n",
    "    \n",
    "    # Mean encoding with regularization (cross-validation scheme), it regularizes the training part only\n",
    "\n",
    "    from sklearn.model_selection import KFold\n",
    "    kf = KFold(n_splits = 5, shuffle = True)\n",
    "    \n",
    "    # ME for 'shop_id' ------------------\n",
    "    for tr_ind, val_ind in kf.split(X_train):\n",
    "        X_tr, X_val = ME_set.iloc[tr_ind], ME_set.iloc[val_ind]\n",
    "        ME_shopid = X_tr.groupby(['shop_id'])['item_cnt_month'].mean()\n",
    "        ME_set.loc[val_ind, 'ME_shopid'] = X_val['shop_id'].map( ME_shopid )\n",
    "    \n",
    "    ME_set['ME_shopid'].fillna(global_mean, inplace=True)\n",
    "    X_train['ME_shopid'] = ME_set['ME_shopid']\n",
    "        \n",
    "    # ME for 'item_id' ------------------\n",
    "    #for tr_ind, val_ind in kf.split(ME_set):\n",
    "    #    X_tr, X_val = ME_set.iloc[tr_ind], ME_set.iloc[val_ind]\n",
    "    #    ME_itemid = X_tr.groupby(['item_id'])['item_cnt_month'].mean()\n",
    "    #    ME_set.loc[val_ind, 'ME_itemid'] = X_val['item_id'].map( ME_itemid )\n",
    "        \n",
    "    #ME_set['ME_itemid'].fillna(global_mean, inplace=True)\n",
    "    #X_train['ME_itemid'] = ME_set['ME_itemid']\n",
    "        \n",
    "    # ME for 'item_category_id' ------------------\n",
    "    for tr_ind, val_ind in kf.split(ME_set):\n",
    "        X_tr, X_val = ME_set.iloc[tr_ind], ME_set.iloc[val_ind]\n",
    "        ME_categoryid = X_tr.groupby(['item_category_id'])['item_cnt_month'].mean()\n",
    "        ME_set.loc[val_ind, 'ME_categoryid'] = X_val['item_category_id'].map( ME_categoryid )\n",
    "    \n",
    "    ME_set['ME_categoryid'].fillna(global_mean, inplace=True)\n",
    "    X_train['ME_categoryid'] = ME_set['ME_categoryid']"
   ]
  },
  {
   "cell_type": "code",
   "execution_count": 97,
   "metadata": {},
   "outputs": [],
   "source": [
    "if False:\n",
    "    # ME with multiple groupby without regularization\n",
    "    # ME for 'item_category_id','item_id'\n",
    "    ME_categoryid_itemid = ME_set.groupby(['item_category_id','item_id']).agg({'item_cnt_month':'mean'})\n",
    "    ME_categoryid_itemid.columns = ['ME_categoryid_itemid'] \n",
    "    ME_categoryid_itemid.reset_index(inplace=True)\n",
    "\n",
    "    X_train      = X_train.merge(ME_categoryid_itemid, on=['item_category_id', 'item_id'], how='left')\n",
    "    X_validation = X_validation.merge(ME_categoryid_itemid, on=['item_category_id', 'item_id'], how='left')\n",
    "    X_test       = X_test.merge(ME_categoryid_itemid, on=['item_category_id', 'item_id'], how='left')\n",
    "\n",
    "    # ME for 'shop_id','item_category_id'\n",
    "    ME_shopid_categoryid = ME_set.groupby(['shop_id','item_category_id']).agg({'item_cnt_month':'mean'})\n",
    "    ME_shopid_categoryid.columns = ['ME_shopid_categoryid']\n",
    "    ME_shopid_categoryid.reset_index(inplace=True)\n",
    "\n",
    "    X_train      = X_train.merge(ME_shopid_categoryid, on=['shop_id','item_category_id'], how='left')\n",
    "    X_validation = X_validation.merge(ME_shopid_categoryid, on=['shop_id','item_category_id'], how='left')\n",
    "    X_test       = X_test.merge(ME_shopid_categoryid, on=['shop_id','item_category_id'], how='left')\n",
    "\n",
    "    X_train.fillna(global_mean, inplace=True)\n",
    "    X_validation.fillna(global_mean, inplace=True)\n",
    "    X_test.fillna(global_mean, inplace=True)\n",
    "    \n",
    "    # ME with multiple groupby with regularization (cross-validation scheme)\n",
    "    # ME for 'item_category_id','item_id'\n",
    "    for tr_ind, val_ind in kf.split(ME_set):\n",
    "        X_tr, X_val = ME_set.iloc[tr_ind], ME_set.iloc[val_ind]\n",
    "        ME_categoryid_itemid = ME_set.groupby(['item_category_id','item_id']).agg({'item_cnt_month':'mean'})\n",
    "        ME_categoryid_itemid.columns = ['ME_categoryid_itemid_temp'] \n",
    "        ME_categoryid_itemid.reset_index(inplace=True)\n",
    "        ME_set_temp = ME_set.loc[val_ind].merge(ME_categoryid_itemid, on=['item_category_id', 'item_id'], how='left')\n",
    "        ME_set.loc[val_ind, 'ME_categoryid_itemid'] = ME_set_temp[ 'ME_categoryid_itemid_temp']\n",
    "    \n",
    "    ME_set['ME_categoryid_itemid'].fillna(global_mean, inplace=True)\n",
    "    X_train['ME_categoryid_itemid'] = ME_set['ME_categoryid_itemid']\n",
    "    \n",
    "    # ME for 'shop_id','item_category_id'\n",
    "    for tr_ind, val_ind in kf.split(ME_set):\n",
    "        X_tr, X_val = ME_set.iloc[tr_ind], ME_set.iloc[val_ind]\n",
    "        ME_shopid_categoryid = ME_set.groupby(['shop_id','item_category_id']).agg({'item_cnt_month':'mean'})\n",
    "        ME_shopid_categoryid.columns = ['ME_shopid_categoryid_temp'] \n",
    "        ME_shopid_categoryid.reset_index(inplace=True)\n",
    "        ME_set_temp = ME_set.loc[val_ind].merge(ME_shopid_categoryid, on=['shop_id','item_category_id'], how='left')\n",
    "        ME_set.loc[val_ind, 'ME_shopid_categoryid'] = ME_set_temp['ME_shopid_categoryid_temp']\n",
    "    \n",
    "    ME_set['ME_shopid_categoryid'].fillna(global_mean, inplace=True)\n",
    "    X_train['ME_shopid_categoryid'] = ME_set['ME_shopid_categoryid']\n"
   ]
  },
  {
   "cell_type": "code",
   "execution_count": 98,
   "metadata": {},
   "outputs": [
    {
     "data": {
      "text/plain": [
       "Index(['date_block_num', 'shop_id', 'item_id', 'item_category_id', 'year',\n",
       "       'month', 'days', 'December', 'item_cnt_month_lag_1',\n",
       "       'item_cnt_month_lag_2', 'item_cnt_month_lag_3', 'item_cnt_month_lag_6',\n",
       "       'item_cnt_month_lag_12', 'item_price_mean_lag_1',\n",
       "       'item_price_mean_lag_2', 'item_price_mean_lag_3',\n",
       "       'item_price_mean_lag_6', 'item_price_mean_lag_12', 'transactions_lag_1',\n",
       "       'transactions_lag_2', 'transactions_lag_3', 'transactions_lag_6',\n",
       "       'transactions_lag_12', 'item_price_mean_by_itemid_lag_1',\n",
       "       'item_price_mean_by_itemid_lag_2', 'item_price_mean_by_itemid_lag_3',\n",
       "       'item_price_mean_by_itemid_lag_6', 'item_price_mean_by_itemid_lag_12',\n",
       "       'item_cnt_month_by_itemid_lag_1', 'item_cnt_month_by_itemid_lag_2',\n",
       "       'item_cnt_month_by_itemid_lag_3', 'item_cnt_month_by_itemid_lag_6',\n",
       "       'item_cnt_month_by_itemid_lag_12', 'rolling_windows_3', 'ME_dbn_lag_1',\n",
       "       'ME_dbn_itemid_lag_1', 'ME_dbn_itemid_lag_2', 'ME_dbn_itemid_lag_3',\n",
       "       'ME_dbn_itemid_lag_6', 'ME_dbn_itemid_lag_12', 'ME_dbn_shopid_lag_1',\n",
       "       'ME_dbn_shopid_lag_2', 'ME_dbn_shopid_lag_3', 'ME_dbn_shopid_lag_6',\n",
       "       'ME_dbn_shopid_lag_12', 'ME_dbn_categoryid_lag_1',\n",
       "       'ME_dbn_shopid_categoryid_lag_1', 'ME_shopid', 'ME_categoryid'],\n",
       "      dtype='object')"
      ]
     },
     "execution_count": 98,
     "metadata": {},
     "output_type": "execute_result"
    }
   ],
   "source": [
    "del ME_shopid\n",
    "del ME_categoryid\n",
    "del ME_set\n",
    "X_train.columns"
   ]
  },
  {
   "cell_type": "markdown",
   "metadata": {},
   "source": [
    "### PCA"
   ]
  },
  {
   "cell_type": "code",
   "execution_count": 99,
   "metadata": {},
   "outputs": [],
   "source": [
    "if False:\n",
    "    from sklearn import decomposition\n",
    "\n",
    "    pca = decomposition.PCA(n_components=full_set.shape[1]-1)#n_components=full_set.shape[1]-1\n",
    "    pca.fit(full_set_features)\n",
    "\n",
    "    print(pca.explained_variance_ratio_ / np.sum(pca.explained_variance_ratio_) * 100) \n",
    "\n",
    "    # Apply PCA transform\n",
    "    X_test = pca.transform(X_test)\n",
    "    X_train = pca.transform(X_train)\n",
    "    X_validation = pca.transform(X_validation)\n",
    "\n",
    "    # Select the important PCA features\n",
    "    X_train = X_train[:,0:3]\n",
    "    X_validation = X_validation[:,0:3]\n",
    "    X_test = X_test[:,0:3]"
   ]
  },
  {
   "cell_type": "markdown",
   "metadata": {},
   "source": [
    "### Feature selection"
   ]
  },
  {
   "cell_type": "code",
   "execution_count": 100,
   "metadata": {},
   "outputs": [],
   "source": [
    "if False:\n",
    "    # Recursive Feature Elimination\n",
    "    from sklearn.model_selection import StratifiedKFold\n",
    "    from sklearn.feature_selection import RFECV\n",
    "    from sklearn.feature_selection import RFE\n",
    "    from sklearn.linear_model import LinearRegression\n",
    "    from sklearn.tree import DecisionTreeRegressor\n",
    "    from sklearn.ensemble import RandomForestRegressor\n",
    "\n",
    "    # create a base classifier used to evaluate a subset of attributes\n",
    "    model = LinearRegression()\n",
    "    #model = DecisionTreeRegressor()\n",
    "\n",
    "    # create the RFE model and select # of attributes\n",
    "    rfe = RFE(model, 45)\n",
    "    rfe = rfe.fit(X_train, y_train)\n",
    "\n",
    "    # summarize the selection of the attributes\n",
    "    print(rfe.support_)\n",
    "    print(rfe.ranking_)\n",
    "    print(X_train.columns[rfe.support_])\n",
    "\n",
    "    # create the RFE model and select # of attributes\n",
    "    #rfecv = RFECV(estimator=model, step=1, cv=StratifiedKFold(5), scoring= 'neg_mean_squared_error', n_jobs=-1)\n",
    "    #rfecv.fit(X, y)\n",
    "    \n",
    "    #print(X.columns[rfecv.support_])\n",
    "    #print(\"Optimal number of features : %d\" % rfecv.n_features_)\n",
    "    \n",
    "    # Plot number of features VS. cross-validation scores\n",
    "    #plt.figure()\n",
    "    #plt.xlabel(\"Number of features selected\")\n",
    "    #plt.ylabel(\"Cross validation score (nb of correct classifications)\")\n",
    "    #plt.plot(range(1, len(rfecv.grid_scores_) + 1), rfecv.grid_scores_)\n",
    "    #plt.show()\n",
    "\n",
    "    X_train = X_train[X_train.columns[rfe.support_]]\n",
    "    X_validation = X_validation[X_train.columns]\n",
    "    X_test = X_test[X_train.columns]"
   ]
  },
  {
   "cell_type": "markdown",
   "metadata": {},
   "source": [
    "### XGBoost model"
   ]
  },
  {
   "cell_type": "code",
   "execution_count": 101,
   "metadata": {},
   "outputs": [
    {
     "name": "stdout",
     "output_type": "stream",
     "text": [
      "[15:28:40] Tree method is automatically selected to be 'approx' for faster speed. to use old behavior(exact greedy algorithm on single machine), set tree_method to 'exact'\n",
      "[0]\tvalidation_0-rmse:1.15696\tvalidation_1-rmse:1.12378\n",
      "Multiple eval metrics have been passed: 'validation_1-rmse' will be used for early stopping.\n",
      "\n",
      "Will train until validation_1-rmse hasn't improved in 10 rounds.\n",
      "[1]\tvalidation_0-rmse:1.11274\tvalidation_1-rmse:1.09219\n",
      "[2]\tvalidation_0-rmse:1.07444\tvalidation_1-rmse:1.06516\n",
      "[3]\tvalidation_0-rmse:1.04222\tvalidation_1-rmse:1.04369\n",
      "[4]\tvalidation_0-rmse:1.0148\tvalidation_1-rmse:1.02536\n",
      "[5]\tvalidation_0-rmse:0.991314\tvalidation_1-rmse:1.00951\n",
      "[6]\tvalidation_0-rmse:0.971508\tvalidation_1-rmse:0.996617\n",
      "[7]\tvalidation_0-rmse:0.954402\tvalidation_1-rmse:0.985908\n",
      "[8]\tvalidation_0-rmse:0.939963\tvalidation_1-rmse:0.97752\n",
      "[9]\tvalidation_0-rmse:0.927796\tvalidation_1-rmse:0.969755\n",
      "[10]\tvalidation_0-rmse:0.917694\tvalidation_1-rmse:0.96376\n",
      "[11]\tvalidation_0-rmse:0.908282\tvalidation_1-rmse:0.958339\n",
      "[12]\tvalidation_0-rmse:0.900393\tvalidation_1-rmse:0.954455\n",
      "[13]\tvalidation_0-rmse:0.893419\tvalidation_1-rmse:0.950965\n",
      "[14]\tvalidation_0-rmse:0.887585\tvalidation_1-rmse:0.948234\n",
      "[15]\tvalidation_0-rmse:0.882458\tvalidation_1-rmse:0.94587\n",
      "[16]\tvalidation_0-rmse:0.878182\tvalidation_1-rmse:0.943862\n",
      "[17]\tvalidation_0-rmse:0.874337\tvalidation_1-rmse:0.942023\n",
      "[18]\tvalidation_0-rmse:0.870779\tvalidation_1-rmse:0.940621\n",
      "[19]\tvalidation_0-rmse:0.867571\tvalidation_1-rmse:0.939507\n",
      "[20]\tvalidation_0-rmse:0.864628\tvalidation_1-rmse:0.938504\n",
      "[21]\tvalidation_0-rmse:0.862239\tvalidation_1-rmse:0.937718\n",
      "[22]\tvalidation_0-rmse:0.860243\tvalidation_1-rmse:0.936973\n",
      "[23]\tvalidation_0-rmse:0.858403\tvalidation_1-rmse:0.936794\n",
      "[24]\tvalidation_0-rmse:0.856022\tvalidation_1-rmse:0.936612\n",
      "[25]\tvalidation_0-rmse:0.8543\tvalidation_1-rmse:0.936248\n",
      "[26]\tvalidation_0-rmse:0.852813\tvalidation_1-rmse:0.935737\n",
      "[27]\tvalidation_0-rmse:0.851116\tvalidation_1-rmse:0.935268\n",
      "[28]\tvalidation_0-rmse:0.849604\tvalidation_1-rmse:0.935579\n",
      "[29]\tvalidation_0-rmse:0.848167\tvalidation_1-rmse:0.935468\n",
      "[30]\tvalidation_0-rmse:0.846898\tvalidation_1-rmse:0.935816\n",
      "[31]\tvalidation_0-rmse:0.84575\tvalidation_1-rmse:0.935527\n",
      "[32]\tvalidation_0-rmse:0.844741\tvalidation_1-rmse:0.935414\n",
      "[33]\tvalidation_0-rmse:0.843808\tvalidation_1-rmse:0.935475\n",
      "[34]\tvalidation_0-rmse:0.842566\tvalidation_1-rmse:0.935343\n",
      "[35]\tvalidation_0-rmse:0.841603\tvalidation_1-rmse:0.935098\n",
      "[36]\tvalidation_0-rmse:0.840491\tvalidation_1-rmse:0.934813\n",
      "[37]\tvalidation_0-rmse:0.839508\tvalidation_1-rmse:0.934906\n",
      "[38]\tvalidation_0-rmse:0.838666\tvalidation_1-rmse:0.935347\n",
      "[39]\tvalidation_0-rmse:0.837791\tvalidation_1-rmse:0.93558\n",
      "[40]\tvalidation_0-rmse:0.836643\tvalidation_1-rmse:0.935927\n",
      "[41]\tvalidation_0-rmse:0.8357\tvalidation_1-rmse:0.936001\n",
      "[42]\tvalidation_0-rmse:0.835208\tvalidation_1-rmse:0.936021\n",
      "[43]\tvalidation_0-rmse:0.83443\tvalidation_1-rmse:0.936012\n",
      "[44]\tvalidation_0-rmse:0.833713\tvalidation_1-rmse:0.935894\n",
      "[45]\tvalidation_0-rmse:0.832952\tvalidation_1-rmse:0.936145\n",
      "[46]\tvalidation_0-rmse:0.832282\tvalidation_1-rmse:0.936155\n",
      "Stopping. Best iteration:\n",
      "[36]\tvalidation_0-rmse:0.840491\tvalidation_1-rmse:0.934813\n",
      "\n"
     ]
    },
    {
     "data": {
      "image/png": "[encoded data removed]",
      "text/plain": [
       "<Figure size 1440x1080 with 1 Axes>"
      ]
     },
     "metadata": {
      "needs_background": "light"
     },
     "output_type": "display_data"
    }
   ],
   "source": [
    "# Put False if model is already trained\n",
    "if True:\n",
    "    from xgboost import XGBRegressor\n",
    "    from xgboost import plot_importance\n",
    "\n",
    "    xgb_model = XGBRegressor(max_depth=8, \n",
    "                             n_estimators=1000, \n",
    "                             min_child_weight=0.5,  \n",
    "                             colsample_bytree=0.8, \n",
    "                             subsample=0.8, \n",
    "                             eta=0.3, \n",
    "                             seed=42#,\n",
    "                             #reg_lambda = 1\n",
    "                             )\n",
    "    xgb_model.fit(X_train, y_train, \n",
    "                  eval_metric = \"rmse\", \n",
    "                  eval_set = [(X_train, y_train), (X_validation, y_validation)], \n",
    "                  verbose = True, \n",
    "                  early_stopping_rounds = 10)\n",
    "\n",
    "    plt.rcParams[\"figure.figsize\"] = (20, 15)\n",
    "    plot_importance(xgb_model)\n",
    "    plt.show()\n",
    "\n",
    "    # Serialize model\n",
    "    from joblib import dump, load\n",
    "    dump(xgb_model, 'xgb_model.joblib')\n"
   ]
  },
  {
   "cell_type": "code",
   "execution_count": 102,
   "metadata": {},
   "outputs": [
    {
     "name": "stdout",
     "output_type": "stream",
     "text": [
      "Train rmse: 0.8404906692280136\n",
      "Validation rmse: 0.9348128956784616\n"
     ]
    }
   ],
   "source": [
    "if True:\n",
    "    xgb_model = load('xgb_model.joblib') \n",
    "    \n",
    "    xgb_train_pred = xgb_model.predict(X_train)\n",
    "    xgb_val_pred = xgb_model.predict(X_validation)\n",
    "    xgb_test_pred = xgb_model.predict(X_test)\n",
    "\n",
    "    pickle.dump(xgb_val_pred, open('xgb_val_pred.pickle', 'wb'))\n",
    "    pickle.dump(xgb_test_pred, open('xgb_test_pred.pickle', 'wb'))\n",
    "    \n",
    "    print('Train rmse:', np.sqrt(mean_squared_error(y_train, xgb_train_pred)))\n",
    "    print('Validation rmse:', np.sqrt(mean_squared_error(y_validation, xgb_val_pred)))"
   ]
  },
  {
   "cell_type": "markdown",
   "metadata": {},
   "source": [
    "### Catboost model"
   ]
  },
  {
   "cell_type": "code",
   "execution_count": 103,
   "metadata": {},
   "outputs": [
    {
     "name": "stdout",
     "output_type": "stream",
     "text": [
      "0:\tlearn: 1.2108941\ttest: 1.1555655\tbest: 1.1555655 (0)\ttotal: 1.4s\tremaining: 23m 23s\n",
      "10:\tlearn: 1.0922199\ttest: 1.0749463\tbest: 1.0749463 (10)\ttotal: 14s\tremaining: 20m 55s\n",
      "20:\tlearn: 1.0182071\ttest: 1.0254040\tbest: 1.0254040 (20)\ttotal: 26.2s\tremaining: 20m 19s\n",
      "30:\tlearn: 0.9724097\ttest: 0.9964823\tbest: 0.9964823 (30)\ttotal: 38.8s\tremaining: 20m 12s\n",
      "40:\tlearn: 0.9440687\ttest: 0.9788912\tbest: 0.9788912 (40)\ttotal: 51.2s\tremaining: 19m 56s\n",
      "50:\tlearn: 0.9256620\ttest: 0.9672830\tbest: 0.9672830 (50)\ttotal: 1m 4s\tremaining: 19m 55s\n",
      "60:\tlearn: 0.9134533\ttest: 0.9596953\tbest: 0.9596953 (60)\ttotal: 1m 18s\tremaining: 20m 5s\n",
      "70:\tlearn: 0.9048202\ttest: 0.9545378\tbest: 0.9545378 (70)\ttotal: 1m 32s\tremaining: 20m 8s\n",
      "80:\tlearn: 0.8983859\ttest: 0.9511065\tbest: 0.9511065 (80)\ttotal: 1m 46s\tremaining: 20m 11s\n",
      "90:\tlearn: 0.8936663\ttest: 0.9487311\tbest: 0.9487311 (90)\ttotal: 2m\tremaining: 20m 7s\n",
      "100:\tlearn: 0.8899197\ttest: 0.9469616\tbest: 0.9469616 (100)\ttotal: 2m 15s\tremaining: 20m 3s\n",
      "110:\tlearn: 0.8866277\ttest: 0.9458608\tbest: 0.9458608 (110)\ttotal: 2m 29s\tremaining: 19m 58s\n",
      "120:\tlearn: 0.8840568\ttest: 0.9449047\tbest: 0.9449047 (120)\ttotal: 2m 44s\tremaining: 19m 53s\n",
      "130:\tlearn: 0.8817975\ttest: 0.9443853\tbest: 0.9443853 (130)\ttotal: 2m 58s\tremaining: 19m 43s\n",
      "140:\tlearn: 0.8797747\ttest: 0.9437307\tbest: 0.9437307 (140)\ttotal: 3m 13s\tremaining: 19m 38s\n",
      "150:\tlearn: 0.8779421\ttest: 0.9434696\tbest: 0.9434696 (150)\ttotal: 3m 27s\tremaining: 19m 24s\n",
      "160:\tlearn: 0.8763102\ttest: 0.9432772\tbest: 0.9432772 (160)\ttotal: 3m 41s\tremaining: 19m 13s\n",
      "170:\tlearn: 0.8745805\ttest: 0.9428364\tbest: 0.9428364 (170)\ttotal: 3m 56s\tremaining: 19m 6s\n",
      "180:\tlearn: 0.8730928\ttest: 0.9425802\tbest: 0.9425802 (180)\ttotal: 4m 11s\tremaining: 18m 57s\n",
      "190:\tlearn: 0.8716233\ttest: 0.9424298\tbest: 0.9423693 (189)\ttotal: 4m 24s\tremaining: 18m 42s\n",
      "200:\tlearn: 0.8703142\ttest: 0.9420724\tbest: 0.9420259 (197)\ttotal: 4m 39s\tremaining: 18m 30s\n",
      "210:\tlearn: 0.8690863\ttest: 0.9415296\tbest: 0.9415125 (208)\ttotal: 4m 52s\tremaining: 18m 15s\n",
      "220:\tlearn: 0.8678774\ttest: 0.9412267\tbest: 0.9412267 (220)\ttotal: 5m 6s\tremaining: 18m\n",
      "230:\tlearn: 0.8666217\ttest: 0.9410198\tbest: 0.9410198 (230)\ttotal: 5m 21s\tremaining: 17m 51s\n",
      "240:\tlearn: 0.8655440\ttest: 0.9406287\tbest: 0.9406287 (240)\ttotal: 5m 35s\tremaining: 17m 36s\n",
      "250:\tlearn: 0.8646498\ttest: 0.9403164\tbest: 0.9402609 (249)\ttotal: 5m 48s\tremaining: 17m 20s\n",
      "260:\tlearn: 0.8634387\ttest: 0.9399775\tbest: 0.9399775 (260)\ttotal: 6m 3s\tremaining: 17m 9s\n",
      "270:\tlearn: 0.8624938\ttest: 0.9396488\tbest: 0.9395933 (269)\ttotal: 6m 17s\tremaining: 16m 55s\n",
      "280:\tlearn: 0.8614620\ttest: 0.9396878\tbest: 0.9395255 (278)\ttotal: 6m 31s\tremaining: 16m 41s\n",
      "290:\tlearn: 0.8604626\ttest: 0.9394780\tbest: 0.9394780 (290)\ttotal: 6m 45s\tremaining: 16m 28s\n",
      "300:\tlearn: 0.8595114\ttest: 0.9390788\tbest: 0.9390788 (300)\ttotal: 6m 59s\tremaining: 16m 13s\n",
      "310:\tlearn: 0.8587884\ttest: 0.9389486\tbest: 0.9389486 (310)\ttotal: 7m 12s\tremaining: 15m 58s\n",
      "320:\tlearn: 0.8579135\ttest: 0.9388649\tbest: 0.9388649 (320)\ttotal: 7m 26s\tremaining: 15m 44s\n",
      "330:\tlearn: 0.8571759\ttest: 0.9386962\tbest: 0.9386903 (329)\ttotal: 7m 39s\tremaining: 15m 27s\n",
      "340:\tlearn: 0.8563782\ttest: 0.9384038\tbest: 0.9384038 (340)\ttotal: 7m 52s\tremaining: 15m 14s\n",
      "350:\tlearn: 0.8555043\ttest: 0.9382674\tbest: 0.9381816 (347)\ttotal: 8m 7s\tremaining: 15m 1s\n",
      "360:\tlearn: 0.8547719\ttest: 0.9381131\tbest: 0.9381131 (360)\ttotal: 8m 20s\tremaining: 14m 45s\n",
      "370:\tlearn: 0.8539412\ttest: 0.9379461\tbest: 0.9379461 (369)\ttotal: 8m 34s\tremaining: 14m 32s\n",
      "380:\tlearn: 0.8531826\ttest: 0.9378082\tbest: 0.9378082 (380)\ttotal: 8m 48s\tremaining: 14m 18s\n",
      "390:\tlearn: 0.8524043\ttest: 0.9377881\tbest: 0.9377074 (383)\ttotal: 9m 1s\tremaining: 14m 4s\n",
      "400:\tlearn: 0.8515576\ttest: 0.9374370\tbest: 0.9374245 (397)\ttotal: 9m 15s\tremaining: 13m 50s\n",
      "410:\tlearn: 0.8508587\ttest: 0.9372296\tbest: 0.9372025 (409)\ttotal: 9m 28s\tremaining: 13m 34s\n",
      "420:\tlearn: 0.8500707\ttest: 0.9370286\tbest: 0.9370111 (418)\ttotal: 9m 43s\tremaining: 13m 22s\n",
      "430:\tlearn: 0.8494594\ttest: 0.9370847\tbest: 0.9370111 (418)\ttotal: 9m 56s\tremaining: 13m 7s\n",
      "440:\tlearn: 0.8487908\ttest: 0.9369440\tbest: 0.9369440 (440)\ttotal: 10m 10s\tremaining: 12m 53s\n",
      "450:\tlearn: 0.8482216\ttest: 0.9369256\tbest: 0.9368361 (446)\ttotal: 10m 23s\tremaining: 12m 38s\n",
      "460:\tlearn: 0.8477031\ttest: 0.9369013\tbest: 0.9368361 (446)\ttotal: 10m 36s\tremaining: 12m 24s\n",
      "470:\tlearn: 0.8471593\ttest: 0.9367140\tbest: 0.9367140 (470)\ttotal: 10m 49s\tremaining: 12m 9s\n",
      "480:\tlearn: 0.8464759\ttest: 0.9364504\tbest: 0.9364491 (479)\ttotal: 11m 2s\tremaining: 11m 55s\n",
      "490:\tlearn: 0.8458989\ttest: 0.9370297\tbest: 0.9363116 (486)\ttotal: 11m 16s\tremaining: 11m 41s\n",
      "500:\tlearn: 0.8453652\ttest: 0.9370376\tbest: 0.9363116 (486)\ttotal: 11m 28s\tremaining: 11m 26s\n",
      "510:\tlearn: 0.8447881\ttest: 0.9366644\tbest: 0.9363116 (486)\ttotal: 11m 42s\tremaining: 11m 12s\n",
      "Stopped by overfitting detector  (25 iterations wait)\n",
      "\n",
      "bestTest = 0.9363115812\n",
      "bestIteration = 486\n",
      "\n",
      "Shrink model to first 487 iterations.\n"
     ]
    },
    {
     "data": {
      "image/png": "[encoded data removed]",
      "text/plain": [
       "<Figure size 1368x432 with 1 Axes>"
      ]
     },
     "metadata": {
      "needs_background": "light"
     },
     "output_type": "display_data"
    }
   ],
   "source": [
    "if True:\n",
    "    import catboost\n",
    "    from catboost import Pool\n",
    "    from catboost import CatBoostRegressor\n",
    "\n",
    "    #cat_features = [1, 2, 7, 8, 9]\n",
    "\n",
    "    catboost_model = CatBoostRegressor(\n",
    "        iterations=1000,\n",
    "        max_ctr_complexity=4,\n",
    "        #learning_rate = ,\n",
    "        #custom_loss = ,\n",
    "        random_seed=42,\n",
    "        od_type='Iter',\n",
    "        od_wait=25,\n",
    "        verbose=10,\n",
    "        depth=8 #,\n",
    "        #l2_leaf_reg = 1\n",
    "    )\n",
    "\n",
    "    catboost_model.fit(\n",
    "        X_train, y_train,\n",
    "        #cat_features=cat_features,\n",
    "        eval_set=(X_validation, y_validation)#,\n",
    "        #logging_level='Silent',\n",
    "        #plot=True\n",
    "    )\n",
    "\n",
    "    # Plot features importance\n",
    "    feature_score = pd.DataFrame(list(zip(X_train.dtypes.index, catboost_model.get_feature_importance(Pool(X_train, label=y_train)))), columns=['Feature','Score'])\n",
    "    feature_score = feature_score.sort_values(by='Score', ascending=False, inplace=False, kind='quicksort', na_position='last')\n",
    "\n",
    "    plt.rcParams[\"figure.figsize\"] = (19, 6)\n",
    "    ax = feature_score.plot('Feature', 'Score', kind='bar', color='c')\n",
    "    ax.set_title(\"Catboost Feature Importance Ranking\", fontsize = 14)\n",
    "    ax.set_xlabel('')\n",
    "    rects = ax.patches\n",
    "    labels = feature_score['Score'].round(2)\n",
    "\n",
    "    for rect, label in zip(rects, labels):\n",
    "        height = rect.get_height()\n",
    "        ax.text(rect.get_x() + rect.get_width()/2, height + 0.35, label, ha='center', va='bottom')\n",
    "\n",
    "    plt.show()\n",
    "\n",
    "    # Serialize model\n",
    "    from joblib import dump, load\n",
    "    dump(catboost_model, 'catboost_model.joblib')\n",
    "    "
   ]
  },
  {
   "cell_type": "code",
   "execution_count": 104,
   "metadata": {},
   "outputs": [
    {
     "name": "stdout",
     "output_type": "stream",
     "text": [
      "Train rmse: 0.846166639452477\n",
      "Validation rmse: 0.936311581200749\n"
     ]
    }
   ],
   "source": [
    "if True:\n",
    "    catboost_model = load('catboost_model.joblib') \n",
    "    \n",
    "    # Preds\n",
    "    catboost_train_pred = catboost_model.predict(X_train)\n",
    "    catboost_val_pred = catboost_model.predict(X_validation)\n",
    "    catboost_test_pred = catboost_model.predict(X_test)\n",
    "\n",
    "    pickle.dump(catboost_val_pred, open('catboost_val_pred.pickle', 'wb'))\n",
    "    pickle.dump(catboost_test_pred, open('catboost_test_pred.pickle', 'wb'))\n",
    "\n",
    "    print('Train rmse:', np.sqrt(mean_squared_error(y_train, catboost_train_pred)))\n",
    "    print('Validation rmse:', np.sqrt(mean_squared_error(y_validation, catboost_val_pred)))"
   ]
  },
  {
   "cell_type": "markdown",
   "metadata": {},
   "source": [
    "### Random Forest Regressor"
   ]
  },
  {
   "cell_type": "code",
   "execution_count": 105,
   "metadata": {},
   "outputs": [
    {
     "name": "stderr",
     "output_type": "stream",
     "text": [
      "[Parallel(n_jobs=-1)]: Using backend ThreadingBackend with 8 concurrent workers.\n",
      "[Parallel(n_jobs=-1)]: Done  34 tasks      | elapsed: 15.3min\n",
      "[Parallel(n_jobs=-1)]: Done  60 out of  60 | elapsed: 23.2min finished\n"
     ]
    }
   ],
   "source": [
    "if True:\n",
    "    from sklearn.ensemble import RandomForestRegressor\n",
    "\n",
    "    rf_model = RandomForestRegressor(n_estimators=60,\n",
    "                                     max_depth=8,\n",
    "                                     verbose=1,\n",
    "                                     n_jobs=-1\n",
    "                                    )\n",
    "\n",
    "    rf_model.fit(X_train, y_train)\n",
    "    \n",
    "    # Serialize model\n",
    "    from joblib import dump, load\n",
    "    dump(rf_model, 'rf_model.joblib')\n"
   ]
  },
  {
   "cell_type": "code",
   "execution_count": 106,
   "metadata": {},
   "outputs": [
    {
     "name": "stderr",
     "output_type": "stream",
     "text": [
      "[Parallel(n_jobs=8)]: Using backend ThreadingBackend with 8 concurrent workers.\n",
      "[Parallel(n_jobs=8)]: Done  34 tasks      | elapsed:    3.3s\n",
      "[Parallel(n_jobs=8)]: Done  60 out of  60 | elapsed:    5.5s finished\n",
      "[Parallel(n_jobs=8)]: Using backend ThreadingBackend with 8 concurrent workers.\n",
      "[Parallel(n_jobs=8)]: Done  34 tasks      | elapsed:    0.0s\n",
      "[Parallel(n_jobs=8)]: Done  60 out of  60 | elapsed:    0.1s finished\n",
      "[Parallel(n_jobs=8)]: Using backend ThreadingBackend with 8 concurrent workers.\n",
      "[Parallel(n_jobs=8)]: Done  34 tasks      | elapsed:    0.0s\n"
     ]
    },
    {
     "name": "stdout",
     "output_type": "stream",
     "text": [
      "Train rmse: 0.8868044718973028\n",
      "Validation rmse: 0.949670437439077\n"
     ]
    },
    {
     "name": "stderr",
     "output_type": "stream",
     "text": [
      "[Parallel(n_jobs=8)]: Done  60 out of  60 | elapsed:    0.1s finished\n"
     ]
    }
   ],
   "source": [
    "if True:\n",
    "    rf_model = load('rf_model.joblib') \n",
    "    \n",
    "    # Preds\n",
    "    rf_train_pred = rf_model.predict(X_train)\n",
    "    rf_val_pred = rf_model.predict(X_validation)\n",
    "    rf_test_pred = rf_model.predict(X_test)\n",
    "    \n",
    "    pickle.dump(rf_val_pred, open('rf_val_pred.pickle', 'wb'))\n",
    "    pickle.dump(rf_test_pred, open('rf_test_pred.pickle', 'wb'))\n",
    "\n",
    "    print('Train rmse:', np.sqrt(mean_squared_error(y_train, rf_train_pred)))\n",
    "    print('Validation rmse:', np.sqrt(mean_squared_error(y_validation, rf_val_pred)))"
   ]
  },
  {
   "cell_type": "markdown",
   "metadata": {},
   "source": [
    "### Normalize inputs"
   ]
  },
  {
   "cell_type": "code",
   "execution_count": 107,
   "metadata": {},
   "outputs": [],
   "source": [
    "from sklearn.preprocessing import MinMaxScaler\n",
    "from sklearn.preprocessing import StandardScaler\n",
    "from sklearn.preprocessing import RobustScaler\n",
    "\n",
    "#scaler = MinMaxScaler()\n",
    "#scaler = StandardScaler()\n",
    "scaler = RobustScaler()\n",
    "X_train_scaled = scaler.fit_transform(X_train)\n",
    "X_validation_scaled = scaler.fit_transform(X_validation)\n",
    "X_test_scaled = scaler.fit_transform(X_test)"
   ]
  },
  {
   "cell_type": "markdown",
   "metadata": {},
   "source": [
    "### Linear Regression"
   ]
  },
  {
   "cell_type": "code",
   "execution_count": 108,
   "metadata": {},
   "outputs": [],
   "source": [
    "if False:\n",
    "    from sklearn.linear_model import LinearRegression\n",
    "\n",
    "    lr_model = LinearRegression()\n",
    "\n",
    "    lr_model.fit(X_train_scaled, y_train)\n",
    "\n",
    "    lr_train_pred = lr_model.predict(X_train_scaled)\n",
    "    lr_val_pred = lr_model.predict(X_validation_scaled)\n",
    "    lr_test_pred = lr_model.predict(X_test_scaled)\n",
    "\n",
    "    print('Train rmse:', np.sqrt(mean_squared_error(y_train, lr_train_pred)))\n",
    "    print('Validation rmse:', np.sqrt(mean_squared_error(y_validation, lr_val_pred)))"
   ]
  },
  {
   "cell_type": "markdown",
   "metadata": {},
   "source": [
    "### KNN model"
   ]
  },
  {
   "cell_type": "code",
   "execution_count": 109,
   "metadata": {},
   "outputs": [],
   "source": [
    "if False:\n",
    "    from sklearn.neighbors import KNeighborsRegressor\n",
    "\n",
    "    knn_model = KNeighborsRegressor(n_neighbors = 5, n_jobs=-1)\n",
    "\n",
    "    knn_model.fit(X_train_scaled[0:1000000], y_train[0:1000000])\n",
    "\n",
    "    knn_train_pred = knn_model.predict(X_train_scaled)\n",
    "    knn_val_pred = knn_model.predict(X_validation_scaled)\n",
    "    knn_test_pred = knn_model.predict(X_test_scaled)\n",
    "\n",
    "    print('Train rmse:', np.sqrt(mean_squared_error(y_train, knn_train_pred)))\n",
    "    print('Validation rmse:', np.sqrt(mean_squared_error(y_validation, knn_val_pred)))"
   ]
  },
  {
   "cell_type": "markdown",
   "metadata": {},
   "source": [
    "### SVR Model"
   ]
  },
  {
   "cell_type": "code",
   "execution_count": 110,
   "metadata": {},
   "outputs": [],
   "source": [
    "if False:\n",
    "    from sklearn.svm import SVR\n",
    "\n",
    "    svr_model = SVR()\n",
    "\n",
    "    svr_model.fit(X_train_scaled, y_train)\n",
    "\n",
    "    svr_train_pred = svr_model.predict(X_train_scaled)\n",
    "    svr_val_pred = svr_model.predict(X_validation_scaled)\n",
    "    svr_test_pred = svr_model.predict(X_test_scaled)\n",
    "\n",
    "    print('Train rmse:', np.sqrt(mean_squared_error(y_train, svr_train_pred)))\n",
    "    print('Validation rmse:', np.sqrt(mean_squared_error(y_validation, svr_val_pred)))"
   ]
  },
  {
   "cell_type": "markdown",
   "metadata": {},
   "source": [
    "### MLP model"
   ]
  },
  {
   "cell_type": "code",
   "execution_count": 111,
   "metadata": {},
   "outputs": [],
   "source": [
    "if False:\n",
    "    import keras\n",
    "    from keras.models import Sequential\n",
    "    from keras.layers import Dense, Activation, Dropout\n",
    "    from keras.layers import regularizers\n",
    "    from keras.layers.advanced_activations import LeakyReLU\n",
    "\n",
    "    es = keras.callbacks.EarlyStopping(monitor='val_loss',\n",
    "                                  min_delta=0,\n",
    "                                  patience=2,\n",
    "                                  verbose=0, mode='auto')\n",
    "\n",
    "    mlp_model = Sequential([\n",
    "        Dense(128, input_shape=(X_train_scaled.shape[1],)),\n",
    "       Activation('relu'),\n",
    "        Dropout(0.25),\n",
    "        Dense(64,  kernel_regularizer=regularizers.l2(0.2)),\n",
    "        Activation('relu'),\n",
    "        Dropout(0.25),\n",
    "        Dense(32, kernel_regularizer=regularizers.l2(0.2)),\n",
    "        Activation('relu'),\n",
    "        Dropout(0.25),\n",
    "        Dense(16, kernel_regularizer=regularizers.l2(0.2)),\n",
    "        Activation('relu'),\n",
    "        Dropout(0.25),\n",
    "        Dense(8, kernel_regularizer=regularizers.l2(0.2)),\n",
    "        Activation('relu'),\n",
    "        Dense(1)\n",
    "    ])\n",
    "\n",
    "    mlp_model.compile(optimizer='rmsprop',\n",
    "                  loss='mse')\n",
    "\n",
    "    mlp_model.fit(X_train_scaled, y_train, epochs=8, batch_size=64,verbose=1, callbacks= [es],\n",
    "                validation_data=(X_validation_scaled,y_validation))\n",
    "\n",
    "    mlp_train_pred = mlp_model.predict(X_train_scaled)\n",
    "    mlp_val_pred = mlp_model.predict(X_validation_scaled)\n",
    "    mlp_test_pred = mlp_model.predict(X_test_scaled)\n",
    "\n",
    "    print('Train rmse:', np.sqrt(mean_squared_error(y_train, mlp_train_pred)))\n",
    "    print('Validation rmse:', np.sqrt(mean_squared_error(y_validation, mlp_val_pred)))"
   ]
  },
  {
   "cell_type": "markdown",
   "metadata": {},
   "source": [
    "### LSTM model"
   ]
  },
  {
   "cell_type": "code",
   "execution_count": 112,
   "metadata": {},
   "outputs": [],
   "source": [
    "if False:\n",
    "    import keras\n",
    "    from keras.models import Sequential\n",
    "    from keras.layers import Dense, Dropout\n",
    "    from keras.layers import LSTM\n",
    "    from keras.layers import regularizers\n",
    "\n",
    "    X_train_lstm = np.expand_dims(X_train_scaled, axis=2)\n",
    "    y_train_lstm = y_train\n",
    "    X_validation_lstm = np.expand_dims(X_validation_scaled, axis=2)\n",
    "    y_validation_lstm = y_validation\n",
    "    X_test_lstm = np.expand_dims(X_test_scaled, axis=2)\n",
    "\n",
    "    print(X_train_lstm.shape, y_train_lstm.shape, X_validation.shape, y_validation.shape, X_test_lstm.shape)\n",
    "\n",
    "    lstm_model = Sequential()\n",
    "    lstm_model.add(LSTM(units=64, input_shape=(X_train_lstm.shape[1],1), kernel_regularizer=regularizers.l2(0.25)))\n",
    "    lstm_model.add(Dropout(0.25))\n",
    "    lstm_model.add(Dense(1))\n",
    "\n",
    "    lstm_model.compile(loss='mse',\n",
    "                  optimizer='adam',\n",
    "                  metrics=['mean_squared_error'])\n",
    "    lstm_model.summary()\n",
    "\n",
    "    es = keras.callbacks.EarlyStopping(monitor='val_loss',\n",
    "                                  min_delta=0,\n",
    "                                  patience=2,\n",
    "                                  verbose=0, mode='auto')\n",
    "\n",
    "    lstm_model.fit(X_train_lstm, y_train_lstm, batch_size=4096, epochs=2, verbose=1, callbacks= [es], validation_data=(X_validation_lstm,y_validation_lstm) )\n",
    "\n",
    "    lstm_train_pred = lstm_model.predict(X_train_lstm)\n",
    "    lstm_val_pred = lstm_model.predict(X_validation_lstm)\n",
    "    lstm_test_pred = lstm_model.predict(X_test_lstm)\n",
    "\n",
    "    print('Train rmse:', np.sqrt(mean_squared_error(y_train, lstm_train_pred)))\n",
    "    print('Validation rmse:', np.sqrt(mean_squared_error(y_validation, lstm_val_pred)))"
   ]
  },
  {
   "cell_type": "markdown",
   "metadata": {},
   "source": [
    "### Ensembling"
   ]
  },
  {
   "cell_type": "code",
   "execution_count": 113,
   "metadata": {},
   "outputs": [],
   "source": [
    "catboost_val_pred = pickle.load(open( 'catboost_val_pred.pickle', \"rb\" ))\n",
    "xgb_val_pred = pickle.load(open( 'xgb_val_pred.pickle', \"rb\" ))\n",
    "rf_val_pred = pickle.load(open( 'rf_val_pred.pickle', \"rb\" ))\n",
    "catboost_test_pred = pickle.load(open( 'catboost_test_pred.pickle', \"rb\" ))\n",
    "xgb_test_pred = pickle.load(open( 'xgb_test_pred.pickle', \"rb\" ))\n",
    "rf_test_pred = pickle.load(open( 'rf_test_pred.pickle', \"rb\" ))"
   ]
  },
  {
   "cell_type": "code",
   "execution_count": 114,
   "metadata": {},
   "outputs": [],
   "source": [
    "ensemble_validation = pd.DataFrame()\n",
    "ensemble_validation['CatBoost'] = catboost_val_pred\n",
    "ensemble_validation['XGBoost'] = xgb_val_pred\n",
    "ensemble_validation['RandomForest'] = rf_val_pred\n",
    "#ensemble_validation['LinearRegression'] = lr_val_pred\n",
    "#ensemble_validation['MLP'] = mlp_val_pred\n",
    "#ensemble_validation['LSTM'] = lstm_val_pred"
   ]
  },
  {
   "cell_type": "code",
   "execution_count": 115,
   "metadata": {},
   "outputs": [],
   "source": [
    "ensemble_test = pd.DataFrame()\n",
    "ensemble_test['CatBoost'] = catboost_test_pred\n",
    "ensemble_test['XGBoost'] = xgb_test_pred\n",
    "ensemble_test['RandomForest'] = rf_test_pred\n",
    "#ensemble_test['LinearRegression'] = lr_test_pred\n",
    "#ensemble_test['MLP'] = mlp_test_pred\n",
    "#ensemble_test['LSTM'] = lstm_test_pred"
   ]
  },
  {
   "cell_type": "code",
   "execution_count": 116,
   "metadata": {},
   "outputs": [
    {
     "name": "stdout",
     "output_type": "stream",
     "text": [
      "Ensemble validation rmse: 0.9325213931505593\n"
     ]
    }
   ],
   "source": [
    "from sklearn.linear_model import LinearRegression\n",
    "\n",
    "ensemble_lr_model = LinearRegression()\n",
    "ensemble_lr_model.fit(ensemble_validation, y_validation)\n",
    "\n",
    "ensemble_validation_pred = ensemble_lr_model.predict(ensemble_validation)\n",
    "ensemble_test_pred = ensemble_lr_model.predict(ensemble_test)\n",
    "\n",
    "print('Ensemble validation rmse:', np.sqrt(mean_squared_error(y_validation, ensemble_validation_pred)))"
   ]
  },
  {
   "cell_type": "markdown",
   "metadata": {},
   "source": [
    "### Create the submission file"
   ]
  },
  {
   "cell_type": "code",
   "execution_count": 117,
   "metadata": {},
   "outputs": [
    {
     "name": "stdout",
     "output_type": "stream",
     "text": [
      "shop_id              31.642857\n",
      "item_id           11019.398627\n",
      "item_cnt_month        0.284471\n",
      "dtype: float64\n"
     ]
    },
    {
     "data": {
      "text/html": [
       "<div>\n",
       "<style scoped>\n",
       "    .dataframe tbody tr th:only-of-type {\n",
       "        vertical-align: middle;\n",
       "    }\n",
       "\n",
       "    .dataframe tbody tr th {\n",
       "        vertical-align: top;\n",
       "    }\n",
       "\n",
       "    .dataframe thead th {\n",
       "        text-align: right;\n",
       "    }\n",
       "</style>\n",
       "<table border=\"1\" class=\"dataframe\">\n",
       "  <thead>\n",
       "    <tr style=\"text-align: right;\">\n",
       "      <th></th>\n",
       "      <th>shop_id</th>\n",
       "      <th>item_id</th>\n",
       "      <th>item_cnt_month</th>\n",
       "    </tr>\n",
       "  </thead>\n",
       "  <tbody>\n",
       "    <tr>\n",
       "      <th>0</th>\n",
       "      <td>5</td>\n",
       "      <td>5037</td>\n",
       "      <td>0.515891</td>\n",
       "    </tr>\n",
       "    <tr>\n",
       "      <th>1</th>\n",
       "      <td>5</td>\n",
       "      <td>5320</td>\n",
       "      <td>0.153548</td>\n",
       "    </tr>\n",
       "    <tr>\n",
       "      <th>2</th>\n",
       "      <td>5</td>\n",
       "      <td>5233</td>\n",
       "      <td>0.958344</td>\n",
       "    </tr>\n",
       "    <tr>\n",
       "      <th>3</th>\n",
       "      <td>5</td>\n",
       "      <td>5232</td>\n",
       "      <td>0.369476</td>\n",
       "    </tr>\n",
       "    <tr>\n",
       "      <th>4</th>\n",
       "      <td>5</td>\n",
       "      <td>5268</td>\n",
       "      <td>1.056364</td>\n",
       "    </tr>\n",
       "    <tr>\n",
       "      <th>5</th>\n",
       "      <td>5</td>\n",
       "      <td>5039</td>\n",
       "      <td>0.601709</td>\n",
       "    </tr>\n",
       "    <tr>\n",
       "      <th>6</th>\n",
       "      <td>5</td>\n",
       "      <td>5041</td>\n",
       "      <td>0.756502</td>\n",
       "    </tr>\n",
       "    <tr>\n",
       "      <th>7</th>\n",
       "      <td>5</td>\n",
       "      <td>5046</td>\n",
       "      <td>0.114527</td>\n",
       "    </tr>\n",
       "    <tr>\n",
       "      <th>8</th>\n",
       "      <td>5</td>\n",
       "      <td>5319</td>\n",
       "      <td>0.897483</td>\n",
       "    </tr>\n",
       "    <tr>\n",
       "      <th>9</th>\n",
       "      <td>5</td>\n",
       "      <td>5003</td>\n",
       "      <td>0.686139</td>\n",
       "    </tr>\n",
       "  </tbody>\n",
       "</table>\n",
       "</div>"
      ],
      "text/plain": [
       "   shop_id  item_id  item_cnt_month\n",
       "0        5     5037        0.515891\n",
       "1        5     5320        0.153548\n",
       "2        5     5233        0.958344\n",
       "3        5     5232        0.369476\n",
       "4        5     5268        1.056364\n",
       "5        5     5039        0.601709\n",
       "6        5     5041        0.756502\n",
       "7        5     5046        0.114527\n",
       "8        5     5319        0.897483\n",
       "9        5     5003        0.686139"
      ]
     },
     "execution_count": 117,
     "metadata": {},
     "output_type": "execute_result"
    }
   ],
   "source": [
    "final_predictions = pd.DataFrame(X_test['shop_id'], columns=['shop_id'])\n",
    "final_predictions['item_id'] = X_test['item_id']\n",
    "\n",
    "final_predictions['item_cnt_month'] = ensemble_test_pred.clip(0., 20.)\n",
    "#final_predictions['item_cnt_month'] = catboost_test_pred.clip(0., 20.)\n",
    "#final_predictions['item_cnt_month'] = xgb_test_pred.clip(0., 20.)\n",
    "\n",
    "print(final_predictions.mean())\n",
    "final_predictions.head(10)"
   ]
  },
  {
   "cell_type": "code",
   "execution_count": 118,
   "metadata": {},
   "outputs": [
    {
     "data": {
      "text/html": [
       "<div>\n",
       "<style scoped>\n",
       "    .dataframe tbody tr th:only-of-type {\n",
       "        vertical-align: middle;\n",
       "    }\n",
       "\n",
       "    .dataframe tbody tr th {\n",
       "        vertical-align: top;\n",
       "    }\n",
       "\n",
       "    .dataframe thead th {\n",
       "        text-align: right;\n",
       "    }\n",
       "</style>\n",
       "<table border=\"1\" class=\"dataframe\">\n",
       "  <thead>\n",
       "    <tr style=\"text-align: right;\">\n",
       "      <th></th>\n",
       "      <th>shop_id</th>\n",
       "      <th>item_id</th>\n",
       "      <th>date_block_num</th>\n",
       "      <th>item_cnt_month</th>\n",
       "      <th>ID</th>\n",
       "    </tr>\n",
       "  </thead>\n",
       "  <tbody>\n",
       "    <tr>\n",
       "      <th>0</th>\n",
       "      <td>5</td>\n",
       "      <td>5037</td>\n",
       "      <td>34</td>\n",
       "      <td>0.515891</td>\n",
       "      <td>0</td>\n",
       "    </tr>\n",
       "    <tr>\n",
       "      <th>1</th>\n",
       "      <td>5</td>\n",
       "      <td>5320</td>\n",
       "      <td>34</td>\n",
       "      <td>0.153548</td>\n",
       "      <td>1</td>\n",
       "    </tr>\n",
       "    <tr>\n",
       "      <th>2</th>\n",
       "      <td>5</td>\n",
       "      <td>5233</td>\n",
       "      <td>34</td>\n",
       "      <td>0.958344</td>\n",
       "      <td>2</td>\n",
       "    </tr>\n",
       "    <tr>\n",
       "      <th>3</th>\n",
       "      <td>5</td>\n",
       "      <td>5232</td>\n",
       "      <td>34</td>\n",
       "      <td>0.369476</td>\n",
       "      <td>3</td>\n",
       "    </tr>\n",
       "    <tr>\n",
       "      <th>4</th>\n",
       "      <td>5</td>\n",
       "      <td>5268</td>\n",
       "      <td>34</td>\n",
       "      <td>1.056364</td>\n",
       "      <td>4</td>\n",
       "    </tr>\n",
       "    <tr>\n",
       "      <th>5</th>\n",
       "      <td>5</td>\n",
       "      <td>5039</td>\n",
       "      <td>34</td>\n",
       "      <td>0.601709</td>\n",
       "      <td>5</td>\n",
       "    </tr>\n",
       "    <tr>\n",
       "      <th>6</th>\n",
       "      <td>5</td>\n",
       "      <td>5041</td>\n",
       "      <td>34</td>\n",
       "      <td>0.756502</td>\n",
       "      <td>6</td>\n",
       "    </tr>\n",
       "    <tr>\n",
       "      <th>7</th>\n",
       "      <td>5</td>\n",
       "      <td>5046</td>\n",
       "      <td>34</td>\n",
       "      <td>0.114527</td>\n",
       "      <td>7</td>\n",
       "    </tr>\n",
       "    <tr>\n",
       "      <th>8</th>\n",
       "      <td>5</td>\n",
       "      <td>5319</td>\n",
       "      <td>34</td>\n",
       "      <td>0.897483</td>\n",
       "      <td>8</td>\n",
       "    </tr>\n",
       "    <tr>\n",
       "      <th>9</th>\n",
       "      <td>5</td>\n",
       "      <td>5003</td>\n",
       "      <td>34</td>\n",
       "      <td>0.686139</td>\n",
       "      <td>9</td>\n",
       "    </tr>\n",
       "  </tbody>\n",
       "</table>\n",
       "</div>"
      ],
      "text/plain": [
       "   shop_id  item_id  date_block_num  item_cnt_month  ID\n",
       "0        5     5037              34        0.515891   0\n",
       "1        5     5320              34        0.153548   1\n",
       "2        5     5233              34        0.958344   2\n",
       "3        5     5232              34        0.369476   3\n",
       "4        5     5268              34        1.056364   4\n",
       "5        5     5039              34        0.601709   5\n",
       "6        5     5041              34        0.756502   6\n",
       "7        5     5046              34        0.114527   7\n",
       "8        5     5319              34        0.897483   8\n",
       "9        5     5003              34        0.686139   9"
      ]
     },
     "execution_count": 118,
     "metadata": {},
     "output_type": "execute_result"
    }
   ],
   "source": [
    "submissions = pd.merge(test_set, final_predictions, on=['shop_id', 'item_id'], how='left')\n",
    "submissions['ID'] = test_set.index\n",
    "submissions.head(10)"
   ]
  },
  {
   "cell_type": "code",
   "execution_count": 119,
   "metadata": {},
   "outputs": [
    {
     "data": {
      "text/html": [
       "<div>\n",
       "<style scoped>\n",
       "    .dataframe tbody tr th:only-of-type {\n",
       "        vertical-align: middle;\n",
       "    }\n",
       "\n",
       "    .dataframe tbody tr th {\n",
       "        vertical-align: top;\n",
       "    }\n",
       "\n",
       "    .dataframe thead th {\n",
       "        text-align: right;\n",
       "    }\n",
       "</style>\n",
       "<table border=\"1\" class=\"dataframe\">\n",
       "  <thead>\n",
       "    <tr style=\"text-align: right;\">\n",
       "      <th></th>\n",
       "      <th>ID</th>\n",
       "      <th>item_cnt_month</th>\n",
       "    </tr>\n",
       "  </thead>\n",
       "  <tbody>\n",
       "    <tr>\n",
       "      <th>0</th>\n",
       "      <td>0</td>\n",
       "      <td>0.515891</td>\n",
       "    </tr>\n",
       "    <tr>\n",
       "      <th>1</th>\n",
       "      <td>1</td>\n",
       "      <td>0.153548</td>\n",
       "    </tr>\n",
       "    <tr>\n",
       "      <th>2</th>\n",
       "      <td>2</td>\n",
       "      <td>0.958344</td>\n",
       "    </tr>\n",
       "    <tr>\n",
       "      <th>3</th>\n",
       "      <td>3</td>\n",
       "      <td>0.369476</td>\n",
       "    </tr>\n",
       "    <tr>\n",
       "      <th>4</th>\n",
       "      <td>4</td>\n",
       "      <td>1.056364</td>\n",
       "    </tr>\n",
       "    <tr>\n",
       "      <th>5</th>\n",
       "      <td>5</td>\n",
       "      <td>0.601709</td>\n",
       "    </tr>\n",
       "    <tr>\n",
       "      <th>6</th>\n",
       "      <td>6</td>\n",
       "      <td>0.756502</td>\n",
       "    </tr>\n",
       "    <tr>\n",
       "      <th>7</th>\n",
       "      <td>7</td>\n",
       "      <td>0.114527</td>\n",
       "    </tr>\n",
       "    <tr>\n",
       "      <th>8</th>\n",
       "      <td>8</td>\n",
       "      <td>0.897483</td>\n",
       "    </tr>\n",
       "    <tr>\n",
       "      <th>9</th>\n",
       "      <td>9</td>\n",
       "      <td>0.686139</td>\n",
       "    </tr>\n",
       "  </tbody>\n",
       "</table>\n",
       "</div>"
      ],
      "text/plain": [
       "   ID  item_cnt_month\n",
       "0   0        0.515891\n",
       "1   1        0.153548\n",
       "2   2        0.958344\n",
       "3   3        0.369476\n",
       "4   4        1.056364\n",
       "5   5        0.601709\n",
       "6   6        0.756502\n",
       "7   7        0.114527\n",
       "8   8        0.897483\n",
       "9   9        0.686139"
      ]
     },
     "execution_count": 119,
     "metadata": {},
     "output_type": "execute_result"
    }
   ],
   "source": [
    "#submissions.fillna(submissions['item_cnt_month'].mean(), inplace=True)\n",
    "#submissions.drop(['shop_id', 'item_id', 'date_block_num'], axis=1, inplace=True)\n",
    "submissions = submissions[['ID', 'item_cnt_month']]\n",
    "submissions.head(10)"
   ]
  },
  {
   "cell_type": "code",
   "execution_count": 120,
   "metadata": {},
   "outputs": [
    {
     "data": {
      "text/plain": [
       "(214200, 2)"
      ]
     },
     "execution_count": 120,
     "metadata": {},
     "output_type": "execute_result"
    }
   ],
   "source": [
    "submissions.shape"
   ]
  },
  {
   "cell_type": "code",
   "execution_count": 121,
   "metadata": {},
   "outputs": [
    {
     "data": {
      "text/plain": [
       "ID                0\n",
       "item_cnt_month    0\n",
       "dtype: int64"
      ]
     },
     "execution_count": 121,
     "metadata": {},
     "output_type": "execute_result"
    }
   ],
   "source": [
    "submissions.isna().sum()"
   ]
  },
  {
   "cell_type": "code",
   "execution_count": 122,
   "metadata": {},
   "outputs": [],
   "source": [
    "#submissions = submissions.round()\n",
    "#submissions.astype('int')"
   ]
  },
  {
   "cell_type": "code",
   "execution_count": 123,
   "metadata": {},
   "outputs": [],
   "source": [
    "submissions.to_csv('submission.csv', index=False)"
   ]
  },
  {
   "cell_type": "markdown",
   "metadata": {},
   "source": [
    "### Results exploration"
   ]
  },
  {
   "cell_type": "code",
   "execution_count": 124,
   "metadata": {},
   "outputs": [
    {
     "data": {
      "text/plain": [
       "60933.62510097401"
      ]
     },
     "execution_count": 124,
     "metadata": {},
     "output_type": "execute_result"
    }
   ],
   "source": [
    "np.sum(final_predictions['item_cnt_month'])\n"
   ]
  },
  {
   "cell_type": "code",
   "execution_count": 125,
   "metadata": {},
   "outputs": [
    {
     "data": {
      "text/plain": [
       "60933.62510097401"
      ]
     },
     "execution_count": 125,
     "metadata": {},
     "output_type": "execute_result"
    }
   ],
   "source": [
    "np.sum(submissions['item_cnt_month'])"
   ]
  },
  {
   "cell_type": "code",
   "execution_count": 126,
   "metadata": {},
   "outputs": [
    {
     "data": {
      "text/plain": [
       "count    214200.000000\n",
       "mean          0.284471\n",
       "std           0.686144\n",
       "min           0.000000\n",
       "25%           0.046936\n",
       "50%           0.123860\n",
       "75%           0.278137\n",
       "max          19.095356\n",
       "Name: item_cnt_month, dtype: float64"
      ]
     },
     "execution_count": 126,
     "metadata": {},
     "output_type": "execute_result"
    }
   ],
   "source": [
    "final_predictions['item_cnt_month'].describe()"
   ]
  },
  {
   "cell_type": "code",
   "execution_count": 131,
   "metadata": {},
   "outputs": [
    {
     "data": {
      "image/png": "[encoded data removed]",
      "text/plain": [
       "<Figure size 1368x432 with 1 Axes>"
      ]
     },
     "metadata": {
      "needs_background": "light"
     },
     "output_type": "display_data"
    }
   ],
   "source": [
    "n = plt.hist(submissions['item_cnt_month'], bins=50)"
   ]
  },
  {
   "cell_type": "code",
   "execution_count": 128,
   "metadata": {},
   "outputs": [
    {
     "name": "stdout",
     "output_type": "stream",
     "text": [
      "[ 94.58450047  98.34687208  99.15919701  99.47712418  99.64612512\n",
      "  99.74509804  99.80578898  99.84080299  99.87161531  99.89589169\n",
      "  99.91596639  99.93137255  99.94211018  99.94911298  99.95938375\n",
      "  99.96825397  99.97245565  99.97712418  99.99206349 100.        ]\n",
      "[ 0.          0.95476781  1.90953561  2.86430342  3.81907122  4.77383903\n",
      "  5.72860684  6.68337464  7.63814245  8.59291025  9.54767806 10.50244586\n",
      " 11.45721367 12.41198148 13.36674928 14.32151709 15.27628489 16.2310527\n",
      " 17.18582051 18.14058831 19.09535612]\n"
     ]
    }
   ],
   "source": [
    "print(np.cumsum(n[0]/submissions['item_cnt_month'].shape[0] * 100))\n",
    "print(n[1])"
   ]
  },
  {
   "cell_type": "code",
   "execution_count": 130,
   "metadata": {},
   "outputs": [
    {
     "data": {
      "image/png": "[encoded data removed]",
      "text/plain": [
       "<Figure size 1368x432 with 1 Axes>"
      ]
     },
     "metadata": {
      "needs_background": "light"
     },
     "output_type": "display_data"
    }
   ],
   "source": [
    "n = plt.hist(full_set['item_cnt_month'].clip(0,20), bins=50)"
   ]
  },
  {
   "cell_type": "code",
   "execution_count": 132,
   "metadata": {},
   "outputs": [
    {
     "name": "stdout",
     "output_type": "stream",
     "text": [
      "[1.59666332 1.78406351 1.84844939 1.88308405 1.89804975 1.90582543\n",
      " 1.91146573 1.91533105 1.91788089 1.9198631  1.92134976 1.92260216\n",
      " 1.92358426 1.92442219 1.92503488 1.92551241 1.92598093 1.92638639\n",
      " 1.92667471 1.92688194 1.92713422 1.92743155 1.92755769 1.92775592\n",
      " 1.92794513 1.92812533 1.92822444 1.92842266 1.92853979 1.92862989\n",
      " 1.92870197 1.92883712 1.92886415 1.92893623 1.92897227 1.92902633\n",
      " 1.92910742 1.9291795  1.92925158 1.92934169 1.9293507  1.92939575\n",
      " 1.92942278 1.92945882 1.92951288 1.92955793 1.92969308 1.92986427\n",
      " 1.92990031 1.92995437]\n",
      "[ 0.          0.38190712  0.76381424  1.14572137  1.52762849  1.90953561\n",
      "  2.29144273  2.67334986  3.05525698  3.4371641   3.81907122  4.20097835\n",
      "  4.58288547  4.96479259  5.34669971  5.72860684  6.11051396  6.49242108\n",
      "  6.8743282   7.25623532  7.63814245  8.02004957  8.40195669  8.78386381\n",
      "  9.16577094  9.54767806  9.92958518 10.3114923  10.69339943 11.07530655\n",
      " 11.45721367 11.83912079 12.22102791 12.60293504 12.98484216 13.36674928\n",
      " 13.7486564  14.13056353 14.51247065 14.89437777 15.27628489 15.65819202\n",
      " 16.04009914 16.42200626 16.80391338 17.18582051 17.56772763 17.94963475\n",
      " 18.33154187 18.71344899 19.09535612]\n"
     ]
    }
   ],
   "source": [
    "print(np.cumsum(n[0]/full_set['item_cnt_month'].shape[0] * 100))\n",
    "print(n[1])"
   ]
  },
  {
   "cell_type": "code",
   "execution_count": 135,
   "metadata": {},
   "outputs": [
    {
     "name": "stdout",
     "output_type": "stream",
     "text": [
      "69330.0584500303\n",
      "66036.305\n",
      "57586.82360384286\n",
      "60896.42243213765\n"
     ]
    }
   ],
   "source": [
    "print(np.sum(catboost_test_pred))\n",
    "print(np.sum(xgb_test_pred))\n",
    "print(np.sum(rf_test_pred))\n",
    "#print(np.sum(lr_test_pred))\n",
    "#print(np.sum(mlp_test_pred))\n",
    "#print(np.sum(lstm_test_pred))\n",
    "print(np.sum(ensemble_test_pred))"
   ]
  },
  {
   "cell_type": "markdown",
   "metadata": {},
   "source": [
    "### TESTS"
   ]
  },
  {
   "cell_type": "code",
   "execution_count": null,
   "metadata": {},
   "outputs": [],
   "source": []
  },
  {
   "cell_type": "markdown",
   "metadata": {},
   "source": [
    "### Notes"
   ]
  },
  {
   "cell_type": "code",
   "execution_count": null,
   "metadata": {},
   "outputs": [],
   "source": [
    "# Doing the .clip(0,20) has a huge impact on training the model\n",
    "# In other words, dealing with outliers is very important\n",
    "# Too many features does not necessarily improve the model. Can cause overfitting and deteriorate validation scores."
   ]
  }
 ],
 "metadata": {
  "kernelspec": {
   "display_name": "Python 3",
   "language": "python",
   "name": "python3"
  },
  "language_info": {
   "codemirror_mode": {
    "name": "ipython",
    "version": 3
   },
   "file_extension": ".py",
   "mimetype": "text/x-python",
   "name": "python",
   "nbconvert_exporter": "python",
   "pygments_lexer": "ipython3",
   "version": "3.6.7"
  }
 },
 "nbformat": 4,
 "nbformat_minor": 2
}
